{
 "cells": [
  {
   "cell_type": "code",
   "execution_count": 1,
   "id": "c19450bf-72db-4f94-a667-f8d8af60c58e",
   "metadata": {},
   "outputs": [],
   "source": [
    "import os\n",
    "os.environ[\"CUDA_VISIBLE_DEVICES\"] = \"0\"\n",
    "import numpy as np\n",
    "from learnMSA import msa_hmm\n",
    "from matplotlib import pyplot as plt"
   ]
  },
  {
   "cell_type": "markdown",
   "id": "6c715bf4-a1bb-40b3-95bf-67a61b1916fa",
   "metadata": {},
   "source": [
    "## MSA HMM Interactive\n",
    "\n",
    "1. Fit n models, keep the best and align\n",
    "2. Compare to a reference\n",
    "3. Visualize the HMM\n",
    "\n",
    "Change the variables in the following cell to fit your needs."
   ]
  },
  {
   "cell_type": "code",
   "execution_count": 2,
   "id": "59efc747-cd9a-47bc-a38c-ad654566b172",
   "metadata": {},
   "outputs": [],
   "source": [
    "# your fasta file with unaligned sequences\n",
    "train_filename = \"../MSA-HMM-Analysis/data/homfam/train/egf.fasta\"\n",
    "\n",
    "# reference file with aligned sequences that have matching IDs to seqs in the train_file\n",
    "# replace with empty string if no reference is available\n",
    "ref_filename = \"../MSA-HMM-Analysis/data/homfam/refs/egf.ref\"\n",
    "\n",
    "# number of independently trained models\n",
    "num_models = 5"
   ]
  },
  {
   "cell_type": "markdown",
   "id": "a95e9512-4a21-4288-b94f-863012b5ec52",
   "metadata": {},
   "source": [
    "## Training"
   ]
  },
  {
   "cell_type": "code",
   "execution_count": 3,
   "id": "220ba014-6078-4ebe-8e05-3be96ca03101",
   "metadata": {},
   "outputs": [],
   "source": [
    "def print_and_plot(alignment, \n",
    "                   max_seq = 20, \n",
    "                   seqs_to_plot = [0,1,2], \n",
    "                   seq_ids = False, \n",
    "                   plot_model=True, \n",
    "                   plot_anc_probs=True,\n",
    "                   plot_logo=True):\n",
    "    # print the alignment\n",
    "    msa = alignment.to_string()\n",
    "    i = [l.name for l in alignment.encoder_model.layers].index(\"AncProbsLayer\")\n",
    "    anc_probs_layer = alignment.encoder_model.layers[i]\n",
    "    ds = msa_hmm.train.make_dataset(alignment.indices, \n",
    "                            alignment.batch_generator,\n",
    "                            alignment.batch_size, \n",
    "                            shuffle=False)\n",
    "    ll = alignment.model.predict(ds) + alignment.prior\n",
    "    for i,s in enumerate(msa[:max_seq]):\n",
    "        tau = anc_probs_layer.make_tau(alignment.indices[i])\n",
    "        param_string = \"l=%.2f\" % (ll[i]) + \"_t=%.2f\" % tau\n",
    "        if seq_ids:\n",
    "            print(f\">{alignment.fasta_file.seq_ids[i]} \"+param_string)\n",
    "        else:\n",
    "            print(\">\"+param_string)\n",
    "        print(s)\n",
    "    if len(msa) > max_seq:\n",
    "        print(len(msa) - max_seq, \"sequences omitted.\")\n",
    "    if plot_model:\n",
    "        #plot the model\n",
    "        fig = plt.figure(frameon=False)\n",
    "        ax = fig.add_axes([0, 0, 1, 1])\n",
    "        msa_hmm.vis.plot_hmm(alignment, ax, \n",
    "                 seq_indices=alignment.indices[seqs_to_plot],\n",
    "                 path_colors=[\"#CC6600\", \"#0000cc\", \"#00cccc\"])   \n",
    "    if plot_anc_probs:\n",
    "        msa_hmm.vis.plot_anc_probs(best_alignment, seqs=seqs_to_plot)\n",
    "    if plot_logo:\n",
    "        fig, ax = plt.subplots()\n",
    "        msa_hmm.vis.make_logo(best_alignment, ax)"
   ]
  },
  {
   "cell_type": "code",
   "execution_count": 4,
   "id": "f3484e00-40ed-46a9-a493-1f583bb00373",
   "metadata": {},
   "outputs": [
    {
     "name": "stdout",
     "output_type": "stream",
     "text": [
      "Training of 5  models on file egf.fasta\n",
      "Configuration:\n",
      "num_models : 5 , transitioner : ProfileHMMTransitioner(transition_init=ListWrapper([DictWrapper({'begin_to_match': <learnMSA.msa_hmm.Initializers.EntryInitializer object at 0x7f9b99d55640>, 'match_to_end': <learnMSA.msa_hmm.Initializers.ExitInitializer object at 0x7f9bb71dc5e0>, 'match_to_match': <learnMSA.msa_hmm.Initializers.MatchTransitionInitializer object at 0x7f9b99c91d00>, 'match_to_insert': <learnMSA.msa_hmm.Initializers.MatchTransitionInitializer object at 0x7f9b99c91e20>, 'insert_to_match': <tensorflow.python.ops.init_ops_v2.Constant object at 0x7f9b99c91220>, 'insert_to_insert': <tensorflow.python.ops.init_ops_v2.Constant object at 0x7f9b99c912e0>, 'match_to_delete': <learnMSA.msa_hmm.Initializers.MatchTransitionInitializer object at 0x7f9b99c91ca0>, 'delete_to_match': <tensorflow.python.ops.init_ops_v2.Constant object at 0x7f9b99c91df0>, 'delete_to_delete': <tensorflow.python.ops.init_ops_v2.Constant object at 0x7f9b99c91700>, 'left_flank_loop': <tensorflow.python.ops.init_ops_v2.Constant object at 0x7f9b99c91a30>, 'left_flank_exit': <tensorflow.python.ops.init_ops_v2.Constant object at 0x7f9b99c919d0>, 'right_flank_loop': <tensorflow.python.ops.init_ops_v2.Constant object at 0x7f9b99c91940>, 'right_flank_exit': <tensorflow.python.ops.init_ops_v2.Constant object at 0x7f9b99c91970>, 'unannotated_segment_loop': <tensorflow.python.ops.init_ops_v2.Constant object at 0x7f9b99c91760>, 'unannotated_segment_exit': <tensorflow.python.ops.init_ops_v2.Constant object at 0x7f9b99c91a90>, 'end_to_unannotated_segment': <tensorflow.python.ops.init_ops_v2.Constant object at 0x7f9b99c91460>, 'end_to_right_flank': <tensorflow.python.ops.init_ops_v2.Constant object at 0x7f9b99c91430>, 'end_to_terminal': <tensorflow.python.ops.init_ops_v2.Constant object at 0x7f9b99c913a0>}), DictWrapper({'begin_to_match': <learnMSA.msa_hmm.Initializers.EntryInitializer object at 0x7f9b99c91400>, 'match_to_end': <learnMSA.msa_hmm.Initializers.ExitInitializer object at 0x7f9b99c913d0>, 'match_to_match': <learnMSA.msa_hmm.Initializers.MatchTransitionInitializer object at 0x7f9b99c91340>, 'match_to_insert': <learnMSA.msa_hmm.Initializers.MatchTransitionInitializer object at 0x7f9b99c911f0>, 'insert_to_match': <tensorflow.python.ops.init_ops_v2.Constant object at 0x7f9b99c91b80>, 'insert_to_insert': <tensorflow.python.ops.init_ops_v2.Constant object at 0x7f9b99c91bb0>, 'match_to_delete': <learnMSA.msa_hmm.Initializers.MatchTransitionInitializer object at 0x7f9b99c91eb0>, 'delete_to_match': <tensorflow.python.ops.init_ops_v2.Constant object at 0x7f9b99c914c0>, 'delete_to_delete': <tensorflow.python.ops.init_ops_v2.Constant object at 0x7f9b99c915b0>, 'left_flank_loop': <tensorflow.python.ops.init_ops_v2.Constant object at 0x7f9b99c91550>, 'left_flank_exit': <tensorflow.python.ops.init_ops_v2.Constant object at 0x7f9b99c91490>, 'right_flank_loop': <tensorflow.python.ops.init_ops_v2.Constant object at 0x7f9b99c91c70>, 'right_flank_exit': <tensorflow.python.ops.init_ops_v2.Constant object at 0x7f9b99c91d90>, 'unannotated_segment_loop': <tensorflow.python.ops.init_ops_v2.Constant object at 0x7f9b99c918e0>, 'unannotated_segment_exit': <tensorflow.python.ops.init_ops_v2.Constant object at 0x7f9b99c91850>, 'end_to_unannotated_segment': <tensorflow.python.ops.init_ops_v2.Constant object at 0x7f9b99c917f0>, 'end_to_right_flank': <tensorflow.python.ops.init_ops_v2.Constant object at 0x7f9b99c91190>, 'end_to_terminal': <tensorflow.python.ops.init_ops_v2.Constant object at 0x7f9b99c91130>}), DictWrapper({'begin_to_match': <learnMSA.msa_hmm.Initializers.EntryInitializer object at 0x7f9b99c910d0>, 'match_to_end': <learnMSA.msa_hmm.Initializers.ExitInitializer object at 0x7f9b99c910a0>, 'match_to_match': <learnMSA.msa_hmm.Initializers.MatchTransitionInitializer object at 0x7f9b99c91070>, 'match_to_insert': <learnMSA.msa_hmm.Initializers.MatchTransitionInitializer object at 0x7f9bb40d71c0>, 'insert_to_match': <tensorflow.python.ops.init_ops_v2.Constant object at 0x7f9bb412a040>, 'insert_to_insert': <tensorflow.python.ops.init_ops_v2.Constant object at 0x7f9bb412a340>, 'match_to_delete': <learnMSA.msa_hmm.Initializers.MatchTransitionInitializer object at 0x7f9bb412a880>, 'delete_to_match': <tensorflow.python.ops.init_ops_v2.Constant object at 0x7f9bb412afd0>, 'delete_to_delete': <tensorflow.python.ops.init_ops_v2.Constant object at 0x7f9bb412a8e0>, 'left_flank_loop': <tensorflow.python.ops.init_ops_v2.Constant object at 0x7f9bb412ad90>, 'left_flank_exit': <tensorflow.python.ops.init_ops_v2.Constant object at 0x7f9b99c96ac0>, 'right_flank_loop': <tensorflow.python.ops.init_ops_v2.Constant object at 0x7f9b99c96a30>, 'right_flank_exit': <tensorflow.python.ops.init_ops_v2.Constant object at 0x7f9b99c96be0>, 'unannotated_segment_loop': <tensorflow.python.ops.init_ops_v2.Constant object at 0x7f9b99c96c10>, 'unannotated_segment_exit': <tensorflow.python.ops.init_ops_v2.Constant object at 0x7f9b99c96ca0>, 'end_to_unannotated_segment': <tensorflow.python.ops.init_ops_v2.Constant object at 0x7f9b99c96d00>, 'end_to_right_flank': <tensorflow.python.ops.init_ops_v2.Constant object at 0x7f9b99c96fd0>, 'end_to_terminal': <tensorflow.python.ops.init_ops_v2.Constant object at 0x7f9b99c96e80>}), DictWrapper({'begin_to_match': <learnMSA.msa_hmm.Initializers.EntryInitializer object at 0x7f9b99c96ee0>, 'match_to_end': <learnMSA.msa_hmm.Initializers.ExitInitializer object at 0x7f9b99c96f40>, 'match_to_match': <learnMSA.msa_hmm.Initializers.MatchTransitionInitializer object at 0x7f9b99c96f70>, 'match_to_insert': <learnMSA.msa_hmm.Initializers.MatchTransitionInitializer object at 0x7f9b99c96df0>, 'insert_to_match': <tensorflow.python.ops.init_ops_v2.Constant object at 0x7f9b99c96e50>, 'insert_to_insert': <tensorflow.python.ops.init_ops_v2.Constant object at 0x7f9b99c96a90>, 'match_to_delete': <learnMSA.msa_hmm.Initializers.MatchTransitionInitializer object at 0x7f9b99c967f0>, 'delete_to_match': <tensorflow.python.ops.init_ops_v2.Constant object at 0x7f9b99c96940>, 'delete_to_delete': <tensorflow.python.ops.init_ops_v2.Constant object at 0x7f9b99c96910>, 'left_flank_loop': <tensorflow.python.ops.init_ops_v2.Constant object at 0x7f9b99c968b0>, 'left_flank_exit': <tensorflow.python.ops.init_ops_v2.Constant object at 0x7f9b99c96850>, 'right_flank_loop': <tensorflow.python.ops.init_ops_v2.Constant object at 0x7f9b99c96f10>, 'right_flank_exit': <tensorflow.python.ops.init_ops_v2.Constant object at 0x7f9b99c96bb0>, 'unannotated_segment_loop': <tensorflow.python.ops.init_ops_v2.Constant object at 0x7f9b99c96d60>, 'unannotated_segment_exit': <tensorflow.python.ops.init_ops_v2.Constant object at 0x7f9b99c96790>, 'end_to_unannotated_segment': <tensorflow.python.ops.init_ops_v2.Constant object at 0x7f9b99c96520>, 'end_to_right_flank': <tensorflow.python.ops.init_ops_v2.Constant object at 0x7f9b99c96760>, 'end_to_terminal': <tensorflow.python.ops.init_ops_v2.Constant object at 0x7f9b99c96550>}), DictWrapper({'begin_to_match': <learnMSA.msa_hmm.Initializers.EntryInitializer object at 0x7f9b99c96610>, 'match_to_end': <learnMSA.msa_hmm.Initializers.ExitInitializer object at 0x7f9b99c965e0>, 'match_to_match': <learnMSA.msa_hmm.Initializers.MatchTransitionInitializer object at 0x7f9b99c965b0>, 'match_to_insert': <learnMSA.msa_hmm.Initializers.MatchTransitionInitializer object at 0x7f9b99c96670>, 'insert_to_match': <tensorflow.python.ops.init_ops_v2.Constant object at 0x7f9b99c96070>, 'insert_to_insert': <tensorflow.python.ops.init_ops_v2.Constant object at 0x7f9b99c960d0>, 'match_to_delete': <learnMSA.msa_hmm.Initializers.MatchTransitionInitializer object at 0x7f9b99c96130>, 'delete_to_match': <tensorflow.python.ops.init_ops_v2.Constant object at 0x7f9b99c96190>, 'delete_to_delete': <tensorflow.python.ops.init_ops_v2.Constant object at 0x7f9b99c961f0>, 'left_flank_loop': <tensorflow.python.ops.init_ops_v2.Constant object at 0x7f9b99c96250>, 'left_flank_exit': <tensorflow.python.ops.init_ops_v2.Constant object at 0x7f9b99c962b0>, 'right_flank_loop': <tensorflow.python.ops.init_ops_v2.Constant object at 0x7f9b99c96310>, 'right_flank_exit': <tensorflow.python.ops.init_ops_v2.Constant object at 0x7f9b99c96370>, 'unannotated_segment_loop': <tensorflow.python.ops.init_ops_v2.Constant object at 0x7f9b99c963d0>, 'unannotated_segment_exit': <tensorflow.python.ops.init_ops_v2.Constant object at 0x7f9b99c96430>, 'end_to_unannotated_segment': <tensorflow.python.ops.init_ops_v2.Constant object at 0x7f9b99c96490>, 'end_to_right_flank': <tensorflow.python.ops.init_ops_v2.Constant object at 0x7f9b99c964f0>, 'end_to_terminal': <tensorflow.python.ops.init_ops_v2.Constant object at 0x7f9b99c90070>})]), flank_init=ListWrapper([<tensorflow.python.keras.initializers.initializers_v2.Zeros object at 0x7f9bb71dc160>, <tensorflow.python.keras.initializers.initializers_v2.Zeros object at 0x7f9b99c90100>, <tensorflow.python.keras.initializers.initializers_v2.Zeros object at 0x7f9b99c90130>, <tensorflow.python.keras.initializers.initializers_v2.Zeros object at 0x7f9b99c90160>, <tensorflow.python.keras.initializers.initializers_v2.Zeros object at 0x7f9b99c90190>]), prior=ProfileHMMTransitionPrior(match_comp=1, insert_comp=1, delete_comp=1, alpha_flank=7000, alpha_single=1000000000.0, alpha_frag=10000.0), frozen_kernels={}) , emitter : ProfileHMMEmitter(emission_init=ListWrapper([<learnMSA.msa_hmm.Initializers.EmissionInitializer object at 0x7f9b99c90a60>, <learnMSA.msa_hmm.Initializers.EmissionInitializer object at 0x7f9b99c90af0>, <learnMSA.msa_hmm.Initializers.EmissionInitializer object at 0x7f9b99c90b50>, <learnMSA.msa_hmm.Initializers.EmissionInitializer object at 0x7f9b99c90bb0>, <learnMSA.msa_hmm.Initializers.EmissionInitializer object at 0x7f9b99c90c10>]), insertion_init=ListWrapper([<tensorflow.python.ops.init_ops_v2.Constant object at 0x7f9b99c90250>, <tensorflow.python.ops.init_ops_v2.Constant object at 0x7f9b99c90cd0>, <tensorflow.python.ops.init_ops_v2.Constant object at 0x7f9b99c90d30>, <tensorflow.python.ops.init_ops_v2.Constant object at 0x7f9b99c90d90>, <tensorflow.python.ops.init_ops_v2.Constant object at 0x7f9b99c90df0>]), prior=AminoAcidPrior(comp_count=1), frozen_insertions=True, )\n",
      " , max_surgery_runs : 4 , length_init_quantile : 0.5 , surgery_quantile : 0.5\n",
      " , min_surgery_seqs : 10000.0 , len_mul : 0.8 , batch_size : <function get_adaptive_batch_size at 0x7f9a53aefe50>\n",
      " , learning_rate : 0.1 , epochs : [10, 2, 10] , use_prior : True\n",
      " , dirichlet_mix_comp_count : 1 , use_anc_probs : True , trainable_rate_matrices : False\n",
      " , encoder_initializer : [<tensorflow.python.ops.init_ops_v2.Constant object at 0x7f9b99c90f40>, <tensorflow.python.ops.init_ops_v2.Constant object at 0x7f99482e01f0>, <tensorflow.python.ops.init_ops_v2.Constant object at 0x7f99482e0250>] , surgery_del : 0.5 , surgery_ins : 0.5\n",
      " , num_rate_matrices : 1 , per_matrix_rate : False , matrix_rate_l2 : 0.0\n",
      " , shared_rate_matrix : False , equilibrium_sample : False , transposed : False\n",
      "\n",
      "Fitting models of lengths [24, 24, 24, 24, 24] on 7774 sequences.\n",
      "Batch size= 512 Learning rate= 0.1\n",
      "Using 1 GPUs.\n",
      "Epoch 1/10\n",
      "17/17 - 8s - loss: 98.8626 - loglik: -9.4436e+01 - logprior: -4.4264e+00\n",
      "Epoch 2/10\n",
      "17/17 - 1s - loss: 76.0928 - loglik: -7.4572e+01 - logprior: -1.5205e+00\n",
      "Epoch 3/10\n",
      "17/17 - 1s - loss: 65.6764 - loglik: -6.4055e+01 - logprior: -1.6211e+00\n",
      "Epoch 4/10\n",
      "17/17 - 1s - loss: 63.8085 - loglik: -6.2169e+01 - logprior: -1.6399e+00\n",
      "Epoch 5/10\n",
      "17/17 - 1s - loss: 63.2221 - loglik: -6.1680e+01 - logprior: -1.5420e+00\n",
      "Epoch 6/10\n",
      "17/17 - 1s - loss: 63.0168 - loglik: -6.1464e+01 - logprior: -1.5525e+00\n",
      "Epoch 7/10\n",
      "17/17 - 1s - loss: 62.8396 - loglik: -6.1304e+01 - logprior: -1.5355e+00\n",
      "Epoch 8/10\n",
      "17/17 - 1s - loss: 62.8226 - loglik: -6.1304e+01 - logprior: -1.5187e+00\n",
      "Epoch 9/10\n",
      "17/17 - 1s - loss: 62.7519 - loglik: -6.1242e+01 - logprior: -1.5103e+00\n",
      "Epoch 10/10\n",
      "17/17 - 1s - loss: 62.7238 - loglik: -6.1225e+01 - logprior: -1.4985e+00\n"
     ]
    },
    {
     "ename": "ValueError",
     "evalue": "Tensor's shape (68, 5, 1024, 51) is not compatible with supplied shape [68, 5120, 1024, 51]",
     "output_type": "error",
     "traceback": [
      "\u001b[0;31m---------------------------------------------------------------------------\u001b[0m",
      "\u001b[0;31mValueError\u001b[0m                                Traceback (most recent call last)",
      "\u001b[0;32m<ipython-input-4-997d8c156ec7>\u001b[0m in \u001b[0;36m<module>\u001b[0;34m\u001b[0m\n\u001b[1;32m      1\u001b[0m \u001b[0mout_filename\u001b[0m \u001b[0;34m=\u001b[0m \u001b[0;34m\"test/data/interactive.alignment.fasta\"\u001b[0m\u001b[0;34m\u001b[0m\u001b[0;34m\u001b[0m\u001b[0m\n\u001b[1;32m      2\u001b[0m \u001b[0mconfig\u001b[0m \u001b[0;34m=\u001b[0m \u001b[0mmsa_hmm\u001b[0m\u001b[0;34m.\u001b[0m\u001b[0mconfig\u001b[0m\u001b[0;34m.\u001b[0m\u001b[0mmake_default\u001b[0m\u001b[0;34m(\u001b[0m\u001b[0mnum_models\u001b[0m\u001b[0;34m)\u001b[0m\u001b[0;34m\u001b[0m\u001b[0;34m\u001b[0m\u001b[0m\n\u001b[0;32m----> 3\u001b[0;31m best_alignment, r = msa_hmm.align.run_learnMSA(train_filename,\n\u001b[0m\u001b[1;32m      4\u001b[0m                                               \u001b[0mout_filename\u001b[0m\u001b[0;34m,\u001b[0m\u001b[0;34m\u001b[0m\u001b[0;34m\u001b[0m\u001b[0m\n\u001b[1;32m      5\u001b[0m                                               \u001b[0mconfig\u001b[0m\u001b[0;34m,\u001b[0m\u001b[0;34m\u001b[0m\u001b[0;34m\u001b[0m\u001b[0m\n",
      "\u001b[0;32m~/brain/learnMSA/learnMSA/msa_hmm/Align.py\u001b[0m in \u001b[0;36mrun_learnMSA\u001b[0;34m(train_filename, out_filename, config, model_generator, batch_generator, ref_filename, verbose)\u001b[0m\n\u001b[1;32m    155\u001b[0m     \u001b[0;32mtry\u001b[0m\u001b[0;34m:\u001b[0m\u001b[0;34m\u001b[0m\u001b[0;34m\u001b[0m\u001b[0m\n\u001b[1;32m    156\u001b[0m         \u001b[0mt_a\u001b[0m \u001b[0;34m=\u001b[0m \u001b[0mtime\u001b[0m\u001b[0;34m.\u001b[0m\u001b[0mtime\u001b[0m\u001b[0;34m(\u001b[0m\u001b[0;34m)\u001b[0m\u001b[0;34m\u001b[0m\u001b[0;34m\u001b[0m\u001b[0m\n\u001b[0;32m--> 157\u001b[0;31m         alignment = fit_and_align(fasta_file, \n\u001b[0m\u001b[1;32m    158\u001b[0m                                   \u001b[0mconfig\u001b[0m\u001b[0;34m=\u001b[0m\u001b[0mconfig\u001b[0m\u001b[0;34m,\u001b[0m\u001b[0;34m\u001b[0m\u001b[0;34m\u001b[0m\u001b[0m\n\u001b[1;32m    159\u001b[0m                                   \u001b[0mmodel_generator\u001b[0m\u001b[0;34m=\u001b[0m\u001b[0mmodel_generator\u001b[0m\u001b[0;34m,\u001b[0m\u001b[0;34m\u001b[0m\u001b[0;34m\u001b[0m\u001b[0m\n",
      "\u001b[0;32m~/brain/learnMSA/learnMSA/msa_hmm/Align.py\u001b[0m in \u001b[0;36mfit_and_align\u001b[0;34m(fasta_file, config, model_generator, batch_generator, subset, verbose)\u001b[0m\n\u001b[1;32m     66\u001b[0m                                \u001b[0mmodel\u001b[0m\u001b[0;34m=\u001b[0m\u001b[0mmodel\u001b[0m\u001b[0;34m,\u001b[0m\u001b[0;34m\u001b[0m\u001b[0;34m\u001b[0m\u001b[0m\n\u001b[1;32m     67\u001b[0m                                build=\"lazy\" if last_iteration else \"eager\")\n\u001b[0;32m---> 68\u001b[0;31m         \u001b[0mloglik\u001b[0m\u001b[0;34m,\u001b[0m \u001b[0mprior\u001b[0m \u001b[0;34m=\u001b[0m \u001b[0mcompute_loglik\u001b[0m\u001b[0;34m(\u001b[0m\u001b[0malignment\u001b[0m\u001b[0;34m)\u001b[0m\u001b[0;34m\u001b[0m\u001b[0;34m\u001b[0m\u001b[0m\n\u001b[0m\u001b[1;32m     69\u001b[0m         \u001b[0;32mif\u001b[0m \u001b[0mverbose\u001b[0m\u001b[0;34m:\u001b[0m\u001b[0;34m\u001b[0m\u001b[0;34m\u001b[0m\u001b[0m\n\u001b[1;32m     70\u001b[0m             print(\"Fitted models with MAP estimates = \", \n",
      "\u001b[0;32m~/brain/learnMSA/learnMSA/msa_hmm/Align.py\u001b[0m in \u001b[0;36mcompute_loglik\u001b[0;34m(alignment, max_ll_estimate)\u001b[0m\n\u001b[1;32m    824\u001b[0m     \u001b[0mloglik\u001b[0m \u001b[0;34m=\u001b[0m \u001b[0mnp\u001b[0m\u001b[0;34m.\u001b[0m\u001b[0mzeros\u001b[0m\u001b[0;34m(\u001b[0m\u001b[0;34m(\u001b[0m\u001b[0malignment\u001b[0m\u001b[0;34m.\u001b[0m\u001b[0mmsa_hmm_layer\u001b[0m\u001b[0;34m.\u001b[0m\u001b[0mcell\u001b[0m\u001b[0;34m.\u001b[0m\u001b[0mnum_models\u001b[0m\u001b[0;34m)\u001b[0m\u001b[0;34m)\u001b[0m\u001b[0;34m\u001b[0m\u001b[0;34m\u001b[0m\u001b[0m\n\u001b[1;32m    825\u001b[0m     \u001b[0;32mfor\u001b[0m \u001b[0mx\u001b[0m\u001b[0;34m,\u001b[0m \u001b[0m_\u001b[0m \u001b[0;32min\u001b[0m \u001b[0mds\u001b[0m\u001b[0;34m:\u001b[0m\u001b[0;34m\u001b[0m\u001b[0;34m\u001b[0m\u001b[0m\n\u001b[0;32m--> 826\u001b[0;31m         \u001b[0mloglik\u001b[0m \u001b[0;34m+=\u001b[0m \u001b[0mnp\u001b[0m\u001b[0;34m.\u001b[0m\u001b[0msum\u001b[0m\u001b[0;34m(\u001b[0m\u001b[0malignment\u001b[0m\u001b[0;34m.\u001b[0m\u001b[0mmodel\u001b[0m\u001b[0;34m(\u001b[0m\u001b[0mx\u001b[0m\u001b[0;34m)\u001b[0m\u001b[0;34m,\u001b[0m \u001b[0maxis\u001b[0m\u001b[0;34m=\u001b[0m\u001b[0;36m1\u001b[0m\u001b[0;34m)\u001b[0m\u001b[0;34m\u001b[0m\u001b[0;34m\u001b[0m\u001b[0m\n\u001b[0m\u001b[1;32m    827\u001b[0m     \u001b[0mloglik\u001b[0m \u001b[0;34m/=\u001b[0m \u001b[0mll_subset\u001b[0m\u001b[0;34m.\u001b[0m\u001b[0msize\u001b[0m\u001b[0;34m\u001b[0m\u001b[0;34m\u001b[0m\u001b[0m\n\u001b[1;32m    828\u001b[0m     \u001b[0mprior\u001b[0m \u001b[0;34m=\u001b[0m \u001b[0malignment\u001b[0m\u001b[0;34m.\u001b[0m\u001b[0mmsa_hmm_layer\u001b[0m\u001b[0;34m.\u001b[0m\u001b[0mcell\u001b[0m\u001b[0;34m.\u001b[0m\u001b[0mget_prior_log_density\u001b[0m\u001b[0;34m(\u001b[0m\u001b[0;34m)\u001b[0m\u001b[0;34m.\u001b[0m\u001b[0mnumpy\u001b[0m\u001b[0;34m(\u001b[0m\u001b[0;34m)\u001b[0m\u001b[0;34m/\u001b[0m\u001b[0malignment\u001b[0m\u001b[0;34m.\u001b[0m\u001b[0mfasta_file\u001b[0m\u001b[0;34m.\u001b[0m\u001b[0mnum_seq\u001b[0m\u001b[0;34m\u001b[0m\u001b[0;34m\u001b[0m\u001b[0m\n",
      "\u001b[0;32m/opt/conda/lib/python3.9/site-packages/tensorflow/python/keras/engine/base_layer.py\u001b[0m in \u001b[0;36m__call__\u001b[0;34m(self, *args, **kwargs)\u001b[0m\n\u001b[1;32m   1028\u001b[0m         with autocast_variable.enable_auto_cast_variables(\n\u001b[1;32m   1029\u001b[0m             self._compute_dtype_object):\n\u001b[0;32m-> 1030\u001b[0;31m           \u001b[0moutputs\u001b[0m \u001b[0;34m=\u001b[0m \u001b[0mcall_fn\u001b[0m\u001b[0;34m(\u001b[0m\u001b[0minputs\u001b[0m\u001b[0;34m,\u001b[0m \u001b[0;34m*\u001b[0m\u001b[0margs\u001b[0m\u001b[0;34m,\u001b[0m \u001b[0;34m**\u001b[0m\u001b[0mkwargs\u001b[0m\u001b[0;34m)\u001b[0m\u001b[0;34m\u001b[0m\u001b[0;34m\u001b[0m\u001b[0m\n\u001b[0m\u001b[1;32m   1031\u001b[0m \u001b[0;34m\u001b[0m\u001b[0m\n\u001b[1;32m   1032\u001b[0m         \u001b[0;32mif\u001b[0m \u001b[0mself\u001b[0m\u001b[0;34m.\u001b[0m\u001b[0m_activity_regularizer\u001b[0m\u001b[0;34m:\u001b[0m\u001b[0;34m\u001b[0m\u001b[0;34m\u001b[0m\u001b[0m\n",
      "\u001b[0;32m/opt/conda/lib/python3.9/site-packages/tensorflow/python/keras/engine/functional.py\u001b[0m in \u001b[0;36mcall\u001b[0;34m(self, inputs, training, mask)\u001b[0m\n\u001b[1;32m    418\u001b[0m         \u001b[0ma\u001b[0m \u001b[0mlist\u001b[0m \u001b[0mof\u001b[0m \u001b[0mtensors\u001b[0m \u001b[0;32mif\u001b[0m \u001b[0mthere\u001b[0m \u001b[0mare\u001b[0m \u001b[0mmore\u001b[0m \u001b[0mthan\u001b[0m \u001b[0mone\u001b[0m \u001b[0moutputs\u001b[0m\u001b[0;34m.\u001b[0m\u001b[0;34m\u001b[0m\u001b[0;34m\u001b[0m\u001b[0m\n\u001b[1;32m    419\u001b[0m     \"\"\"\n\u001b[0;32m--> 420\u001b[0;31m     return self._run_internal_graph(\n\u001b[0m\u001b[1;32m    421\u001b[0m         inputs, training=training, mask=mask)\n\u001b[1;32m    422\u001b[0m \u001b[0;34m\u001b[0m\u001b[0m\n",
      "\u001b[0;32m/opt/conda/lib/python3.9/site-packages/tensorflow/python/keras/engine/functional.py\u001b[0m in \u001b[0;36m_run_internal_graph\u001b[0;34m(self, inputs, training, mask)\u001b[0m\n\u001b[1;32m    554\u001b[0m \u001b[0;34m\u001b[0m\u001b[0m\n\u001b[1;32m    555\u001b[0m         \u001b[0margs\u001b[0m\u001b[0;34m,\u001b[0m \u001b[0mkwargs\u001b[0m \u001b[0;34m=\u001b[0m \u001b[0mnode\u001b[0m\u001b[0;34m.\u001b[0m\u001b[0mmap_arguments\u001b[0m\u001b[0;34m(\u001b[0m\u001b[0mtensor_dict\u001b[0m\u001b[0;34m)\u001b[0m\u001b[0;34m\u001b[0m\u001b[0;34m\u001b[0m\u001b[0m\n\u001b[0;32m--> 556\u001b[0;31m         \u001b[0moutputs\u001b[0m \u001b[0;34m=\u001b[0m \u001b[0mnode\u001b[0m\u001b[0;34m.\u001b[0m\u001b[0mlayer\u001b[0m\u001b[0;34m(\u001b[0m\u001b[0;34m*\u001b[0m\u001b[0margs\u001b[0m\u001b[0;34m,\u001b[0m \u001b[0;34m**\u001b[0m\u001b[0mkwargs\u001b[0m\u001b[0;34m)\u001b[0m\u001b[0;34m\u001b[0m\u001b[0;34m\u001b[0m\u001b[0m\n\u001b[0m\u001b[1;32m    557\u001b[0m \u001b[0;34m\u001b[0m\u001b[0m\n\u001b[1;32m    558\u001b[0m         \u001b[0;31m# Update tensor_dict.\u001b[0m\u001b[0;34m\u001b[0m\u001b[0;34m\u001b[0m\u001b[0;34m\u001b[0m\u001b[0m\n",
      "\u001b[0;32m/opt/conda/lib/python3.9/site-packages/tensorflow/python/keras/engine/base_layer.py\u001b[0m in \u001b[0;36m__call__\u001b[0;34m(self, *args, **kwargs)\u001b[0m\n\u001b[1;32m   1028\u001b[0m         with autocast_variable.enable_auto_cast_variables(\n\u001b[1;32m   1029\u001b[0m             self._compute_dtype_object):\n\u001b[0;32m-> 1030\u001b[0;31m           \u001b[0moutputs\u001b[0m \u001b[0;34m=\u001b[0m \u001b[0mcall_fn\u001b[0m\u001b[0;34m(\u001b[0m\u001b[0minputs\u001b[0m\u001b[0;34m,\u001b[0m \u001b[0;34m*\u001b[0m\u001b[0margs\u001b[0m\u001b[0;34m,\u001b[0m \u001b[0;34m**\u001b[0m\u001b[0mkwargs\u001b[0m\u001b[0;34m)\u001b[0m\u001b[0;34m\u001b[0m\u001b[0;34m\u001b[0m\u001b[0m\n\u001b[0m\u001b[1;32m   1031\u001b[0m \u001b[0;34m\u001b[0m\u001b[0m\n\u001b[1;32m   1032\u001b[0m         \u001b[0;32mif\u001b[0m \u001b[0mself\u001b[0m\u001b[0;34m.\u001b[0m\u001b[0m_activity_regularizer\u001b[0m\u001b[0;34m:\u001b[0m\u001b[0;34m\u001b[0m\u001b[0;34m\u001b[0m\u001b[0m\n",
      "\u001b[0;32m~/brain/learnMSA/learnMSA/msa_hmm/MsaHmmLayer.py\u001b[0m in \u001b[0;36mcall\u001b[0;34m(self, inputs, training)\u001b[0m\n\u001b[1;32m     27\u001b[0m         \u001b[0minputs\u001b[0m \u001b[0;34m=\u001b[0m \u001b[0mtf\u001b[0m\u001b[0;34m.\u001b[0m\u001b[0mcast\u001b[0m\u001b[0;34m(\u001b[0m\u001b[0minputs\u001b[0m\u001b[0;34m,\u001b[0m \u001b[0mself\u001b[0m\u001b[0;34m.\u001b[0m\u001b[0mdtype\u001b[0m\u001b[0;34m)\u001b[0m\u001b[0;34m\u001b[0m\u001b[0;34m\u001b[0m\u001b[0m\n\u001b[1;32m     28\u001b[0m         \u001b[0minputs\u001b[0m \u001b[0;34m=\u001b[0m \u001b[0mtf\u001b[0m\u001b[0;34m.\u001b[0m\u001b[0mreshape\u001b[0m\u001b[0;34m(\u001b[0m\u001b[0minputs\u001b[0m\u001b[0;34m,\u001b[0m \u001b[0;34m(\u001b[0m\u001b[0;34m-\u001b[0m\u001b[0;36m1\u001b[0m\u001b[0;34m,\u001b[0m \u001b[0mtf\u001b[0m\u001b[0;34m.\u001b[0m\u001b[0mshape\u001b[0m\u001b[0;34m(\u001b[0m\u001b[0minputs\u001b[0m\u001b[0;34m)\u001b[0m\u001b[0;34m[\u001b[0m\u001b[0;34m-\u001b[0m\u001b[0;36m2\u001b[0m\u001b[0;34m]\u001b[0m\u001b[0;34m,\u001b[0m \u001b[0mtf\u001b[0m\u001b[0;34m.\u001b[0m\u001b[0mshape\u001b[0m\u001b[0;34m(\u001b[0m\u001b[0minputs\u001b[0m\u001b[0;34m)\u001b[0m\u001b[0;34m[\u001b[0m\u001b[0;34m-\u001b[0m\u001b[0;36m1\u001b[0m\u001b[0;34m]\u001b[0m\u001b[0;34m)\u001b[0m\u001b[0;34m)\u001b[0m\u001b[0;34m\u001b[0m\u001b[0;34m\u001b[0m\u001b[0m\n\u001b[0;32m---> 29\u001b[0;31m         _, _, loglik = self.rnn(inputs, \n\u001b[0m\u001b[1;32m     30\u001b[0m                                 \u001b[0minitial_state\u001b[0m\u001b[0;34m=\u001b[0m\u001b[0minitial_state\u001b[0m\u001b[0;34m,\u001b[0m\u001b[0;34m\u001b[0m\u001b[0;34m\u001b[0m\u001b[0m\n\u001b[1;32m     31\u001b[0m                                 training=training)\n",
      "\u001b[0;32m/opt/conda/lib/python3.9/site-packages/tensorflow/python/keras/layers/recurrent.py\u001b[0m in \u001b[0;36m__call__\u001b[0;34m(self, inputs, initial_state, constants, **kwargs)\u001b[0m\n\u001b[1;32m    723\u001b[0m       \u001b[0;32mif\u001b[0m \u001b[0mconstants\u001b[0m \u001b[0;32mis\u001b[0m \u001b[0;32mnot\u001b[0m \u001b[0;32mNone\u001b[0m\u001b[0;34m:\u001b[0m\u001b[0;34m\u001b[0m\u001b[0;34m\u001b[0m\u001b[0m\n\u001b[1;32m    724\u001b[0m         \u001b[0mkwargs\u001b[0m\u001b[0;34m[\u001b[0m\u001b[0;34m'constants'\u001b[0m\u001b[0;34m]\u001b[0m \u001b[0;34m=\u001b[0m \u001b[0mconstants\u001b[0m\u001b[0;34m\u001b[0m\u001b[0;34m\u001b[0m\u001b[0m\n\u001b[0;32m--> 725\u001b[0;31m       \u001b[0;32mreturn\u001b[0m \u001b[0msuper\u001b[0m\u001b[0;34m(\u001b[0m\u001b[0mRNN\u001b[0m\u001b[0;34m,\u001b[0m \u001b[0mself\u001b[0m\u001b[0;34m)\u001b[0m\u001b[0;34m.\u001b[0m\u001b[0m__call__\u001b[0m\u001b[0;34m(\u001b[0m\u001b[0minputs\u001b[0m\u001b[0;34m,\u001b[0m \u001b[0;34m**\u001b[0m\u001b[0mkwargs\u001b[0m\u001b[0;34m)\u001b[0m\u001b[0;34m\u001b[0m\u001b[0;34m\u001b[0m\u001b[0m\n\u001b[0m\u001b[1;32m    726\u001b[0m \u001b[0;34m\u001b[0m\u001b[0m\n\u001b[1;32m    727\u001b[0m   def call(self,\n",
      "\u001b[0;32m/opt/conda/lib/python3.9/site-packages/tensorflow/python/keras/engine/base_layer.py\u001b[0m in \u001b[0;36m__call__\u001b[0;34m(self, *args, **kwargs)\u001b[0m\n\u001b[1;32m   1028\u001b[0m         with autocast_variable.enable_auto_cast_variables(\n\u001b[1;32m   1029\u001b[0m             self._compute_dtype_object):\n\u001b[0;32m-> 1030\u001b[0;31m           \u001b[0moutputs\u001b[0m \u001b[0;34m=\u001b[0m \u001b[0mcall_fn\u001b[0m\u001b[0;34m(\u001b[0m\u001b[0minputs\u001b[0m\u001b[0;34m,\u001b[0m \u001b[0;34m*\u001b[0m\u001b[0margs\u001b[0m\u001b[0;34m,\u001b[0m \u001b[0;34m**\u001b[0m\u001b[0mkwargs\u001b[0m\u001b[0;34m)\u001b[0m\u001b[0;34m\u001b[0m\u001b[0;34m\u001b[0m\u001b[0m\n\u001b[0m\u001b[1;32m   1031\u001b[0m \u001b[0;34m\u001b[0m\u001b[0m\n\u001b[1;32m   1032\u001b[0m         \u001b[0;32mif\u001b[0m \u001b[0mself\u001b[0m\u001b[0;34m.\u001b[0m\u001b[0m_activity_regularizer\u001b[0m\u001b[0;34m:\u001b[0m\u001b[0;34m\u001b[0m\u001b[0;34m\u001b[0m\u001b[0m\n",
      "\u001b[0;32m/opt/conda/lib/python3.9/site-packages/tensorflow/python/keras/layers/recurrent.py\u001b[0m in \u001b[0;36mcall\u001b[0;34m(self, inputs, mask, training, initial_state, constants)\u001b[0m\n\u001b[1;32m    800\u001b[0m           \u001b[0mnew_states\u001b[0m \u001b[0;34m=\u001b[0m \u001b[0;34m[\u001b[0m\u001b[0mnew_states\u001b[0m\u001b[0;34m]\u001b[0m\u001b[0;34m\u001b[0m\u001b[0;34m\u001b[0m\u001b[0m\n\u001b[1;32m    801\u001b[0m         \u001b[0;32mreturn\u001b[0m \u001b[0moutput\u001b[0m\u001b[0;34m,\u001b[0m \u001b[0mnew_states\u001b[0m\u001b[0;34m\u001b[0m\u001b[0;34m\u001b[0m\u001b[0m\n\u001b[0;32m--> 802\u001b[0;31m     last_output, outputs, states = backend.rnn(\n\u001b[0m\u001b[1;32m    803\u001b[0m         \u001b[0mstep\u001b[0m\u001b[0;34m,\u001b[0m\u001b[0;34m\u001b[0m\u001b[0;34m\u001b[0m\u001b[0m\n\u001b[1;32m    804\u001b[0m         \u001b[0minputs\u001b[0m\u001b[0;34m,\u001b[0m\u001b[0;34m\u001b[0m\u001b[0;34m\u001b[0m\u001b[0m\n",
      "\u001b[0;32m/opt/conda/lib/python3.9/site-packages/tensorflow/python/util/dispatch.py\u001b[0m in \u001b[0;36mwrapper\u001b[0;34m(*args, **kwargs)\u001b[0m\n\u001b[1;32m    204\u001b[0m     \u001b[0;34m\"\"\"Call target, and fall back on dispatchers if there is a TypeError.\"\"\"\u001b[0m\u001b[0;34m\u001b[0m\u001b[0;34m\u001b[0m\u001b[0m\n\u001b[1;32m    205\u001b[0m     \u001b[0;32mtry\u001b[0m\u001b[0;34m:\u001b[0m\u001b[0;34m\u001b[0m\u001b[0;34m\u001b[0m\u001b[0m\n\u001b[0;32m--> 206\u001b[0;31m       \u001b[0;32mreturn\u001b[0m \u001b[0mtarget\u001b[0m\u001b[0;34m(\u001b[0m\u001b[0;34m*\u001b[0m\u001b[0margs\u001b[0m\u001b[0;34m,\u001b[0m \u001b[0;34m**\u001b[0m\u001b[0mkwargs\u001b[0m\u001b[0;34m)\u001b[0m\u001b[0;34m\u001b[0m\u001b[0;34m\u001b[0m\u001b[0m\n\u001b[0m\u001b[1;32m    207\u001b[0m     \u001b[0;32mexcept\u001b[0m \u001b[0;34m(\u001b[0m\u001b[0mTypeError\u001b[0m\u001b[0;34m,\u001b[0m \u001b[0mValueError\u001b[0m\u001b[0;34m)\u001b[0m\u001b[0;34m:\u001b[0m\u001b[0;34m\u001b[0m\u001b[0;34m\u001b[0m\u001b[0m\n\u001b[1;32m    208\u001b[0m       \u001b[0;31m# Note: convert_to_eager_tensor currently raises a ValueError, not a\u001b[0m\u001b[0;34m\u001b[0m\u001b[0;34m\u001b[0m\u001b[0;34m\u001b[0m\u001b[0m\n",
      "\u001b[0;32m/opt/conda/lib/python3.9/site-packages/tensorflow/python/keras/backend.py\u001b[0m in \u001b[0;36mrnn\u001b[0;34m(step_function, inputs, initial_states, go_backwards, mask, constants, unroll, input_length, time_major, zero_output_for_mask)\u001b[0m\n\u001b[1;32m   4543\u001b[0m     \u001b[0;32mreturn\u001b[0m \u001b[0moutput_\u001b[0m\u001b[0;34m\u001b[0m\u001b[0;34m\u001b[0m\u001b[0m\n\u001b[1;32m   4544\u001b[0m \u001b[0;34m\u001b[0m\u001b[0m\n\u001b[0;32m-> 4545\u001b[0;31m   \u001b[0moutputs\u001b[0m \u001b[0;34m=\u001b[0m \u001b[0mnest\u001b[0m\u001b[0;34m.\u001b[0m\u001b[0mmap_structure\u001b[0m\u001b[0;34m(\u001b[0m\u001b[0mset_shape\u001b[0m\u001b[0;34m,\u001b[0m \u001b[0moutputs\u001b[0m\u001b[0;34m)\u001b[0m\u001b[0;34m\u001b[0m\u001b[0;34m\u001b[0m\u001b[0m\n\u001b[0m\u001b[1;32m   4546\u001b[0m \u001b[0;34m\u001b[0m\u001b[0m\n\u001b[1;32m   4547\u001b[0m   \u001b[0;32mif\u001b[0m \u001b[0;32mnot\u001b[0m \u001b[0mtime_major\u001b[0m\u001b[0;34m:\u001b[0m\u001b[0;34m\u001b[0m\u001b[0;34m\u001b[0m\u001b[0m\n",
      "\u001b[0;32m/opt/conda/lib/python3.9/site-packages/tensorflow/python/util/nest.py\u001b[0m in \u001b[0;36mmap_structure\u001b[0;34m(func, *structure, **kwargs)\u001b[0m\n\u001b[1;32m    865\u001b[0m \u001b[0;34m\u001b[0m\u001b[0m\n\u001b[1;32m    866\u001b[0m   return pack_sequence_as(\n\u001b[0;32m--> 867\u001b[0;31m       \u001b[0mstructure\u001b[0m\u001b[0;34m[\u001b[0m\u001b[0;36m0\u001b[0m\u001b[0;34m]\u001b[0m\u001b[0;34m,\u001b[0m \u001b[0;34m[\u001b[0m\u001b[0mfunc\u001b[0m\u001b[0;34m(\u001b[0m\u001b[0;34m*\u001b[0m\u001b[0mx\u001b[0m\u001b[0;34m)\u001b[0m \u001b[0;32mfor\u001b[0m \u001b[0mx\u001b[0m \u001b[0;32min\u001b[0m \u001b[0mentries\u001b[0m\u001b[0;34m]\u001b[0m\u001b[0;34m,\u001b[0m\u001b[0;34m\u001b[0m\u001b[0;34m\u001b[0m\u001b[0m\n\u001b[0m\u001b[1;32m    868\u001b[0m       expand_composites=expand_composites)\n\u001b[1;32m    869\u001b[0m \u001b[0;34m\u001b[0m\u001b[0m\n",
      "\u001b[0;32m/opt/conda/lib/python3.9/site-packages/tensorflow/python/util/nest.py\u001b[0m in \u001b[0;36m<listcomp>\u001b[0;34m(.0)\u001b[0m\n\u001b[1;32m    865\u001b[0m \u001b[0;34m\u001b[0m\u001b[0m\n\u001b[1;32m    866\u001b[0m   return pack_sequence_as(\n\u001b[0;32m--> 867\u001b[0;31m       \u001b[0mstructure\u001b[0m\u001b[0;34m[\u001b[0m\u001b[0;36m0\u001b[0m\u001b[0;34m]\u001b[0m\u001b[0;34m,\u001b[0m \u001b[0;34m[\u001b[0m\u001b[0mfunc\u001b[0m\u001b[0;34m(\u001b[0m\u001b[0;34m*\u001b[0m\u001b[0mx\u001b[0m\u001b[0;34m)\u001b[0m \u001b[0;32mfor\u001b[0m \u001b[0mx\u001b[0m \u001b[0;32min\u001b[0m \u001b[0mentries\u001b[0m\u001b[0;34m]\u001b[0m\u001b[0;34m,\u001b[0m\u001b[0;34m\u001b[0m\u001b[0;34m\u001b[0m\u001b[0m\n\u001b[0m\u001b[1;32m    868\u001b[0m       expand_composites=expand_composites)\n\u001b[1;32m    869\u001b[0m \u001b[0;34m\u001b[0m\u001b[0m\n",
      "\u001b[0;32m/opt/conda/lib/python3.9/site-packages/tensorflow/python/keras/backend.py\u001b[0m in \u001b[0;36mset_shape\u001b[0;34m(output_)\u001b[0m\n\u001b[1;32m   4540\u001b[0m       \u001b[0mshape\u001b[0m\u001b[0;34m[\u001b[0m\u001b[0;36m0\u001b[0m\u001b[0;34m]\u001b[0m \u001b[0;34m=\u001b[0m \u001b[0mtime_steps\u001b[0m\u001b[0;34m\u001b[0m\u001b[0;34m\u001b[0m\u001b[0m\n\u001b[1;32m   4541\u001b[0m       \u001b[0mshape\u001b[0m\u001b[0;34m[\u001b[0m\u001b[0;36m1\u001b[0m\u001b[0;34m]\u001b[0m \u001b[0;34m=\u001b[0m \u001b[0mbatch\u001b[0m\u001b[0;34m\u001b[0m\u001b[0;34m\u001b[0m\u001b[0m\n\u001b[0;32m-> 4542\u001b[0;31m       \u001b[0moutput_\u001b[0m\u001b[0;34m.\u001b[0m\u001b[0mset_shape\u001b[0m\u001b[0;34m(\u001b[0m\u001b[0mshape\u001b[0m\u001b[0;34m)\u001b[0m\u001b[0;34m\u001b[0m\u001b[0;34m\u001b[0m\u001b[0m\n\u001b[0m\u001b[1;32m   4543\u001b[0m     \u001b[0;32mreturn\u001b[0m \u001b[0moutput_\u001b[0m\u001b[0;34m\u001b[0m\u001b[0;34m\u001b[0m\u001b[0m\n\u001b[1;32m   4544\u001b[0m \u001b[0;34m\u001b[0m\u001b[0m\n",
      "\u001b[0;32m/opt/conda/lib/python3.9/site-packages/tensorflow/python/framework/ops.py\u001b[0m in \u001b[0;36mset_shape\u001b[0;34m(self, shape)\u001b[0m\n\u001b[1;32m   1236\u001b[0m   \u001b[0;32mdef\u001b[0m \u001b[0mset_shape\u001b[0m\u001b[0;34m(\u001b[0m\u001b[0mself\u001b[0m\u001b[0;34m,\u001b[0m \u001b[0mshape\u001b[0m\u001b[0;34m)\u001b[0m\u001b[0;34m:\u001b[0m\u001b[0;34m\u001b[0m\u001b[0;34m\u001b[0m\u001b[0m\n\u001b[1;32m   1237\u001b[0m     \u001b[0;32mif\u001b[0m \u001b[0;32mnot\u001b[0m \u001b[0mself\u001b[0m\u001b[0;34m.\u001b[0m\u001b[0mshape\u001b[0m\u001b[0;34m.\u001b[0m\u001b[0mis_compatible_with\u001b[0m\u001b[0;34m(\u001b[0m\u001b[0mshape\u001b[0m\u001b[0;34m)\u001b[0m\u001b[0;34m:\u001b[0m\u001b[0;34m\u001b[0m\u001b[0;34m\u001b[0m\u001b[0m\n\u001b[0;32m-> 1238\u001b[0;31m       raise ValueError(\n\u001b[0m\u001b[1;32m   1239\u001b[0m           \u001b[0;34m\"Tensor's shape %s is not compatible with supplied shape %s\"\u001b[0m \u001b[0;34m%\u001b[0m\u001b[0;34m\u001b[0m\u001b[0;34m\u001b[0m\u001b[0m\n\u001b[1;32m   1240\u001b[0m           (self.shape, shape))\n",
      "\u001b[0;31mValueError\u001b[0m: Tensor's shape (68, 5, 1024, 51) is not compatible with supplied shape [68, 5120, 1024, 51]"
     ]
    }
   ],
   "source": [
    "out_filename = \"test/data/interactive.alignment.fasta\"\n",
    "config = msa_hmm.config.make_default(num_models)\n",
    "best_alignment, r = msa_hmm.align.run_learnMSA(train_filename,\n",
    "                                              out_filename,\n",
    "                                              config, \n",
    "                                              ref_filename=ref_filename, \n",
    "                                              verbose=True)\n",
    "print_and_plot(best_alignment)"
   ]
  },
  {
   "cell_type": "code",
   "execution_count": null,
   "id": "3e3af1c7-2a2d-4bbd-927e-8c2aaaf85d89",
   "metadata": {},
   "outputs": [],
   "source": [
    "import tensorflow as tf\n",
    "\n",
    "cell = msa_hmm.MsaHmmCell([30])\n",
    "msa_hmm_layer = msa_hmm.MsaHmmLayer(cell, 1)\n",
    "seq = np.random.randint(20, size=(1,1,300))\n",
    "seq = tf.one_hot(seq, 26)\n",
    "msa_hmm_layer(seq)"
   ]
  },
  {
   "cell_type": "code",
   "execution_count": null,
   "id": "8cd867d5-93f6-46e0-9e07-9b47e006a4d6",
   "metadata": {},
   "outputs": [],
   "source": []
  }
 ],
 "metadata": {
  "kernelspec": {
   "display_name": "Python 3",
   "language": "python",
   "name": "python3"
  },
  "language_info": {
   "codemirror_mode": {
    "name": "ipython",
    "version": 3
   },
   "file_extension": ".py",
   "mimetype": "text/x-python",
   "name": "python",
   "nbconvert_exporter": "python",
   "pygments_lexer": "ipython3",
   "version": "3.9.2"
  }
 },
 "nbformat": 4,
 "nbformat_minor": 5
}
