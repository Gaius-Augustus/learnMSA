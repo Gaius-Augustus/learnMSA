{
 "cells": [
  {
   "cell_type": "code",
   "execution_count": 6,
   "id": "41cb517e-0107-4228-89e8-264358755368",
   "metadata": {},
   "outputs": [],
   "source": [
    "import os\n",
    "os.environ[\"CUDA_VISIBLE_DEVICES\"] = \"0\"\n",
    "import tensorflow as tf\n",
    "import numpy as np\n",
    "from learnMSA import msa_hmm\n",
    "from matplotlib import pyplot as plt\n",
    "import pandas as pd"
   ]
  },
  {
   "cell_type": "markdown",
   "id": "6c715bf4-a1bb-40b3-95bf-67a61b1916fa",
   "metadata": {},
   "source": [
    "## MSA HMM Interactive\n",
    "\n",
    "1. Fit n models, keep the best and align\n",
    "2. Compare to a reference\n",
    "3. Visualize the HMM\n",
    "\n",
    "Change the variables in the following cell to fit your needs."
   ]
  },
  {
   "cell_type": "code",
   "execution_count": 7,
   "id": "59efc747-cd9a-47bc-a38c-ad654566b172",
   "metadata": {},
   "outputs": [],
   "source": [
    "# Your fasta file with unaligned sequences.\n",
    "\n",
    "dataset = \"ext_homfam_medium\"\n",
    "family = \"B_lectin\"\n",
    "train_filename = f\"../snakeMSA/data/{dataset}/train/{family}\"\n",
    "#train_filename = \"test/data/egf.fasta\"\n",
    "\n",
    "# Reference file with aligned sequences that have matching IDs to (potentially a subset of) the \n",
    "# sequences in the train_file.\n",
    "# Replace with empty string if no reference is available.\n",
    "ref_filename = f\"../snakeMSA/data/{dataset}/refs/{family}\"\n",
    "#ref_filename = \"test/data/egf.ref\"\n",
    "\n",
    "# The number of independently trained models.\n",
    "num_models = 10"
   ]
  },
  {
   "cell_type": "markdown",
   "id": "a95e9512-4a21-4288-b94f-863012b5ec52",
   "metadata": {},
   "source": [
    "## Training"
   ]
  },
  {
   "cell_type": "code",
   "execution_count": null,
   "id": "ce9ab05b-4bf0-48d3-bf1c-7c27050852f8",
   "metadata": {},
   "outputs": [],
   "source": [
    "!mamba install famsa t-coffee mmseqs2 -y"
   ]
  },
  {
   "cell_type": "code",
   "execution_count": 3,
   "id": "1ba2cbbc-39d4-48d1-b512-61cf4223c875",
   "metadata": {},
   "outputs": [],
   "source": [
    "#clustering based sequence weights\n",
    "!mmseqs easy-cluster ../snakeMSA/data/{dataset}/train/{family} test_cluster tmp --cov-mode 1 --min-seq-id 0.6 -v 0"
   ]
  },
  {
   "cell_type": "code",
   "execution_count": 8,
   "id": "d6109d96-309c-4898-b3c8-f6defe8c97a4",
   "metadata": {},
   "outputs": [],
   "source": [
    "clustering = pd.read_csv('test_cluster_cluster.tsv', sep=\"\\t\", names=[\"representative\", \"sequence\"])\n",
    "cluster_counts = clustering.groupby(\"representative\").size().to_frame(\"cluster_size\")\n",
    "clustering = clustering.merge(cluster_counts, how=\"left\", on=\"representative\")\n",
    "clustering[\"weight\"] = 1/clustering[\"cluster_size\"]\n",
    "clustering = clustering.set_index(\"sequence\")"
   ]
  },
  {
   "cell_type": "code",
   "execution_count": 9,
   "id": "1ef974e8-6e98-42a7-bdc3-cf45ad2e6120",
   "metadata": {},
   "outputs": [
    {
     "data": {
      "text/html": [
       "<div>\n",
       "<style scoped>\n",
       "    .dataframe tbody tr th:only-of-type {\n",
       "        vertical-align: middle;\n",
       "    }\n",
       "\n",
       "    .dataframe tbody tr th {\n",
       "        vertical-align: top;\n",
       "    }\n",
       "\n",
       "    .dataframe thead th {\n",
       "        text-align: right;\n",
       "    }\n",
       "</style>\n",
       "<table border=\"1\" class=\"dataframe\">\n",
       "  <thead>\n",
       "    <tr style=\"text-align: right;\">\n",
       "      <th></th>\n",
       "      <th>representative</th>\n",
       "      <th>cluster_size</th>\n",
       "      <th>weight</th>\n",
       "    </tr>\n",
       "    <tr>\n",
       "      <th>sequence</th>\n",
       "      <th></th>\n",
       "      <th></th>\n",
       "      <th></th>\n",
       "    </tr>\n",
       "  </thead>\n",
       "  <tbody>\n",
       "    <tr>\n",
       "      <th>PQM36978.1/76-185</th>\n",
       "      <td>PQM36978.1/76-185</td>\n",
       "      <td>15</td>\n",
       "      <td>0.066667</td>\n",
       "    </tr>\n",
       "    <tr>\n",
       "      <th>XP_021826607.1/111-220</th>\n",
       "      <td>PQM36978.1/76-185</td>\n",
       "      <td>15</td>\n",
       "      <td>0.066667</td>\n",
       "    </tr>\n",
       "    <tr>\n",
       "      <th>VVA33926.1/97-206</th>\n",
       "      <td>PQM36978.1/76-185</td>\n",
       "      <td>15</td>\n",
       "      <td>0.066667</td>\n",
       "    </tr>\n",
       "    <tr>\n",
       "      <th>XP_008227125.1/90-199</th>\n",
       "      <td>PQM36978.1/76-185</td>\n",
       "      <td>15</td>\n",
       "      <td>0.066667</td>\n",
       "    </tr>\n",
       "    <tr>\n",
       "      <th>ONI13682.1/107-214</th>\n",
       "      <td>PQM36978.1/76-185</td>\n",
       "      <td>15</td>\n",
       "      <td>0.066667</td>\n",
       "    </tr>\n",
       "    <tr>\n",
       "      <th>...</th>\n",
       "      <td>...</td>\n",
       "      <td>...</td>\n",
       "      <td>...</td>\n",
       "    </tr>\n",
       "    <tr>\n",
       "      <th>PUZ74852.1/79-156</th>\n",
       "      <td>TVU08192.1/75-158</td>\n",
       "      <td>4</td>\n",
       "      <td>0.250000</td>\n",
       "    </tr>\n",
       "    <tr>\n",
       "      <th>PVH65907.1/79-156</th>\n",
       "      <td>TVU08192.1/75-158</td>\n",
       "      <td>4</td>\n",
       "      <td>0.250000</td>\n",
       "    </tr>\n",
       "    <tr>\n",
       "      <th>XP_015901406.1/87-168</th>\n",
       "      <td>XP_015901406.1/87-168</td>\n",
       "      <td>1</td>\n",
       "      <td>1.000000</td>\n",
       "    </tr>\n",
       "    <tr>\n",
       "      <th>XP_002978913.2/123-205</th>\n",
       "      <td>XP_002978913.2/123-205</td>\n",
       "      <td>1</td>\n",
       "      <td>1.000000</td>\n",
       "    </tr>\n",
       "    <tr>\n",
       "      <th>AMH40477.1/95-193</th>\n",
       "      <td>AMH40477.1/95-193</td>\n",
       "      <td>1</td>\n",
       "      <td>1.000000</td>\n",
       "    </tr>\n",
       "  </tbody>\n",
       "</table>\n",
       "<p>18019 rows × 3 columns</p>\n",
       "</div>"
      ],
      "text/plain": [
       "                                representative  cluster_size    weight\n",
       "sequence                                                              \n",
       "PQM36978.1/76-185            PQM36978.1/76-185            15  0.066667\n",
       "XP_021826607.1/111-220       PQM36978.1/76-185            15  0.066667\n",
       "VVA33926.1/97-206            PQM36978.1/76-185            15  0.066667\n",
       "XP_008227125.1/90-199        PQM36978.1/76-185            15  0.066667\n",
       "ONI13682.1/107-214           PQM36978.1/76-185            15  0.066667\n",
       "...                                        ...           ...       ...\n",
       "PUZ74852.1/79-156            TVU08192.1/75-158             4  0.250000\n",
       "PVH65907.1/79-156            TVU08192.1/75-158             4  0.250000\n",
       "XP_015901406.1/87-168    XP_015901406.1/87-168             1  1.000000\n",
       "XP_002978913.2/123-205  XP_002978913.2/123-205             1  1.000000\n",
       "AMH40477.1/95-193            AMH40477.1/95-193             1  1.000000\n",
       "\n",
       "[18019 rows x 3 columns]"
      ]
     },
     "execution_count": 9,
     "metadata": {},
     "output_type": "execute_result"
    }
   ],
   "source": [
    "clustering"
   ]
  },
  {
   "cell_type": "code",
   "execution_count": 10,
   "id": "1e3fd69b-78b3-4bed-88bf-09ac2fe5ecb1",
   "metadata": {},
   "outputs": [
    {
     "data": {
      "text/html": [
       "<div>\n",
       "<style scoped>\n",
       "    .dataframe tbody tr th:only-of-type {\n",
       "        vertical-align: middle;\n",
       "    }\n",
       "\n",
       "    .dataframe tbody tr th {\n",
       "        vertical-align: top;\n",
       "    }\n",
       "\n",
       "    .dataframe thead th {\n",
       "        text-align: right;\n",
       "    }\n",
       "</style>\n",
       "<table border=\"1\" class=\"dataframe\">\n",
       "  <thead>\n",
       "    <tr style=\"text-align: right;\">\n",
       "      <th></th>\n",
       "      <th>representative</th>\n",
       "      <th>cluster_size</th>\n",
       "      <th>weight</th>\n",
       "    </tr>\n",
       "    <tr>\n",
       "      <th>sequence</th>\n",
       "      <th></th>\n",
       "      <th></th>\n",
       "      <th></th>\n",
       "    </tr>\n",
       "  </thead>\n",
       "  <tbody>\n",
       "    <tr>\n",
       "      <th>1707266A/84-190</th>\n",
       "      <td>AAS94120.1/82-193</td>\n",
       "      <td>294</td>\n",
       "      <td>0.003401</td>\n",
       "    </tr>\n",
       "  </tbody>\n",
       "</table>\n",
       "</div>"
      ],
      "text/plain": [
       "                    representative  cluster_size    weight\n",
       "sequence                                                  \n",
       "1707266A/84-190  AAS94120.1/82-193           294  0.003401"
      ]
     },
     "execution_count": 10,
     "metadata": {},
     "output_type": "execute_result"
    }
   ],
   "source": [
    "clustering.loc[clustering.index == \"1707266A/84-190\"]"
   ]
  },
  {
   "cell_type": "code",
   "execution_count": 11,
   "id": "07306ffb-b5db-483f-a6b3-b061bd41a307",
   "metadata": {},
   "outputs": [
    {
     "data": {
      "text/plain": [
       "array([0.5       , 1.        , 0.5       , ..., 0.33333334, 0.125     ,\n",
       "       0.05882353], dtype=float32)"
      ]
     },
     "execution_count": 11,
     "metadata": {},
     "output_type": "execute_result"
    }
   ],
   "source": [
    "fasta_file = msa_hmm.fasta.Fasta(train_filename)\n",
    "ids = fasta_file.seq_ids\n",
    "for i in range(len(ids)):\n",
    "    if \"|\" in ids[i]:\n",
    "        pos = ids[i].rfind(\"|\")\n",
    "        if pos != -1:\n",
    "            ids[i] = ids[i][pos+1:]\n",
    "sequence_weights = np.array(clustering.loc[ids].weight, dtype=np.float32)\n",
    "sequence_weights"
   ]
  },
  {
   "cell_type": "code",
   "execution_count": 12,
   "id": "2f4fc2ea-4b8d-4889-a78c-9df951c2176f",
   "metadata": {},
   "outputs": [
    {
     "data": {
      "text/plain": [
       "1835.0001"
      ]
     },
     "execution_count": 12,
     "metadata": {},
     "output_type": "execute_result"
    }
   ],
   "source": [
    "np.sum(sequence_weights)"
   ]
  },
  {
   "cell_type": "code",
   "execution_count": null,
   "id": "304d6416-4642-49c7-8be1-92970cf55b70",
   "metadata": {
    "tags": []
   },
   "outputs": [
    {
     "name": "stdout",
     "output_type": "stream",
     "text": [
      "Training of 10 models on file B_lectin\n",
      "Configuration: \n",
      "{\n",
      "num_models : 10\n",
      "transitioner : ProfileHMMTransitioner(\n",
      " transition_init=\n",
      "    {\n",
      "    begin_to_match : DefaultEntry() , match_to_end : DefaultExit() , \n",
      "    match_to_match : DefaultMatchTransition(1) , match_to_insert : DefaultMatchTransition(-1) , \n",
      "    insert_to_match : Norm(0, 0.1) , insert_to_insert : Norm(-0.5, 0.1) , \n",
      "    match_to_delete : DefaultMatchTransition(-1) , delete_to_match : Norm(0, 0.1) , \n",
      "    delete_to_delete : Norm(-0.5, 0.1) , left_flank_loop : Norm(0, 0.1) , \n",
      "    left_flank_exit : Norm(-1, 0.1) , right_flank_loop : Norm(0, 0.1) , \n",
      "    right_flank_exit : Norm(-1, 0.1) , unannotated_segment_loop : Norm(0, 0.1) , \n",
      "    unannotated_segment_exit : Norm(-1, 0.1) , end_to_unannotated_segment : Norm(-9, 0.1) , \n",
      "    end_to_right_flank : Norm(0, 0.1) , end_to_terminal : Norm(0, 0.1)\n",
      "    },\n",
      " flank_init=Const(0.0),\n",
      " prior=ProfileHMMTransitionPrior(match_comp=1, insert_comp=1, delete_comp=1, alpha_flank=7000, alpha_single=1000000000.0, alpha_global=10000.0, alpha_flank_compl=1, alpha_single_compl=1, alpha_global_compl=1),\n",
      " frozen_kernels={})\n",
      "emitter : ProfileHMMEmitter(\n",
      " emission_init=DefaultEmission(),\n",
      " insertion_init=Const(shape=(25,)),\n",
      " prior=AminoAcidPrior(comp_count=1),\n",
      " frozen_insertions=True, )\n",
      "max_surgery_runs : 4\n",
      "length_init_quantile : 0.5\n",
      "surgery_quantile : 0.5\n",
      "min_surgery_seqs : 100000.0\n",
      "len_mul : 0.8\n",
      "batch_size : <function get_adaptive_batch_size at 0x7fc34c114790>\n",
      "learning_rate : 0.1\n",
      "epochs : [10, 2, 10]\n",
      "use_prior : True\n",
      "dirichlet_mix_comp_count : 1\n",
      "use_anc_probs : True\n",
      "trainable_rate_matrices : False\n",
      "surgery_del : 0.5\n",
      "surgery_ins : 0.5\n",
      "num_rate_matrices : 1\n",
      "per_matrix_rate : False\n",
      "matrix_rate_l2 : 0.0\n",
      "shared_rate_matrix : False\n",
      "equilibrium_sample : False\n",
      "transposed : False\n",
      "encoder_initializer : [Const(-3), Const(shape=(10, 20, 20)), Const(shape=(10, 20))]\n",
      "model_criterion : AIC\n",
      "encoder_weight_extractor : None\n",
      "experimental_evolve_upper_half : False\n",
      "allow_user_keys_in_config : False\n",
      "}\n",
      "Fitting models of lengths [82 78 85 76 81 74 77 77 76 79] on 18019 sequences.\n",
      "Batch size= 512 Learning rate= 0.1\n",
      "Using sequence weights  [0.5        1.         0.5        ... 0.33333334 0.125      0.05882353] .\n",
      "Using 1 GPUs.\n"
     ]
    }
   ],
   "source": [
    "out_filename = \"test/data/interactive.alignment.fasta\"\n",
    "config = msa_hmm.config.make_default(num_models)\n",
    "\n",
    "config[\"min_surgery_seqs\"] = 1e5\n",
    "\n",
    "#maybe change alignment mode parameters\n",
    "transitioners = config[\"transitioner\"] if hasattr(config[\"transitioner\"], '__iter__') else [config[\"transitioner\"]]\n",
    "#for trans in transitioners:\n",
    "#        trans.prior.alpha_flank = 100\n",
    "#        trans.prior.alpha_single = 100\n",
    "#        trans.prior.alpha_global = 30\n",
    "        #trans.prior.alpha_flank_compl = 0.1\n",
    "        #trans.prior.alpha_single_compl = 0.1\n",
    "        #trans.prior.alpha_global_compl = 0.1\n",
    "\n",
    "alignment_model = msa_hmm.align.run_learnMSA(train_filename,\n",
    "                                              out_filename,\n",
    "                                              config, \n",
    "                                              sequence_weights=sequence_weights,\n",
    "                                              verbose=True,\n",
    "                                              align_insertions=True)\n",
    "#msa_hmm.vis.print_and_plot(alignment_model, alignment_model.best_model)"
   ]
  },
  {
   "cell_type": "code",
   "execution_count": null,
   "id": "ceefb9fa-1d18-48d1-991d-12bce94a7529",
   "metadata": {},
   "outputs": [],
   "source": [
    "!id_list=$(sed -n '/^>/p' {ref_filename} | sed 's/^.//') ; export MAX_N_PID_4_TCOFFEE=10000000 ; t_coffee -other_pg seq_reformat -in test/data/interactive.alignment.fasta -action +extract_seq_list ${{id_list[@]}} +rm_gap > test/data/interactive.projection.fasta"
   ]
  },
  {
   "cell_type": "code",
   "execution_count": null,
   "id": "4fb89f14-dd1f-4b28-8869-59ebc41a1778",
   "metadata": {},
   "outputs": [],
   "source": [
    "!t_coffee -other_pg aln_compare -al1 {ref_filename} -al2 test/data/interactive.projection.fasta -compare_mode sp"
   ]
  },
  {
   "cell_type": "code",
   "execution_count": 66,
   "id": "956785a1-17f6-4715-953c-46c881c93161",
   "metadata": {},
   "outputs": [
    {
     "name": "stdout",
     "output_type": "stream",
     "text": [
      "ext_homfam_medium B_lectin 97.5 97.5 96.3 96.3\n"
     ]
    }
   ],
   "source": [
    "!head ../snakeMSA/famsa/scores/{dataset}/{family}"
   ]
  },
  {
   "cell_type": "code",
   "execution_count": 67,
   "id": "acf82c02-b086-4838-83ca-8d78d7d65b44",
   "metadata": {},
   "outputs": [
    {
     "name": "stdout",
     "output_type": "stream",
     "text": [
      "ext_homfam_medium B_lectin 27.8 41.1 0.0 0.0\n"
     ]
    }
   ],
   "source": [
    "!head ../snakeMSA/learnMSA/scores/{dataset}/{family}"
   ]
  },
  {
   "cell_type": "code",
   "execution_count": 109,
   "id": "e1aeddfb-11dc-4fc1-9229-90750880e843",
   "metadata": {},
   "outputs": [
    {
     "name": "stdout",
     "output_type": "stream",
     "text": [
      ">P1_1jpc\n",
      "DNILYSGETLSTGEFLNYGSFVFIMQEDCNLVLYDVDKPIWATNTGG-LSRSCFLSMQTDGNLVVYNPSN\n",
      "KPIWASNTGGQNGNYVCILQKDRNVVIYGTDRWATGTHT-\n",
      ">P1_1bwud\n",
      "RNILTNDEGLYGGQSLDVNPYHLIMQEDCNLVLYDHSTAVWSSNTDIPGKKGCKAVLQSDGNFVVYDAEG\n",
      "ASLWASHSVRGNGNYVLVLQEDGNVVIYRSDIWSTNTYR-\n",
      ">P1_1npla\n",
      "DNILYSGETLSPGEFLNNGRYVFIMQEDCNLVLYDVDKPIWATNTGG-LDRRCHLSMQSDGNLVVYSPRN\n",
      "NPIWASNTGGENGNYVCVLQKDRNVVIYGTARWATGTNIH\n"
     ]
    }
   ],
   "source": [
    "!head ../snakeMSA/data/{dataset}/refs/{family}"
   ]
  },
  {
   "cell_type": "code",
   "execution_count": 110,
   "id": "194a278c-2907-4250-b501-1cdc3b79799b",
   "metadata": {},
   "outputs": [
    {
     "name": "stdout",
     "output_type": "stream",
     "text": [
      ">P1_1jpc\n",
      "dnilysgetlstgeflnygsfvfimqedcnlvlydvdkpiwatntggls-\n",
      "rscflsmqtdgnlvvynpsnkpiwasntggqngnyvcilqkdrnvviygt\n",
      "drwatgtht...\n",
      ">P1_1bwud\n",
      "rniltndeglyggqsldvnpyhlimqedcnlvlydhstavwssntdipgk\n",
      "kgckavlqsdgnfvvydaegaslwashsvrgngnyvlvlqedgnvviyrs\n",
      "diwstntyr...\n",
      ">P1_1npla\n",
      "dnilysgetlspgeflnngryvfimqedcnlvlydvdkpiwatn-tggld\n",
      "rrchlsmqsdgnlvvysprnnpiwasntggengnyvcvlqkdrnvviyg-\n",
      "-tarwatgtnih\n"
     ]
    }
   ],
   "source": [
    "!head -n 20 test/data/interactive.projection.fasta"
   ]
  },
  {
   "cell_type": "code",
   "execution_count": 111,
   "id": "8363c7ad-21cf-4bb2-86ec-c7363158f515",
   "metadata": {},
   "outputs": [
    {
     "name": "stdout",
     "output_type": "stream",
     "text": [
      ">P1_1jpc\n",
      "DNILYSGETLSTGEFLNYGSFVFIMQEDCNLVLYDVDKPIWATNTGGLSRSCFLSMQTDGNLVVYNPSNK\n",
      "PIWASNTGGQNGNYVCILQKDRNVVIYGTDRWATGTHT\n",
      ">P1_1bwud\n",
      "RNILTNDEGLYGGQSLDVNPYHLIMQEDCNLVLYDHSTAVWSSNTDIPGKKGCKAVLQSDGNFVVYDAEG\n",
      "ASLWASHSVRGNGNYVLVLQEDGNVVIYRSDIWSTNTYR\n",
      ">P1_1npla\n",
      "DNILYSGETLSPGEFLNNGRYVFIMQEDCNLVLYDVDKPIWATNTGGLDRRCHLSMQSDGNLVVYSPRNN\n",
      "PIWASNTGGENGNYVCVLQKDRNVVIYGTARWATGTNIH\n",
      ">KVI10412.1/337-445\n",
      "TVAWVANRETPIANKSGELTLNPDGVLVLRDSItNRIMWSSNATSTIQNPVARLLDTGNLMVvdgdDDSN\n",
      "DPENYIWQSFDHPTDTFLPDLKFGRNLKKGVVTNFTSWK\n",
      ">KVI10412.1/1035-1141\n",
      "TVAWVANREIPIRNNSGELTLHSDGVLVLRDSTtNTIVWSTSSPGTTTGNPVARLSDSGNLVVvNDDNEP\n",
      "ENYIWQSFDHPGDTVLPGMKFGRDLEKGIVTNVTSWK\n",
      ">KVI10412.1/1779-1884\n",
      "TVAWVANREIPIRNNSGELTLHSDGVLVLRDSTtNQVVWSSTSSETAENPVARLLDSGNLMVvDRDDGPE\n",
      "NYIWQSFDYPGDTALAGVKVGRNLERGVVTNLTSWK\n",
      ">KVI10412.1/2416-2523\n",
      "TVVWVANRETPIRNKTGELTLHPDGVLELRDTAtDIIVWSTNTKGSAQNLVARLLDSGNLVVidnDDDNQ\n"
     ]
    }
   ],
   "source": [
    "!head -n 20 ../snakeMSA/data/{dataset}/train/{family}"
   ]
  },
  {
   "cell_type": "code",
   "execution_count": null,
   "id": "930e282c-cfc9-4176-9dff-d82309146b56",
   "metadata": {},
   "outputs": [],
   "source": []
  }
 ],
 "metadata": {
  "kernelspec": {
   "display_name": "Python 3",
   "language": "python",
   "name": "python3"
  },
  "language_info": {
   "codemirror_mode": {
    "name": "ipython",
    "version": 3
   },
   "file_extension": ".py",
   "mimetype": "text/x-python",
   "name": "python",
   "nbconvert_exporter": "python",
   "pygments_lexer": "ipython3",
   "version": "3.9.2"
  }
 },
 "nbformat": 4,
 "nbformat_minor": 5
}
