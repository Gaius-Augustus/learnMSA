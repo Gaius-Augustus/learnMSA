{
 "cells": [
  {
   "cell_type": "code",
   "execution_count": 56,
   "id": "4d9df13a",
   "metadata": {},
   "outputs": [],
   "source": [
    "# tmp include\n",
    "import sys\n",
    "sys.path.insert(0, \"../TensorTree\")\n",
    "import tensortree \n",
    "tensortree.set_backend(\"tensorflow\")\n",
    "import numpy as np\n",
    "from learnMSA.msa_hmm.TreeLoss import tree_loss_KL\n",
    "import tensorflow as tf"
   ]
  },
  {
   "cell_type": "code",
   "execution_count": 158,
   "id": "0fc5c180",
   "metadata": {},
   "outputs": [
    {
     "data": {
      "image/png": "[encoded data removed]",
      "text/plain": [
       "<Figure size 640x480 with 1 Axes>"
      ]
     },
     "metadata": {},
     "output_type": "display_data"
    }
   ],
   "source": [
    "tree_handler = tensortree.TreeHandler.from_newick(\"((A:0.15,B:0.15)D:0.1,C:0.25)E;\")\n",
    "tree_handler.branch_lengths[...] = 0.\n",
    "tree_handler.draw()"
   ]
  },
  {
   "cell_type": "code",
   "execution_count": 163,
   "id": "99fccb20",
   "metadata": {},
   "outputs": [
    {
     "data": {
      "text/plain": [
       "(3, 1, 1, 3)"
      ]
     },
     "execution_count": 163,
     "metadata": {},
     "output_type": "execute_result"
    }
   ],
   "source": [
    "# leaves have shape (num_leaves, models, L, d)\n",
    "# here model = L = 1, d=3\n",
    "leaves = np.array([[0.6, 0.4, 0.], \n",
    "                   [0.4, 0.6, 0.], \n",
    "                   [0.1, 0.1, 0.8]], dtype=tensortree.util.default_dtype)\n",
    "# leaves_one_hot = np.array([[1, 0, 0], \n",
    "#                    [1, 0, 0], \n",
    "#                    [1, 0, 0]], dtype=tensortree.util.default_dtype)\n",
    "# leaves = leaves_one_hot\n",
    "#leaves = np.ones((3,3), dtype=tensortree.util.default_dtype)/3.\n",
    "leaves = leaves[:,np.newaxis,np.newaxis]\n",
    "leaf_names = ['A', 'B', 'C']\n",
    "leaves.shape"
   ]
  },
  {
   "cell_type": "code",
   "execution_count": 164,
   "id": "0c0f29db",
   "metadata": {},
   "outputs": [
    {
     "data": {
      "text/plain": [
       "(1, 3, 3)"
      ]
     },
     "execution_count": 164,
     "metadata": {},
     "output_type": "execute_result"
    }
   ],
   "source": [
    "rate_matrix = np.array([[[-1., 1./2, 1./2], \n",
    "                        [1./2, -1, 1./2], \n",
    "                        [1./2, 1./2, -1]]], dtype=tensortree.util.default_dtype)\n",
    "rate_matrix.shape"
   ]
  },
  {
   "cell_type": "code",
   "execution_count": 165,
   "id": "7ecfdbb6",
   "metadata": {},
   "outputs": [
    {
     "data": {
      "text/plain": [
       "<tf.Tensor: shape=(3, 1, 1, 3), dtype=float32, numpy=\n",
       "array([[[[0.4, 0.6, 0. ]]],\n",
       "\n",
       "\n",
       "       [[[0.6, 0.4, 0. ]]],\n",
       "\n",
       "\n",
       "       [[[0.5, 0.5, 0. ]]]], dtype=float32)>"
      ]
     },
     "execution_count": 165,
     "metadata": {},
     "output_type": "execute_result"
    }
   ],
   "source": [
    "leaf_out_marginal = tensortree.model.compute_leaf_out_marginals(leaves, \n",
    "                                                                tree_handler, \n",
    "                                                                rate_matrix, \n",
    "                                                                tree_handler.branch_lengths,\n",
    "                                                                equilibrium_logits=np.log([[1./3]*3]),\n",
    "                                                                leaf_names=leaf_names,\n",
    "                                                                leaves_are_probabilities=True, \n",
    "                                                                return_probabilities=True)\n",
    "leaf_out_marginal"
   ]
  },
  {
   "cell_type": "code",
   "execution_count": 166,
   "id": "b5916fb3",
   "metadata": {},
   "outputs": [
    {
     "data": {
      "text/plain": [
       "<tf.Tensor: shape=(), dtype=float32, numpy=0.5905408>"
      ]
     },
     "execution_count": 166,
     "metadata": {},
     "output_type": "execute_result"
    }
   ],
   "source": [
    "tree_loss_KL(leaves, leaf_out_marginal)"
   ]
  },
  {
   "cell_type": "markdown",
   "id": "6fef4fef",
   "metadata": {},
   "source": [
    "If only the tree loss is minimized w.r.t. the rate matrix, the branch lengths, the equilibrium and the leaf-distributions, it can be trivially minimized\n",
    "by extending all branch lengths.\n",
    "\n",
    "It needs to be combined with an HMM loss."
   ]
  },
  {
   "cell_type": "code",
   "execution_count": null,
   "id": "96331302",
   "metadata": {},
   "outputs": [
    {
     "name": "stdout",
     "output_type": "stream",
     "text": [
      "rate_matrix=\n",
      " [[[-0.82000816  0.799508    0.0205002 ]\n",
      "  [ 1.2300123  -1.2505125   0.0205002 ]\n",
      "  [ 1.2300123   0.799508   -2.0295203 ]]]\n",
      "transitions=\n",
      " [[[[0.9258583  0.07228822 0.00185354]\n",
      "   [0.11121263 0.8869339  0.00185354]\n",
      "   [0.11121262 0.0722882  0.8164992 ]]]\n",
      "\n",
      "\n",
      " [[[0.9258583  0.07228822 0.00185354]\n",
      "   [0.11121263 0.8869339  0.00185354]\n",
      "   [0.11121262 0.0722882  0.8164992 ]]]\n",
      "\n",
      "\n",
      " [[[0.9258583  0.07228822 0.00185354]\n",
      "   [0.11121263 0.8869339  0.00185354]\n",
      "   [0.11121262 0.0722882  0.8164992 ]]]\n",
      "\n",
      "\n",
      " [[[0.9258583  0.07228822 0.00185354]\n",
      "   [0.11121263 0.8869339  0.00185354]\n",
      "   [0.11121262 0.0722882  0.8164992 ]]]]\n",
      "leaf_out_marginal=\n",
      " [[[[0.7154739  0.28211468 0.00241134]]]\n",
      "\n",
      "\n",
      " [[[0.7154739  0.28211468 0.00241134]]]\n",
      "\n",
      "\n",
      " [[[0.7025442  0.29383194 0.00362379]]]]\n",
      "tree loss=\n",
      " 0.02875532\n"
     ]
    }
   ],
   "source": [
    "# the loss becomes 0 with extending tree branches\n",
    "\n",
    "tree_handler_vanish = tensortree.TreeHandler.from_newick(\"((A,B)D,C)E;\")\n",
    "tree_handler_vanish.branch_lengths[...] = 0.1\n",
    "\n",
    "P = [0.6, 0.39, 0.01]\n",
    "equilibrium_logits=np.log([P])\n",
    "same_leaves = np.array([P]*3, dtype=tensortree.util.default_dtype)\n",
    "same_leaves = same_leaves[:,np.newaxis,np.newaxis]\n",
    "lam = 1.\n",
    "exchangeabilities = np.array([[0, lam, lam],\n",
    "                              [lam, 0, lam],\n",
    "                              [lam, lam, 0]], dtype=tensortree.util.default_dtype)\n",
    "exchangeabilities = exchangeabilities[tf.newaxis]\n",
    "rate_matrix = tensortree.backend.make_rate_matrix(exchangeabilities, [P])\n",
    "\n",
    "leaf_out_marginal = tensortree.model.compute_leaf_out_marginals(same_leaves, \n",
    "                                                                tree_handler_vanish, \n",
    "                                                                rate_matrix, \n",
    "                                                                tree_handler_vanish.branch_lengths,\n",
    "                                                                equilibrium_logits=equilibrium_logits,\n",
    "                                                                leaf_names=leaf_names,\n",
    "                                                                leaves_are_probabilities=True, \n",
    "                                                                return_probabilities=True)\n",
    "\n",
    "print(\"rate_matrix=\\n\", rate_matrix.numpy())\n",
    "print(\"transitions=\\n\", tensortree.backend.make_transition_probs(rate_matrix, tree_handler_vanish.branch_lengths).numpy())\n",
    "print(\"leaf_out_marginal=\\n\", leaf_out_marginal.numpy())\n",
    "print(\"tree loss=\\n\", tree_loss_KL(same_leaves, leaf_out_marginal).numpy())"
   ]
  },
  {
   "cell_type": "code",
   "execution_count": null,
   "id": "c0f8a987",
   "metadata": {},
   "outputs": [],
   "source": []
  }
 ],
 "metadata": {
  "kernelspec": {
   "display_name": "learnMSAdev",
   "language": "python",
   "name": "python3"
  },
  "language_info": {
   "codemirror_mode": {
    "name": "ipython",
    "version": 3
   },
   "file_extension": ".py",
   "mimetype": "text/x-python",
   "name": "python",
   "nbconvert_exporter": "python",
   "pygments_lexer": "ipython3",
   "version": "3.12.7"
  }
 },
 "nbformat": 4,
 "nbformat_minor": 5
}
