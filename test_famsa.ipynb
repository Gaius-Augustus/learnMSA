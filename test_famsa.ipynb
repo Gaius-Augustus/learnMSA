{
 "cells": [
  {
   "cell_type": "code",
   "execution_count": 1,
   "metadata": {},
   "outputs": [],
   "source": [
    "import glob\n",
    "import multiprocessing.pool\n",
    "import Bio.SeqIO\n",
    "from pyfamsa import Aligner, Sequence\n"
   ]
  },
  {
   "cell_type": "code",
   "execution_count": null,
   "metadata": {},
   "outputs": [],
   "source": [
    "\n",
    "seqs = [[ Sequence(str(r.id).encode(), str(r.seq).encode()) for r in Bio.SeqIO.parse(\"test/data/egf.fasta\", \"fasta\") ] * 100]\n",
    "\n",
    "aligner = Aligner(threads = threads)"
   ]
  },
  {
   "cell_type": "code",
   "execution_count": 11,
   "metadata": {},
   "outputs": [],
   "source": [
    "aligner = Aligner()\n",
    "with multiprocessing.pool.ThreadPool() as pool:\n",
    "    alignments = pool.map(aligner.align, seqs)"
   ]
  },
  {
   "cell_type": "code",
   "execution_count": null,
   "metadata": {},
   "outputs": [],
   "source": [
    "#keep conditional import, famsa could be optional in the\n",
    "from pyfamsa import Aligner as FamsaAligner, Sequence as FamsaSequence\n",
    "\n",
    "seqs = [ [('1hre\\n', 'CTENVPMKVQNQEKAEELYQK'), \n",
    "            ('1dan2\\n', 'DGVSCTPTVEYPCGKIPILE'), \n",
    "            ('1rfnb\\n', 'NQKSCEPAVPFPCGRVSVSQTSK'), \n",
    "            ('1hcgb\\n', 'NGKACIPTGPYPCGKQTLER')], \n",
    "             [('D2HBN8_AILME/319-369\\n', 'SPEEQYGRLAQLPSSFSHPE'), \n",
    "            ('A8K118_HUMAN/343-393\\n', 'SSEKQYGRITGLPSSFSYHE'), \n",
    "            ('B7Z826_HUMAN/274-324\\n', 'SSEKQYGRITGLPSSFSYHE'), \n",
    "            ('CRUM1_HUMAN/343-393\\n', 'SSEKQYGRITGLPSSFSYHE'),\n",
    "            ('B7Z5T2_HUMAN/343-393\\n', 'SSEKQYGRITGLPSSFSYHE'), \n",
    "            ('Q59H36_HUMAN/368-418\\n', 'SSEKQYGRITGLPSSFSYHE'), \n",
    "            ('Q95LN0_MACFA/323-373\\n', 'SSEKQYGHITGLPSTFSYHE'), \n",
    "            ('B7Z5T1_HUMAN/42-92\\n', 'SSEKQYGRITGLPSSSSYHE'), \n",
    "            ('C3ZUH9_BRAFL/3770-3822\\n', 'LQVTSSRNILESDPVIFVSVDT'), \n",
    "            ('Q1L927_DANRE/354-404\\n', 'SWKTLYGTEPLFTARYNPRL'), \n",
    "            ('C4QSG7_SCHMA/5-55\\n', 'GGISNSSTIAITTTTFNNNG')] ]\n",
    "enc_seqs = [[FamsaSequence(sid.encode(), seq.encode()) for sid,seq in s] for s in seqs]\n",
    "aligner = FamsaAligner()\n",
    "with multiprocessing.pool.ThreadPool() as pool:\n",
    "    alignments = pool.map(aligner.align, enc_seqs)"
   ]
  },
  {
   "cell_type": "code",
   "execution_count": 3,
   "metadata": {},
   "outputs": [],
   "source": [
    "#keep conditional import, famsa could be optional in the\n",
    "from pyfamsa import Aligner as FamsaAligner, Sequence as FamsaSequence\n",
    "\n",
    "slices = {'right_flank': [('1hre\\n', 'CTENVPMKVQNQEKAEELYQK'), \n",
    "                          ('1dan2\\n', 'DGVSCTPTVEYPCGKIPILE'), \n",
    "                          ('1rfnb\\n', 'NQKSCEPAVPFPCGRVSVSQTSK'), \n",
    "                          ('1hcgb\\n', 'NGKACIPTGPYPCGKQTLER')], \n",
    "        'ins_0_14': [('D2HBN8_AILME/319-369\\n', 'SPEEQYGRLAQLPSSFSHPE'), \n",
    "                    ('A8K118_HUMAN/343-393\\n', 'SSEKQYGRITGLPSSFSYHE'), \n",
    "                    ('B7Z826_HUMAN/274-324\\n', 'SSEKQYGRITGLPSSFSYHE'), \n",
    "                    ('CRUM1_HUMAN/343-393\\n', 'SSEKQYGRITGLPSSFSYHE'),\n",
    "                    ('B7Z5T2_HUMAN/343-393\\n', 'SSEKQYGRITGLPSSFSYHE'), \n",
    "                    ('Q59H36_HUMAN/368-418\\n', 'SSEKQYGRITGLPSSFSYHE'), \n",
    "                    ('Q95LN0_MACFA/323-373\\n', 'SSEKQYGHITGLPSTFSYHE'), \n",
    "                    ('B7Z5T1_HUMAN/42-92\\n', 'SSEKQYGRITGLPSSSSYHE'), \n",
    "                    ('C3ZUH9_BRAFL/3770-3822\\n', 'LQVTSSRNILESDPVIFVSVDT'), \n",
    "                    ('Q1L927_DANRE/354-404\\n', 'SWKTLYGTEPLFTARYNPRL'), \n",
    "                    ('C4QSG7_SCHMA/5-55\\n', 'GGISNSSTIAITTTTFNNNG')]}\n",
    "keys, slice_list = [], []\n",
    "for k,s in slices.items():\n",
    "    keys.append(k)\n",
    "    slice_list.append( [FamsaSequence(sid.encode(), seq.encode()) for sid,seq in s] )\n",
    "aligner = FamsaAligner()\n",
    "alignments = [aligner.align(s) for s in slice_list]"
   ]
  },
  {
   "cell_type": "code",
   "execution_count": null,
   "metadata": {},
   "outputs": [],
   "source": []
  }
 ],
 "metadata": {
  "kernelspec": {
   "display_name": "Python 3",
   "language": "python",
   "name": "python3"
  },
  "language_info": {
   "codemirror_mode": {
    "name": "ipython",
    "version": 3
   },
   "file_extension": ".py",
   "mimetype": "text/x-python",
   "name": "python",
   "nbconvert_exporter": "python",
   "pygments_lexer": "ipython3",
   "version": "3.10.12"
  },
  "orig_nbformat": 4,
  "vscode": {
   "interpreter": {
    "hash": "488d3aa71b322ef168bf72fc4d82bebaa59a8882dc4050bd9af49d22feb8fb8e"
   }
  }
 },
 "nbformat": 4,
 "nbformat_minor": 2
}
