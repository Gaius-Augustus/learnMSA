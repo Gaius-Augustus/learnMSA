{
 "cells": [
  {
   "cell_type": "code",
   "execution_count": 2,
   "id": "3ba4c3f8-358f-45b5-9e26-087de912323d",
   "metadata": {},
   "outputs": [],
   "source": [
    "import numpy as np"
   ]
  },
  {
   "cell_type": "markdown",
   "id": "26edf0c2-8839-4baa-bc27-5c3efae1a916",
   "metadata": {},
   "source": [
    "# Model A\n",
    "![](ModelA.png)"
   ]
  },
  {
   "cell_type": "code",
   "execution_count": 22,
   "id": "cb5aae4e-c560-4e4d-b426-a41568bacdbc",
   "metadata": {},
   "outputs": [],
   "source": [
    "L,M1,M2,M3,M4,I1,I2,I3,C,R,T=tuple(range(11))"
   ]
  },
  {
   "cell_type": "code",
   "execution_count": 23,
   "id": "daa67242-d093-4e39-affb-fa58cbe80163",
   "metadata": {},
   "outputs": [],
   "source": [
    "#folded probabilities\n",
    "A = np.zeros((11,11))\n",
    "B = np.zeros((11,3))"
   ]
  },
  {
   "cell_type": "code",
   "execution_count": 24,
   "id": "e8723e35-626f-4dbc-9d32-dff3363bf6b5",
   "metadata": {},
   "outputs": [],
   "source": [
    "S_folded = np.zeros(11)\n",
    "S_folded[M1] = 0.6\n",
    "S_folded[M2] = 0.1+0.1*0.8\n",
    "S_folded[M3] = 0.1+0.1*0.2*0.5\n",
    "S_folded[M4] = 0.1+0.1*0.2*0.5*0.8\n",
    "S_folded[C] = 0.1*0.2*0.5*0.2*0.2\n",
    "S_folded[R] = 0.1*0.2*0.5*0.2*0.7\n",
    "S_folded[T] = 0.1*0.2*0.5*0.2*0.1"
   ]
  },
  {
   "cell_type": "code",
   "execution_count": 25,
   "id": "4c5fdcdb-3ea0-43e9-a25a-54d652133aeb",
   "metadata": {},
   "outputs": [],
   "source": [
    "init = 0.5 * S_folded\n",
    "init[L] = 0.5"
   ]
  },
  {
   "cell_type": "code",
   "execution_count": 26,
   "id": "2b01e199-1dae-4db4-8d7e-b54f7048940b",
   "metadata": {},
   "outputs": [],
   "source": [
    "A[L,:] = 0.4 * S_folded\n",
    "A[L,L] = 0.6\n",
    "A[M1,M2] = 0.97\n",
    "A[M1,M3] = 0.01*0.5\n",
    "A[M1,M4] = 0.01*0.5*0.8\n",
    "A[M1,I1] = 0.01\n",
    "M1_E = 0.01*0.5*0.2 + 0.01\n",
    "A[M1,C] = 0.2 * M1_E\n",
    "A[M1,R] = 0.7 * M1_E\n",
    "A[M1,T] = 0.1 * M1_E\n",
    "A[M2,M3] = 0.5\n",
    "A[M2,M4] = 0.4*0.8\n",
    "A[M2,I2] = 0.05\n",
    "M2_E = 0.4*0.2 + 0.05\n",
    "A[M2,C] = 0.2 * M2_E\n",
    "A[M2,R] = 0.7 * M2_E\n",
    "A[M2,T] = 0.1 * M2_E\n",
    "A[M3,M4] = 0.6\n",
    "A[M3,I3] = 0.3\n",
    "M3_E = 0.05*2\n",
    "A[M3,C] = 0.2 * M3_E\n",
    "A[M3,R] = 0.7 * M3_E\n",
    "A[M3,T] = 0.1 * M3_E\n",
    "A[M4,C] = 0.2\n",
    "A[M4,R] = 0.7\n",
    "A[M4,T] = 0.1\n",
    "A[I1,I1] = 0.5\n",
    "A[I1,M2] = 0.5\n",
    "A[I2,I2] = 0.5\n",
    "A[I2,M3] = 0.5\n",
    "A[I3,I3] = 0.5\n",
    "A[I3,M4] = 0.5\n",
    "A[C,:] = 0.1 * S_folded\n",
    "A[C,C] = 0.9 + 0.1*0.1*0.2*0.5*0.2*0.2\n",
    "A[R,R] = 0.6\n",
    "A[R,T] = 0.4\n",
    "A[T,T] = 1"
   ]
  },
  {
   "cell_type": "code",
   "execution_count": 27,
   "id": "c27e9328-2a8a-4723-b289-41f8e94cc9c4",
   "metadata": {},
   "outputs": [],
   "source": [
    "B[:,:2] = 0.5\n",
    "B[M2,:2] = (0.1, 0.9)\n",
    "B[M3,:2] = (0.7, 0.3)\n",
    "B[M4,:2] = (0.9, 0.1)\n",
    "B[T,:] = (0,0,1)"
   ]
  },
  {
   "cell_type": "code",
   "execution_count": 28,
   "id": "48f80683-239a-4049-b8a4-22855d13a89d",
   "metadata": {},
   "outputs": [],
   "source": [
    "np.testing.assert_almost_equal(np.sum(init), 1)\n",
    "np.testing.assert_almost_equal(np.sum(A, -1), 1)\n",
    "np.testing.assert_almost_equal(np.sum(B, -1), 1)"
   ]
  },
  {
   "cell_type": "code",
   "execution_count": 29,
   "id": "b7c507ce-e6c5-41e6-8305-0209d6c2feca",
   "metadata": {},
   "outputs": [],
   "source": [
    "def forward(seq, init, A, B, scaled=False):\n",
    "    num_states = init.shape[0]\n",
    "    length = seq.shape[0]\n",
    "    alpha = np.zeros((length, num_states))\n",
    "    alpha[0] = init * B.dot(seq[0])\n",
    "    if scaled:\n",
    "        lik = np.sum(alpha[0])\n",
    "        alpha[0] /= lik\n",
    "    for i in range(1, length):\n",
    "        alpha[i] = np.transpose(A).dot(alpha[i-1]) * B.dot(seq[i])\n",
    "        if scaled:\n",
    "            S = np.sum(alpha[i])\n",
    "            alpha[i] /= S\n",
    "            lik *= S\n",
    "    if scaled:\n",
    "        return alpha, lik\n",
    "    else:\n",
    "        return alpha\n",
    "\n",
    "def backward(seq, init, A, B):\n",
    "    num_states = init.shape[0]\n",
    "    length = seq.shape[0]\n",
    "    beta = np.zeros((length, num_states))\n",
    "    beta[-1] = 1\n",
    "    for i in range(1, length):\n",
    "        b = B.dot(seq[length-i]) * beta[length-i]\n",
    "        beta[length-1-i] = A.dot(b)\n",
    "    return beta\n",
    "\n",
    "def likelihood_forward(alpha):\n",
    "    return np.sum(alpha[-1])\n",
    "\n",
    "def likelihood_backward(beta, seq, init, B):\n",
    "    return np.sum(init * B.dot(seq[0]) * beta[0])\n",
    "\n",
    "def posterior(alpha, beta, lik):\n",
    "    return alpha * beta / lik"
   ]
  },
  {
   "cell_type": "code",
   "execution_count": 30,
   "id": "40d2f7cc-5aea-465b-a12a-e092ca637827",
   "metadata": {},
   "outputs": [],
   "source": [
    "seq = [0,1,0,2]\n",
    "alphabet_size = B.shape[-1]\n",
    "seq = np.eye(alphabet_size)[seq]"
   ]
  },
  {
   "cell_type": "code",
   "execution_count": 31,
   "id": "9c414df4-b725-4c66-bf1c-6784bc064bd6",
   "metadata": {},
   "outputs": [
    {
     "name": "stdout",
     "output_type": "stream",
     "text": [
      "alpha=\n",
      " [[2.50000000e-01 1.50000000e-01 9.00000000e-03 3.85000000e-02\n",
      "  4.86000000e-02 0.00000000e+00 0.00000000e+00 0.00000000e+00\n",
      "  1.00000000e-04 3.50000000e-04 0.00000000e+00]\n",
      " [7.50000000e-02 3.00030000e-02 1.47151620e-01 4.87533000e-03\n",
      "  3.73810800e-03 7.50000000e-04 2.25000000e-04 5.77500000e-03\n",
      "  5.59200200e-03 1.95195070e-02 0.00000000e+00]\n",
      " [2.25000000e-02 9.16776006e-03 3.49785660e-03 5.40398859e-02\n",
      "  5.06894598e-02 3.37515000e-04 3.73504050e-03 2.17504950e-03\n",
      "  4.89105120e-03 1.41671282e-02 0.00000000e+00]\n",
      " [0.00000000e+00 0.00000000e+00 0.00000000e+00 0.00000000e+00\n",
      "  0.00000000e+00 0.00000000e+00 0.00000000e+00 0.00000000e+00\n",
      "  0.00000000e+00 0.00000000e+00 1.13336506e-02]]\n",
      "beta=\n",
      " [[6.55932264e-03 4.47112347e-02 2.02424452e-02 1.93615440e-02\n",
      "  4.21142400e-02 2.28876170e-02 1.10750300e-02 1.82501000e-02\n",
      "  1.81209072e-03 3.60000000e-02 0.00000000e+00]\n",
      " [4.55760160e-03 3.19602200e-03 5.05002600e-02 6.80002000e-02\n",
      "  1.40002000e-01 6.50000000e-04 3.50000000e-03 4.50000000e-02\n",
      "  1.14240040e-03 1.20000000e-01 0.00000000e+00]\n",
      " [8.00000000e-05 1.10000000e-03 1.30000000e-02 1.00000000e-02\n",
      "  1.00000000e-01 0.00000000e+00 0.00000000e+00 0.00000000e+00\n",
      "  2.00000000e-05 4.00000000e-01 1.00000000e+00]\n",
      " [1.00000000e+00 1.00000000e+00 1.00000000e+00 1.00000000e+00\n",
      "  1.00000000e+00 1.00000000e+00 1.00000000e+00 1.00000000e+00\n",
      "  1.00000000e+00 1.00000000e+00 1.00000000e+00]]\n",
      "lik=\n",
      " 0.0113336505940908\n",
      "posterior_probs=\n",
      " [[1.44686890e-01 5.91749777e-01 1.60744330e-02 6.57704627e-02\n",
      "  1.80590715e-01 0.00000000e+00 0.00000000e+00 0.00000000e+00\n",
      "  1.59885882e-05 1.11173358e-03 0.00000000e+00]\n",
      " [3.01597545e-02 8.46066740e-03 6.55675328e-01 2.92512472e-02\n",
      "  4.61759953e-02 4.30135018e-05 6.94833490e-05 2.29295052e-02\n",
      "  5.63658220e-04 2.06671347e-01 0.00000000e+00]\n",
      " [1.58819083e-04 8.89787097e-04 4.01213497e-03 4.76809175e-02\n",
      "  4.47247420e-01 0.00000000e+00 0.00000000e+00 0.00000000e+00\n",
      "  8.63102521e-06 5.00002291e-01 0.00000000e+00]\n",
      " [0.00000000e+00 0.00000000e+00 0.00000000e+00 0.00000000e+00\n",
      "  0.00000000e+00 0.00000000e+00 0.00000000e+00 0.00000000e+00\n",
      "  0.00000000e+00 0.00000000e+00 1.00000000e+00]]\n",
      "alpha_scaled=\n",
      " [[5.03473970e-01 3.02084382e-01 1.81250629e-02 7.75349914e-02\n",
      "  9.78753398e-02 0.00000000e+00 0.00000000e+00 0.00000000e+00\n",
      "  2.01389588e-04 7.04863559e-04 0.00000000e+00]\n",
      " [2.56296726e-01 1.02528942e-01 5.02859713e-01 1.66604149e-02\n",
      "  1.27741979e-02 2.56296726e-03 7.68890178e-04 1.97348479e-02\n",
      "  1.91094907e-02 6.67038099e-02 0.00000000e+00]\n",
      " [1.36197932e-01 5.54946648e-02 2.11733704e-02 3.27116475e-01\n",
      "  3.06835537e-01 2.04305977e-03 2.26091018e-02 1.31660997e-02\n",
      "  2.96067136e-02 8.57570467e-02 0.00000000e+00]\n",
      " [0.00000000e+00 0.00000000e+00 0.00000000e+00 0.00000000e+00\n",
      "  0.00000000e+00 0.00000000e+00 0.00000000e+00 0.00000000e+00\n",
      "  0.00000000e+00 0.00000000e+00 1.00000000e+00]]\n"
     ]
    }
   ],
   "source": [
    "alpha = forward(seq, init, A, B)\n",
    "beta = backward(seq, init, A, B)\n",
    "lik = likelihood_forward(alpha)\n",
    "lik2 = likelihood_backward(beta, seq, init, B)\n",
    "np.testing.assert_almost_equal(lik, lik2)\n",
    "posterior_probs = posterior(alpha, beta, lik)\n",
    "alpha_scaled, lik3 = forward(seq, init, A, B, scaled=True)\n",
    "np.testing.assert_almost_equal(lik, lik3)\n",
    "print(\"alpha=\\n\", alpha)\n",
    "print(\"beta=\\n\", beta)\n",
    "print(\"lik=\\n\", lik)\n",
    "print(\"posterior_probs=\\n\", posterior_probs)\n",
    "print(\"alpha_scaled=\\n\", alpha_scaled)"
   ]
  },
  {
   "cell_type": "markdown",
   "id": "ee9ece94-6d4e-41e6-9381-0e5031f99cbc",
   "metadata": {},
   "source": [
    "# Model B\n",
    "![](ModelB.png)"
   ]
  },
  {
   "cell_type": "code",
   "execution_count": 32,
   "id": "fac40632-faa0-48a3-9dad-53e93c4f49c2",
   "metadata": {},
   "outputs": [],
   "source": [
    "L,M1,M2,M3,I1,I2,C,R,T=tuple(range(9))"
   ]
  },
  {
   "cell_type": "code",
   "execution_count": 33,
   "id": "3ddf3f8f-d1d1-4602-bbd8-1dcc2541b4d1",
   "metadata": {},
   "outputs": [],
   "source": [
    "#folded probabilities\n",
    "A = np.zeros((9,9))\n",
    "B = np.zeros((9,3))"
   ]
  },
  {
   "cell_type": "code",
   "execution_count": 34,
   "id": "562046c2-a2c4-4919-9ab9-08c43781d2e3",
   "metadata": {},
   "outputs": [],
   "source": [
    "S_folded = np.zeros(9)\n",
    "S_folded[M1] = 0.7\n",
    "S_folded[M2] = 0.1+0.1*0.8\n",
    "S_folded[M3] = 0.1+0.1*0.2*0.5\n",
    "S_folded[C] = 0.1*0.2*0.5*0.2\n",
    "S_folded[R] = 0.1*0.2*0.5*0.7\n",
    "S_folded[T] = 0.1*0.2*0.5*0.1"
   ]
  },
  {
   "cell_type": "code",
   "execution_count": 35,
   "id": "6bd13fe6-705c-4900-808e-9f1d7d0d52eb",
   "metadata": {},
   "outputs": [],
   "source": [
    "init = 0.5 * S_folded\n",
    "init[L] = 0.5"
   ]
  },
  {
   "cell_type": "code",
   "execution_count": 36,
   "id": "1eb4ad0c-11fe-4eba-af7d-37baee0d2af4",
   "metadata": {},
   "outputs": [],
   "source": [
    "A[L,:] = 0.4 * S_folded\n",
    "A[L,L] = 0.6\n",
    "A[M1,M2] = 0.97\n",
    "A[M1,M3] = 0.01*0.5\n",
    "A[M1,I1] = 0.01\n",
    "M1_E = 0.01*0.5 + 0.01\n",
    "A[M1,C] = 0.2 * M1_E\n",
    "A[M1,R] = 0.7 * M1_E\n",
    "A[M1,T] = 0.1 * M1_E\n",
    "A[M2,M3] = 0.5\n",
    "A[M2,I2] = 0.05\n",
    "M2_E = 0.4 + 0.05\n",
    "A[M2,C] = 0.2 * M2_E\n",
    "A[M2,R] = 0.7 * M2_E\n",
    "A[M2,T] = 0.1 * M2_E\n",
    "A[M3,C] = 0.2 \n",
    "A[M3,R] = 0.7 \n",
    "A[M3,T] = 0.1 \n",
    "A[I1,I1] = 0.5\n",
    "A[I1,M2] = 0.5\n",
    "A[I2,I2] = 0.5\n",
    "A[I2,M3] = 0.5\n",
    "A[C,:] = 0.1 * S_folded\n",
    "A[C,C] = 0.9 + 0.1*0.1*0.2*0.5*0.2\n",
    "A[R,R] = 0.6\n",
    "A[R,T] = 0.4\n",
    "A[T,T] = 1"
   ]
  },
  {
   "cell_type": "code",
   "execution_count": 37,
   "id": "7eab621a-caea-4096-bef6-005fc58a62e9",
   "metadata": {},
   "outputs": [],
   "source": [
    "B[:,:2] = 0.5\n",
    "B[M2,:2] = (0.1, 0.9)\n",
    "B[M3,:2] = (0.7, 0.3)\n",
    "B[T,:] = (0,0,1)"
   ]
  },
  {
   "cell_type": "code",
   "execution_count": 38,
   "id": "1a308ec3-5baa-4940-86c7-597a6d2ab8be",
   "metadata": {},
   "outputs": [],
   "source": [
    "np.testing.assert_almost_equal(np.sum(init), 1)\n",
    "np.testing.assert_almost_equal(np.sum(A, -1), 1)\n",
    "np.testing.assert_almost_equal(np.sum(B, -1), 1)"
   ]
  },
  {
   "cell_type": "code",
   "execution_count": 39,
   "id": "833828bb-ad9d-4252-a3d0-6c329835dc83",
   "metadata": {},
   "outputs": [
    {
     "name": "stdout",
     "output_type": "stream",
     "text": [
      "alpha=\n",
      " [[2.50000000e-01 1.75000000e-01 9.00000000e-03 3.85000000e-02\n",
      "  0.00000000e+00 0.00000000e+00 5.00000000e-04 1.75000000e-03\n",
      "  0.00000000e+00]\n",
      " [7.50000000e-02 3.50175000e-02 1.68983100e-01 4.91415000e-03\n",
      "  8.75000000e-04 2.25000000e-04 4.84255000e-03 1.66864250e-02\n",
      "  0.00000000e+00]\n",
      " [2.25000000e-02 1.06694892e-02 3.98916409e-03 6.16926839e-02\n",
      "  3.93837500e-04 4.28082750e-03 1.03578125e-02 3.36312550e-02\n",
      "  0.00000000e+00]\n",
      " [0.00000000e+00 0.00000000e+00 0.00000000e+00 0.00000000e+00\n",
      "  0.00000000e+00 0.00000000e+00 0.00000000e+00 0.00000000e+00\n",
      "  1.98273228e-02]]\n",
      "beta=\n",
      " [[1.06095920e-02 8.64108263e-02 4.08254829e-02 4.21088510e-02\n",
      "  4.46645250e-02 2.97515000e-02 2.82017450e-03 3.60000000e-02\n",
      "  0.00000000e+00]\n",
      " [4.29404000e-03 6.81515000e-03 9.80045000e-02 1.40010000e-01\n",
      "  2.25000000e-03 3.50000000e-02 1.08851000e-03 1.20000000e-01\n",
      "  0.00000000e+00]\n",
      " [4.00000000e-04 1.50000000e-03 4.50000000e-02 1.00000000e-01\n",
      "  0.00000000e+00 0.00000000e+00 1.00000000e-04 4.00000000e-01\n",
      "  1.00000000e+00]\n",
      " [1.00000000e+00 1.00000000e+00 1.00000000e+00 1.00000000e+00\n",
      "  1.00000000e+00 1.00000000e+00 1.00000000e+00 1.00000000e+00\n",
      "  1.00000000e+00]]\n",
      "lik=\n",
      " 0.0198273227946755\n",
      "posterior_probs=\n",
      " [[1.33774894e-01 7.62679599e-01 1.85314654e-02 8.17654900e-02\n",
      "  0.00000000e+00 0.00000000e+00 7.11183888e-05 3.17743352e-03\n",
      "  0.00000000e+00]\n",
      " [1.62428888e-02 1.20363963e-02 8.35266788e-01 3.47011116e-02\n",
      "  9.92947974e-05 3.97179190e-04 2.65853547e-04 1.00990488e-01\n",
      "  0.00000000e+00]\n",
      " [4.53919074e-04 8.07180780e-04 9.05378835e-03 3.11149844e-01\n",
      "  0.00000000e+00 0.00000000e+00 5.22400962e-05 6.78483028e-01\n",
      "  0.00000000e+00]\n",
      " [0.00000000e+00 0.00000000e+00 0.00000000e+00 0.00000000e+00\n",
      "  0.00000000e+00 0.00000000e+00 0.00000000e+00 0.00000000e+00\n",
      "  1.00000000e+00]]\n",
      "alpha_scaled=\n",
      " [[5.26592944e-01 3.68615061e-01 1.89573460e-02 8.10953133e-02\n",
      "  0.00000000e+00 0.00000000e+00 1.05318589e-03 3.68615061e-03\n",
      "  0.00000000e+00]\n",
      " [2.44663302e-01 1.14233296e-01 5.51252843e-01 1.60308289e-02\n",
      "  2.85440519e-03 7.33989906e-04 1.57972570e-02 5.44340779e-02\n",
      "  0.00000000e+00]\n",
      " [1.52526790e-01 7.23281307e-02 2.70424174e-02 4.18212756e-01\n",
      "  2.66981198e-03 2.90195945e-02 7.02152839e-02 2.27985216e-01\n",
      "  0.00000000e+00]\n",
      " [0.00000000e+00 0.00000000e+00 0.00000000e+00 0.00000000e+00\n",
      "  0.00000000e+00 0.00000000e+00 0.00000000e+00 0.00000000e+00\n",
      "  1.00000000e+00]]\n"
     ]
    }
   ],
   "source": [
    "alpha = forward(seq, init, A, B)\n",
    "beta = backward(seq, init, A, B)\n",
    "lik = likelihood_forward(alpha)\n",
    "lik2 = likelihood_backward(beta, seq, init, B)\n",
    "np.testing.assert_almost_equal(lik, lik2)\n",
    "posterior_probs = posterior(alpha, beta, lik)\n",
    "alpha_scaled, lik3 = forward(seq, init, A, B, scaled=True)\n",
    "np.testing.assert_almost_equal(lik, lik3)\n",
    "print(\"alpha=\\n\", alpha)\n",
    "print(\"beta=\\n\", beta)\n",
    "print(\"lik=\\n\", lik)\n",
    "print(\"posterior_probs=\\n\", posterior_probs)\n",
    "print(\"alpha_scaled=\\n\", alpha_scaled)"
   ]
  },
  {
   "cell_type": "code",
   "execution_count": null,
   "id": "1fcdb74b-7c87-40d1-9319-6e5af136a7ac",
   "metadata": {},
   "outputs": [],
   "source": []
  }
 ],
 "metadata": {
  "kernelspec": {
   "display_name": "Python 3",
   "language": "python",
   "name": "python3"
  },
  "language_info": {
   "codemirror_mode": {
    "name": "ipython",
    "version": 3
   },
   "file_extension": ".py",
   "mimetype": "text/x-python",
   "name": "python",
   "nbconvert_exporter": "python",
   "pygments_lexer": "ipython3",
   "version": "3.9.2"
  }
 },
 "nbformat": 4,
 "nbformat_minor": 5
}
