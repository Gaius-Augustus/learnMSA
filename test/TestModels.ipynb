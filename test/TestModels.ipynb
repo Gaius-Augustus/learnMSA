{
 "cells": [
  {
   "cell_type": "code",
   "execution_count": 1,
   "id": "3ba4c3f8-358f-45b5-9e26-087de912323d",
   "metadata": {},
   "outputs": [],
   "source": [
    "import numpy as np"
   ]
  },
  {
   "cell_type": "markdown",
   "id": "26edf0c2-8839-4baa-bc27-5c3efae1a916",
   "metadata": {},
   "source": [
    "# Model A\n",
    "![](ModelA.png)"
   ]
  },
  {
   "cell_type": "code",
   "execution_count": 62,
   "id": "cb5aae4e-c560-4e4d-b426-a41568bacdbc",
   "metadata": {},
   "outputs": [],
   "source": [
    "L,M1,M2,M3,M4,I1,I2,I3,C,R,T=tuple(range(11))"
   ]
  },
  {
   "cell_type": "code",
   "execution_count": 63,
   "id": "daa67242-d093-4e39-affb-fa58cbe80163",
   "metadata": {},
   "outputs": [],
   "source": [
    "#folded probabilities\n",
    "A = np.zeros((11,11))\n",
    "B = np.zeros((11,3))"
   ]
  },
  {
   "cell_type": "code",
   "execution_count": 64,
   "id": "e8723e35-626f-4dbc-9d32-dff3363bf6b5",
   "metadata": {},
   "outputs": [],
   "source": [
    "S_folded = np.zeros(11)\n",
    "S_folded[M1] = 0.6\n",
    "S_folded[M2] = 0.1+0.1*0.8\n",
    "S_folded[M3] = 0.1+0.1*0.2*0.5\n",
    "S_folded[M4] = 0.1+0.1*0.2*0.5*0.8\n",
    "S_folded[C] = 0.1*0.2*0.5*0.2*0.2\n",
    "S_folded[R] = 0.1*0.2*0.5*0.2*0.7\n",
    "S_folded[T] = 0.1*0.2*0.5*0.2*0.1"
   ]
  },
  {
   "cell_type": "code",
   "execution_count": 65,
   "id": "4c5fdcdb-3ea0-43e9-a25a-54d652133aeb",
   "metadata": {},
   "outputs": [],
   "source": [
    "init = 0.5 * S_folded\n",
    "init[L] = 0.5"
   ]
  },
  {
   "cell_type": "code",
   "execution_count": 66,
   "id": "2b01e199-1dae-4db4-8d7e-b54f7048940b",
   "metadata": {},
   "outputs": [],
   "source": [
    "A[L,:] = 0.4 * S_folded\n",
    "A[L,L] = 0.6\n",
    "A[M1,M2] = 0.97\n",
    "A[M1,M3] = 0.01*0.5\n",
    "A[M1,M4] = 0.01*0.5*0.8\n",
    "A[M1,I1] = 0.01\n",
    "M1_E = 0.01*0.5*0.2 + 0.01\n",
    "A[M1,C] = 0.2 * M1_E\n",
    "A[M1,R] = 0.7 * M1_E\n",
    "A[M1,T] = 0.1 * M1_E\n",
    "A[M2,M3] = 0.5\n",
    "A[M2,M4] = 0.4*0.8\n",
    "A[M2,I2] = 0.05\n",
    "M2_E = 0.4*0.2 + 0.05\n",
    "A[M2,C] = 0.2 * M2_E\n",
    "A[M2,R] = 0.7 * M2_E\n",
    "A[M2,T] = 0.1 * M2_E\n",
    "A[M3,M4] = 0.6\n",
    "A[M3,I3] = 0.3\n",
    "M3_E = 0.05*2\n",
    "A[M3,C] = 0.2 * M3_E\n",
    "A[M3,R] = 0.7 * M3_E\n",
    "A[M3,T] = 0.1 * M3_E\n",
    "A[M4,C] = 0.2\n",
    "A[M4,R] = 0.7\n",
    "A[M4,T] = 0.1\n",
    "A[I1,I1] = 0.5\n",
    "A[I1,M2] = 0.5\n",
    "A[I2,I2] = 0.5\n",
    "A[I2,M3] = 0.5\n",
    "A[I3,I3] = 0.5\n",
    "A[I3,M4] = 0.5\n",
    "A[C,:] = 0.1 * S_folded\n",
    "A[C,C] = 0.9 + 0.1*0.1*0.2*0.5*0.2*0.2\n",
    "A[R,R] = 0.6\n",
    "A[R,T] = 0.4\n",
    "A[T,T] = 1"
   ]
  },
  {
   "cell_type": "code",
   "execution_count": 67,
   "id": "c27e9328-2a8a-4723-b289-41f8e94cc9c4",
   "metadata": {},
   "outputs": [],
   "source": [
    "B[:,:2] = 0.5\n",
    "B[M2,:2] = (0.1, 0.9)\n",
    "B[M3,:2] = (0.7, 0.3)\n",
    "B[M4,:2] = (0.9, 0.1)\n",
    "B[T,:] = (0,0,1)"
   ]
  },
  {
   "cell_type": "code",
   "execution_count": 68,
   "id": "48f80683-239a-4049-b8a4-22855d13a89d",
   "metadata": {},
   "outputs": [],
   "source": [
    "np.testing.assert_almost_equal(np.sum(init), 1)\n",
    "np.testing.assert_almost_equal(np.sum(A, -1), 1)\n",
    "np.testing.assert_almost_equal(np.sum(B, -1), 1)"
   ]
  },
  {
   "cell_type": "code",
   "execution_count": 69,
   "id": "a2f9439f-304d-42c2-bbac-9b4f89cfe5b6",
   "metadata": {},
   "outputs": [
    {
     "data": {
      "text/plain": [
       "(array([[6.0000e-01, 2.4000e-01, 7.2000e-02, 4.4000e-02, 4.3200e-02,\n",
       "         0.0000e+00, 0.0000e+00, 0.0000e+00, 1.6000e-04, 5.6000e-04,\n",
       "         8.0000e-05],\n",
       "        [0.0000e+00, 0.0000e+00, 9.7000e-01, 5.0000e-03, 4.0000e-03,\n",
       "         1.0000e-02, 0.0000e+00, 0.0000e+00, 2.2000e-03, 7.7000e-03,\n",
       "         1.1000e-03],\n",
       "        [0.0000e+00, 0.0000e+00, 0.0000e+00, 5.0000e-01, 3.2000e-01,\n",
       "         0.0000e+00, 5.0000e-02, 0.0000e+00, 2.6000e-02, 9.1000e-02,\n",
       "         1.3000e-02],\n",
       "        [0.0000e+00, 0.0000e+00, 0.0000e+00, 0.0000e+00, 6.0000e-01,\n",
       "         0.0000e+00, 0.0000e+00, 3.0000e-01, 2.0000e-02, 7.0000e-02,\n",
       "         1.0000e-02],\n",
       "        [0.0000e+00, 0.0000e+00, 0.0000e+00, 0.0000e+00, 0.0000e+00,\n",
       "         0.0000e+00, 0.0000e+00, 0.0000e+00, 2.0000e-01, 7.0000e-01,\n",
       "         1.0000e-01],\n",
       "        [0.0000e+00, 0.0000e+00, 5.0000e-01, 0.0000e+00, 0.0000e+00,\n",
       "         5.0000e-01, 0.0000e+00, 0.0000e+00, 0.0000e+00, 0.0000e+00,\n",
       "         0.0000e+00],\n",
       "        [0.0000e+00, 0.0000e+00, 0.0000e+00, 5.0000e-01, 0.0000e+00,\n",
       "         0.0000e+00, 5.0000e-01, 0.0000e+00, 0.0000e+00, 0.0000e+00,\n",
       "         0.0000e+00],\n",
       "        [0.0000e+00, 0.0000e+00, 0.0000e+00, 0.0000e+00, 5.0000e-01,\n",
       "         0.0000e+00, 0.0000e+00, 5.0000e-01, 0.0000e+00, 0.0000e+00,\n",
       "         0.0000e+00],\n",
       "        [0.0000e+00, 6.0000e-02, 1.8000e-02, 1.1000e-02, 1.0800e-02,\n",
       "         0.0000e+00, 0.0000e+00, 0.0000e+00, 9.0004e-01, 1.4000e-04,\n",
       "         2.0000e-05],\n",
       "        [0.0000e+00, 0.0000e+00, 0.0000e+00, 0.0000e+00, 0.0000e+00,\n",
       "         0.0000e+00, 0.0000e+00, 0.0000e+00, 0.0000e+00, 6.0000e-01,\n",
       "         4.0000e-01],\n",
       "        [0.0000e+00, 0.0000e+00, 0.0000e+00, 0.0000e+00, 0.0000e+00,\n",
       "         0.0000e+00, 0.0000e+00, 0.0000e+00, 0.0000e+00, 0.0000e+00,\n",
       "         1.0000e+00]]),\n",
       " array([[0.5, 0.5, 0. ],\n",
       "        [0.5, 0.5, 0. ],\n",
       "        [0.1, 0.9, 0. ],\n",
       "        [0.7, 0.3, 0. ],\n",
       "        [0.9, 0.1, 0. ],\n",
       "        [0.5, 0.5, 0. ],\n",
       "        [0.5, 0.5, 0. ],\n",
       "        [0.5, 0.5, 0. ],\n",
       "        [0.5, 0.5, 0. ],\n",
       "        [0.5, 0.5, 0. ],\n",
       "        [0. , 0. , 1. ]]),\n",
       " array([5.0e-01, 3.0e-01, 9.0e-02, 5.5e-02, 5.4e-02, 0.0e+00, 0.0e+00,\n",
       "        0.0e+00, 2.0e-04, 7.0e-04, 1.0e-04]))"
      ]
     },
     "execution_count": 69,
     "metadata": {},
     "output_type": "execute_result"
    }
   ],
   "source": [
    "A,B,init"
   ]
  },
  {
   "cell_type": "code",
   "execution_count": 10,
   "id": "60b0351d-8473-4029-8a53-bfa11c879a43",
   "metadata": {},
   "outputs": [],
   "source": [
    "def forward(seq, init, A, B, scaled=False):\n",
    "    num_states = init.shape[0]\n",
    "    length = seq.shape[0]\n",
    "    alpha = np.zeros((length, num_states))\n",
    "    alpha[0] = init * B.dot(seq[0])\n",
    "    if scaled:\n",
    "        lik = np.sum(alpha[0])\n",
    "        alpha[0] /= lik\n",
    "    for i in range(1, length):\n",
    "        alpha[i] = np.transpose(A).dot(alpha[i-1]) * B.dot(seq[i])\n",
    "        if scaled:\n",
    "            S = np.sum(alpha[i])\n",
    "            alpha[i] /= S\n",
    "            lik *= S\n",
    "    if scaled:\n",
    "        return alpha, lik\n",
    "    else:\n",
    "        return alpha\n",
    "\n",
    "def backward(seq, init, A, B):\n",
    "    num_states = init.shape[0]\n",
    "    length = seq.shape[0]\n",
    "    beta = np.zeros((length, num_states))\n",
    "    beta[-1] = 1\n",
    "    for i in range(1, length):\n",
    "        b = B.dot(seq[length-i]) * beta[length-i]\n",
    "        beta[length-1-i] = A.dot(b)\n",
    "    return beta\n",
    "\n",
    "def likelihood_forward(alpha):\n",
    "    return np.sum(alpha[-1])\n",
    "\n",
    "def likelihood_backward(beta, seq, init, B):\n",
    "    return np.sum(init * B.dot(seq[0]) * beta[0])\n",
    "\n",
    "def posterior(alpha, beta, lik):\n",
    "    return alpha * beta / lik"
   ]
  },
  {
   "cell_type": "code",
   "execution_count": 11,
   "id": "40d2f7cc-5aea-465b-a12a-e092ca637827",
   "metadata": {},
   "outputs": [],
   "source": [
    "seq = [0,1,0,2]\n",
    "alphabet_size = B.shape[-1]\n",
    "seq = np.eye(alphabet_size)[seq]"
   ]
  },
  {
   "cell_type": "code",
   "execution_count": 12,
   "id": "9c414df4-b725-4c66-bf1c-6784bc064bd6",
   "metadata": {},
   "outputs": [],
   "source": [
    "alpha = forward(seq, init, A, B)\n",
    "beta = backward(seq, init, A, B)\n",
    "lik = likelihood_forward(alpha)\n",
    "lik2 = likelihood_backward(beta, seq, init, B)\n",
    "np.testing.assert_almost_equal(lik, lik2)\n",
    "posterior_probs = posterior(alpha, beta, lik)\n",
    "alpha_scaled, lik3 = forward(seq, init, A, B, scaled=True)\n",
    "np.testing.assert_almost_equal(lik, lik3)"
   ]
  },
  {
   "cell_type": "code",
   "execution_count": 13,
   "id": "76af9c8a-dcd9-4fe9-9608-c9dc4a15f82d",
   "metadata": {},
   "outputs": [
    {
     "data": {
      "text/plain": [
       "array([[2.50000000e-01, 1.50000000e-01, 9.00000000e-03, 3.85000000e-02,\n",
       "        4.86000000e-02, 0.00000000e+00, 0.00000000e+00, 0.00000000e+00,\n",
       "        1.00000000e-04, 3.50000000e-04, 0.00000000e+00],\n",
       "       [7.50000000e-02, 3.00030000e-02, 1.47151620e-01, 4.87533000e-03,\n",
       "        3.73810800e-03, 7.50000000e-04, 2.25000000e-04, 5.77500000e-03,\n",
       "        5.59200200e-03, 1.95195070e-02, 0.00000000e+00],\n",
       "       [2.25000000e-02, 9.16776006e-03, 3.49785660e-03, 5.40398859e-02,\n",
       "        5.06894598e-02, 3.37515000e-04, 3.73504050e-03, 2.17504950e-03,\n",
       "        4.89105120e-03, 1.41671282e-02, 0.00000000e+00],\n",
       "       [0.00000000e+00, 0.00000000e+00, 0.00000000e+00, 0.00000000e+00,\n",
       "        0.00000000e+00, 0.00000000e+00, 0.00000000e+00, 0.00000000e+00,\n",
       "        0.00000000e+00, 0.00000000e+00, 1.13336506e-02]])"
      ]
     },
     "execution_count": 13,
     "metadata": {},
     "output_type": "execute_result"
    }
   ],
   "source": [
    "alpha"
   ]
  },
  {
   "cell_type": "code",
   "execution_count": 14,
   "id": "14676022-e9e0-4e22-bf75-6b6361fa61e8",
   "metadata": {},
   "outputs": [
    {
     "data": {
      "text/plain": [
       "array([[6.55932264e-03, 4.47112347e-02, 2.02424452e-02, 1.93615440e-02,\n",
       "        4.21142400e-02, 2.28876170e-02, 1.10750300e-02, 1.82501000e-02,\n",
       "        1.81209072e-03, 3.60000000e-02, 0.00000000e+00],\n",
       "       [4.55760160e-03, 3.19602200e-03, 5.05002600e-02, 6.80002000e-02,\n",
       "        1.40002000e-01, 6.50000000e-04, 3.50000000e-03, 4.50000000e-02,\n",
       "        1.14240040e-03, 1.20000000e-01, 0.00000000e+00],\n",
       "       [8.00000000e-05, 1.10000000e-03, 1.30000000e-02, 1.00000000e-02,\n",
       "        1.00000000e-01, 0.00000000e+00, 0.00000000e+00, 0.00000000e+00,\n",
       "        2.00000000e-05, 4.00000000e-01, 1.00000000e+00],\n",
       "       [1.00000000e+00, 1.00000000e+00, 1.00000000e+00, 1.00000000e+00,\n",
       "        1.00000000e+00, 1.00000000e+00, 1.00000000e+00, 1.00000000e+00,\n",
       "        1.00000000e+00, 1.00000000e+00, 1.00000000e+00]])"
      ]
     },
     "execution_count": 14,
     "metadata": {},
     "output_type": "execute_result"
    }
   ],
   "source": [
    "beta"
   ]
  },
  {
   "cell_type": "code",
   "execution_count": 15,
   "id": "aa228b70-f1b8-4eeb-b15d-5f41eda922ae",
   "metadata": {},
   "outputs": [
    {
     "data": {
      "text/plain": [
       "0.0113336505940908"
      ]
     },
     "execution_count": 15,
     "metadata": {},
     "output_type": "execute_result"
    }
   ],
   "source": [
    "lik"
   ]
  },
  {
   "cell_type": "code",
   "execution_count": 16,
   "id": "05f14171-6020-4ea0-8a1a-7678e0525862",
   "metadata": {},
   "outputs": [
    {
     "data": {
      "text/plain": [
       "array([[1.44686890e-01, 5.91749777e-01, 1.60744330e-02, 6.57704627e-02,\n",
       "        1.80590715e-01, 0.00000000e+00, 0.00000000e+00, 0.00000000e+00,\n",
       "        1.59885882e-05, 1.11173358e-03, 0.00000000e+00],\n",
       "       [3.01597545e-02, 8.46066740e-03, 6.55675328e-01, 2.92512472e-02,\n",
       "        4.61759953e-02, 4.30135018e-05, 6.94833490e-05, 2.29295052e-02,\n",
       "        5.63658220e-04, 2.06671347e-01, 0.00000000e+00],\n",
       "       [1.58819083e-04, 8.89787097e-04, 4.01213497e-03, 4.76809175e-02,\n",
       "        4.47247420e-01, 0.00000000e+00, 0.00000000e+00, 0.00000000e+00,\n",
       "        8.63102521e-06, 5.00002291e-01, 0.00000000e+00],\n",
       "       [0.00000000e+00, 0.00000000e+00, 0.00000000e+00, 0.00000000e+00,\n",
       "        0.00000000e+00, 0.00000000e+00, 0.00000000e+00, 0.00000000e+00,\n",
       "        0.00000000e+00, 0.00000000e+00, 1.00000000e+00]])"
      ]
     },
     "execution_count": 16,
     "metadata": {},
     "output_type": "execute_result"
    }
   ],
   "source": [
    "posterior_probs"
   ]
  },
  {
   "cell_type": "code",
   "execution_count": 17,
   "id": "a96ec55b-af66-4c01-9b51-6f05d2eb368a",
   "metadata": {},
   "outputs": [
    {
     "data": {
      "text/plain": [
       "array([[5.03473970e-01, 3.02084382e-01, 1.81250629e-02, 7.75349914e-02,\n",
       "        9.78753398e-02, 0.00000000e+00, 0.00000000e+00, 0.00000000e+00,\n",
       "        2.01389588e-04, 7.04863559e-04, 0.00000000e+00],\n",
       "       [2.56296726e-01, 1.02528942e-01, 5.02859713e-01, 1.66604149e-02,\n",
       "        1.27741979e-02, 2.56296726e-03, 7.68890178e-04, 1.97348479e-02,\n",
       "        1.91094907e-02, 6.67038099e-02, 0.00000000e+00],\n",
       "       [1.36197932e-01, 5.54946648e-02, 2.11733704e-02, 3.27116475e-01,\n",
       "        3.06835537e-01, 2.04305977e-03, 2.26091018e-02, 1.31660997e-02,\n",
       "        2.96067136e-02, 8.57570467e-02, 0.00000000e+00],\n",
       "       [0.00000000e+00, 0.00000000e+00, 0.00000000e+00, 0.00000000e+00,\n",
       "        0.00000000e+00, 0.00000000e+00, 0.00000000e+00, 0.00000000e+00,\n",
       "        0.00000000e+00, 0.00000000e+00, 1.00000000e+00]])"
      ]
     },
     "execution_count": 17,
     "metadata": {},
     "output_type": "execute_result"
    }
   ],
   "source": [
    "alpha_scaled"
   ]
  },
  {
   "cell_type": "markdown",
   "id": "ee9ece94-6d4e-41e6-9381-0e5031f99cbc",
   "metadata": {},
   "source": [
    "# Model B\n",
    "![](ModelB.png)"
   ]
  },
  {
   "cell_type": "code",
   "execution_count": 18,
   "id": "fac40632-faa0-48a3-9dad-53e93c4f49c2",
   "metadata": {},
   "outputs": [],
   "source": [
    "L,M1,M2,M3,I1,I2,C,R,T=tuple(range(9))"
   ]
  },
  {
   "cell_type": "code",
   "execution_count": 19,
   "id": "3ddf3f8f-d1d1-4602-bbd8-1dcc2541b4d1",
   "metadata": {},
   "outputs": [],
   "source": [
    "#folded probabilities\n",
    "A = np.zeros((9,9))\n",
    "B = np.zeros((9,3))"
   ]
  },
  {
   "cell_type": "code",
   "execution_count": 20,
   "id": "562046c2-a2c4-4919-9ab9-08c43781d2e3",
   "metadata": {},
   "outputs": [],
   "source": [
    "S_folded = np.zeros(9)\n",
    "S_folded[M1] = 0.7\n",
    "S_folded[M2] = 0.1+0.1*0.8\n",
    "S_folded[M3] = 0.1+0.1*0.2*0.5\n",
    "S_folded[C] = 0.1*0.2*0.5*0.2\n",
    "S_folded[R] = 0.1*0.2*0.5*0.7\n",
    "S_folded[T] = 0.1*0.2*0.5*0.1"
   ]
  },
  {
   "cell_type": "code",
   "execution_count": 21,
   "id": "6bd13fe6-705c-4900-808e-9f1d7d0d52eb",
   "metadata": {},
   "outputs": [],
   "source": [
    "init = 0.5 * S_folded\n",
    "init[L] = 0.5"
   ]
  },
  {
   "cell_type": "code",
   "execution_count": 33,
   "id": "1eb4ad0c-11fe-4eba-af7d-37baee0d2af4",
   "metadata": {},
   "outputs": [],
   "source": [
    "A[L,:] = 0.4 * S_folded\n",
    "A[L,L] = 0.6\n",
    "A[M1,M2] = 0.97\n",
    "A[M1,M3] = 0.01*0.5\n",
    "A[M1,I1] = 0.01\n",
    "M1_E = 0.01*0.5 + 0.01\n",
    "A[M1,C] = 0.2 * M1_E\n",
    "A[M1,R] = 0.7 * M1_E\n",
    "A[M1,T] = 0.1 * M1_E\n",
    "A[M2,M3] = 0.5\n",
    "A[M2,I2] = 0.05\n",
    "M2_E = 0.4 + 0.05\n",
    "A[M2,C] = 0.2 * M2_E\n",
    "A[M2,R] = 0.7 * M2_E\n",
    "A[M2,T] = 0.1 * M2_E\n",
    "A[M3,C] = 0.2 \n",
    "A[M3,R] = 0.7 \n",
    "A[M3,T] = 0.1 \n",
    "A[I1,I1] = 0.5\n",
    "A[I1,M2] = 0.5\n",
    "A[I2,I2] = 0.1\n",
    "A[I2,M3] = 0.9\n",
    "A[C,:] = 0.1 * S_folded\n",
    "A[C,C] = 0.9 + 0.1*0.1*0.2*0.5*0.2\n",
    "A[R,R] = 0.6\n",
    "A[R,T] = 0.4\n",
    "A[T,T] = 1"
   ]
  },
  {
   "cell_type": "code",
   "execution_count": 34,
   "id": "7eab621a-caea-4096-bef6-005fc58a62e9",
   "metadata": {},
   "outputs": [],
   "source": [
    "B[:,:2] = 0.5\n",
    "B[M2,:2] = (0.1, 0.9)\n",
    "B[M3,:2] = (0.7, 0.3)\n",
    "B[T,:] = (0,0,1)"
   ]
  },
  {
   "cell_type": "code",
   "execution_count": 35,
   "id": "1a308ec3-5baa-4940-86c7-597a6d2ab8be",
   "metadata": {},
   "outputs": [],
   "source": [
    "np.testing.assert_almost_equal(np.sum(init), 1)\n",
    "np.testing.assert_almost_equal(np.sum(A, -1), 1)\n",
    "np.testing.assert_almost_equal(np.sum(B, -1), 1)"
   ]
  },
  {
   "cell_type": "code",
   "execution_count": 36,
   "id": "5b8c7df5-c79f-42b8-8239-63e1f5ccbb1e",
   "metadata": {},
   "outputs": [
    {
     "data": {
      "text/plain": [
       "(array([[6.000e-01, 2.800e-01, 7.200e-02, 4.400e-02, 0.000e+00, 0.000e+00,\n",
       "         8.000e-04, 2.800e-03, 4.000e-04],\n",
       "        [0.000e+00, 0.000e+00, 9.700e-01, 5.000e-03, 1.000e-02, 0.000e+00,\n",
       "         3.000e-03, 1.050e-02, 1.500e-03],\n",
       "        [0.000e+00, 0.000e+00, 0.000e+00, 5.000e-01, 0.000e+00, 5.000e-02,\n",
       "         9.000e-02, 3.150e-01, 4.500e-02],\n",
       "        [0.000e+00, 0.000e+00, 0.000e+00, 0.000e+00, 0.000e+00, 0.000e+00,\n",
       "         2.000e-01, 7.000e-01, 1.000e-01],\n",
       "        [0.000e+00, 0.000e+00, 5.000e-01, 0.000e+00, 5.000e-01, 0.000e+00,\n",
       "         0.000e+00, 0.000e+00, 0.000e+00],\n",
       "        [0.000e+00, 0.000e+00, 0.000e+00, 9.000e-01, 0.000e+00, 1.000e-01,\n",
       "         0.000e+00, 0.000e+00, 0.000e+00],\n",
       "        [0.000e+00, 7.000e-02, 1.800e-02, 1.100e-02, 0.000e+00, 0.000e+00,\n",
       "         9.002e-01, 7.000e-04, 1.000e-04],\n",
       "        [0.000e+00, 0.000e+00, 0.000e+00, 0.000e+00, 0.000e+00, 0.000e+00,\n",
       "         0.000e+00, 6.000e-01, 4.000e-01],\n",
       "        [0.000e+00, 0.000e+00, 0.000e+00, 0.000e+00, 0.000e+00, 0.000e+00,\n",
       "         0.000e+00, 0.000e+00, 1.000e+00]]),\n",
       " array([[0.5, 0.5, 0. ],\n",
       "        [0.5, 0.5, 0. ],\n",
       "        [0.1, 0.9, 0. ],\n",
       "        [0.7, 0.3, 0. ],\n",
       "        [0.5, 0.5, 0. ],\n",
       "        [0.5, 0.5, 0. ],\n",
       "        [0.5, 0.5, 0. ],\n",
       "        [0.5, 0.5, 0. ],\n",
       "        [0. , 0. , 1. ]]),\n",
       " array([0.5   , 0.35  , 0.09  , 0.055 , 0.    , 0.    , 0.001 , 0.0035,\n",
       "        0.0005]))"
      ]
     },
     "execution_count": 36,
     "metadata": {},
     "output_type": "execute_result"
    }
   ],
   "source": [
    "A,B,init"
   ]
  },
  {
   "cell_type": "code",
   "execution_count": 37,
   "id": "833828bb-ad9d-4252-a3d0-6c329835dc83",
   "metadata": {},
   "outputs": [],
   "source": [
    "alpha = forward(seq, init, A, B)\n",
    "beta = backward(seq, init, A, B)\n",
    "lik = likelihood_forward(alpha)\n",
    "lik2 = likelihood_backward(beta, seq, init, B)\n",
    "np.testing.assert_almost_equal(lik, lik2)\n",
    "posterior_probs = posterior(alpha, beta, lik)\n",
    "alpha_scaled, lik3 = forward(seq, init, A, B, scaled=True)\n",
    "np.testing.assert_almost_equal(lik, lik3)"
   ]
  },
  {
   "cell_type": "code",
   "execution_count": 38,
   "id": "1fcdb74b-7c87-40d1-9319-6e5af136a7ac",
   "metadata": {},
   "outputs": [
    {
     "data": {
      "text/plain": [
       "array([[2.50000000e-01, 1.75000000e-01, 9.00000000e-03, 3.85000000e-02,\n",
       "        0.00000000e+00, 0.00000000e+00, 5.00000000e-04, 1.75000000e-03,\n",
       "        0.00000000e+00],\n",
       "       [7.50000000e-02, 3.50175000e-02, 1.68983100e-01, 4.91415000e-03,\n",
       "        8.75000000e-04, 2.25000000e-04, 4.84255000e-03, 1.66864250e-02,\n",
       "        0.00000000e+00],\n",
       "       [2.25000000e-02, 1.06694892e-02, 3.98916409e-03, 6.17556839e-02,\n",
       "        3.93837500e-04, 4.23582750e-03, 1.03578125e-02, 3.36312550e-02,\n",
       "        0.00000000e+00],\n",
       "       [0.00000000e+00, 0.00000000e+00, 0.00000000e+00, 0.00000000e+00,\n",
       "        0.00000000e+00, 0.00000000e+00, 0.00000000e+00, 0.00000000e+00,\n",
       "        1.98336228e-02]])"
      ]
     },
     "execution_count": 38,
     "metadata": {},
     "output_type": "execute_result"
    }
   ],
   "source": [
    "alpha"
   ]
  },
  {
   "cell_type": "code",
   "execution_count": 39,
   "id": "3c26f389-8c42-41f4-aef1-3a24a031886c",
   "metadata": {},
   "outputs": [
    {
     "data": {
      "text/plain": [
       "array([[1.06095920e-02, 8.64108263e-02, 4.15254829e-02, 4.21088510e-02,\n",
       "        4.46645250e-02, 4.09527000e-02, 2.82017450e-03, 3.60000000e-02,\n",
       "        0.00000000e+00],\n",
       "       [4.29404000e-03, 6.81515000e-03, 9.80045000e-02, 1.40010000e-01,\n",
       "        2.25000000e-03, 6.30000000e-02, 1.08851000e-03, 1.20000000e-01,\n",
       "        0.00000000e+00],\n",
       "       [4.00000000e-04, 1.50000000e-03, 4.50000000e-02, 1.00000000e-01,\n",
       "        0.00000000e+00, 0.00000000e+00, 1.00000000e-04, 4.00000000e-01,\n",
       "        1.00000000e+00],\n",
       "       [1.00000000e+00, 1.00000000e+00, 1.00000000e+00, 1.00000000e+00,\n",
       "        1.00000000e+00, 1.00000000e+00, 1.00000000e+00, 1.00000000e+00,\n",
       "        1.00000000e+00]])"
      ]
     },
     "execution_count": 39,
     "metadata": {},
     "output_type": "execute_result"
    }
   ],
   "source": [
    "beta"
   ]
  },
  {
   "cell_type": "code",
   "execution_count": 40,
   "id": "a9bee0ce-89ec-4ad3-8427-18b95d36b29c",
   "metadata": {},
   "outputs": [
    {
     "data": {
      "text/plain": [
       "0.0198336227946755"
      ]
     },
     "execution_count": 40,
     "metadata": {},
     "output_type": "execute_result"
    }
   ],
   "source": [
    "lik"
   ]
  },
  {
   "cell_type": "code",
   "execution_count": 41,
   "id": "b9b8eff0-62c7-401e-9fc4-d3e9ed280210",
   "metadata": {},
   "outputs": [
    {
     "data": {
      "text/plain": [
       "array([[1.33732401e-01, 7.62437340e-01, 1.88432215e-02, 8.17395178e-02,\n",
       "        0.00000000e+00, 0.00000000e+00, 7.10957985e-05, 3.17642423e-03,\n",
       "        0.00000000e+00],\n",
       "       [1.62377294e-02, 1.20325731e-02, 8.35001472e-01, 3.46900891e-02,\n",
       "        9.92632572e-05, 7.14695452e-04, 2.65769101e-04, 1.00958409e-01,\n",
       "        0.00000000e+00],\n",
       "       [4.53774890e-04, 8.06924385e-04, 9.05091248e-03, 3.11368652e-01,\n",
       "        0.00000000e+00, 0.00000000e+00, 5.22235025e-05, 6.78267513e-01,\n",
       "        0.00000000e+00],\n",
       "       [0.00000000e+00, 0.00000000e+00, 0.00000000e+00, 0.00000000e+00,\n",
       "        0.00000000e+00, 0.00000000e+00, 0.00000000e+00, 0.00000000e+00,\n",
       "        1.00000000e+00]])"
      ]
     },
     "execution_count": 41,
     "metadata": {},
     "output_type": "execute_result"
    }
   ],
   "source": [
    "posterior_probs"
   ]
  },
  {
   "cell_type": "code",
   "execution_count": 42,
   "id": "dbc92de4-91fb-4fac-8991-4281426d59c9",
   "metadata": {},
   "outputs": [
    {
     "data": {
      "text/plain": [
       "array([[5.26592944e-01, 3.68615061e-01, 1.89573460e-02, 8.10953133e-02,\n",
       "        0.00000000e+00, 0.00000000e+00, 1.05318589e-03, 3.68615061e-03,\n",
       "        0.00000000e+00],\n",
       "       [2.44663302e-01, 1.14233296e-01, 5.51252843e-01, 1.60308289e-02,\n",
       "        2.85440519e-03, 7.33989906e-04, 1.57972570e-02, 5.44340779e-02,\n",
       "        0.00000000e+00],\n",
       "       [1.52508180e-01, 7.23193062e-02, 2.70391181e-02, 4.18588754e-01,\n",
       "        2.66948624e-03, 2.87110375e-02, 7.02067172e-02, 2.27957400e-01,\n",
       "        0.00000000e+00],\n",
       "       [0.00000000e+00, 0.00000000e+00, 0.00000000e+00, 0.00000000e+00,\n",
       "        0.00000000e+00, 0.00000000e+00, 0.00000000e+00, 0.00000000e+00,\n",
       "        1.00000000e+00]])"
      ]
     },
     "execution_count": 42,
     "metadata": {},
     "output_type": "execute_result"
    }
   ],
   "source": [
    "alpha_scaled"
   ]
  },
  {
   "cell_type": "code",
   "execution_count": null,
   "id": "02b0f1e3-e23b-4fe0-9cd7-3793dc087a35",
   "metadata": {},
   "outputs": [],
   "source": []
  }
 ],
 "metadata": {
  "kernelspec": {
   "display_name": "Python 3",
   "language": "python",
   "name": "python3"
  },
  "language_info": {
   "codemirror_mode": {
    "name": "ipython",
    "version": 3
   },
   "file_extension": ".py",
   "mimetype": "text/x-python",
   "name": "python",
   "nbconvert_exporter": "python",
   "pygments_lexer": "ipython3",
   "version": "3.9.2"
  }
 },
 "nbformat": 4,
 "nbformat_minor": 5
}
