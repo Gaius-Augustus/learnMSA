{
 "cells": [
  {
   "cell_type": "code",
   "execution_count": 1,
   "metadata": {},
   "outputs": [],
   "source": [
    "import os\n",
    "os.environ[\"CUDA_VISIBLE_DEVICES\"] = \"1\"\n",
    "import numpy as np\n",
    "import tensorflow_probability as tfp\n",
    "tfd = tfp.distributions"
   ]
  },
  {
   "cell_type": "code",
   "execution_count": 2,
   "metadata": {},
   "outputs": [
    {
     "data": {
      "text/plain": [
       "array([[-0.55711553,  1.07635327],\n",
       "       [-0.13824083, -1.4178466 ],\n",
       "       [ 1.46240073, -2.68252912],\n",
       "       [-1.18024171,  0.89089846],\n",
       "       [ 1.65176728, -0.79594064]])"
      ]
     },
     "execution_count": 2,
     "metadata": {},
     "output_type": "execute_result"
    }
   ],
   "source": [
    "mu1 = np.array([-0.5, 1.2])\n",
    "sigma1 = np.array([[1.0, 0.5], [0.5, 1.0]])\n",
    "mu2 = np.array([1.0, -0.1])\n",
    "sigma2 = np.array([[1.0, 0.2], [0.2, 1.0]])\n",
    "\n",
    "states = np.array([0, 1, 1, 0, 1])[:, np.newaxis]\n",
    "obs1 = np.random.multivariate_normal(mu1, sigma1, size=(states.size))\n",
    "obs2 = np.random.multivariate_normal(mu2, sigma2, size=(states.size))\n",
    "\n",
    "obs = obs1 * (1-states) + obs2 * states\n",
    "obs"
   ]
  },
  {
   "cell_type": "code",
   "execution_count": 3,
   "metadata": {},
   "outputs": [
    {
     "name": "stderr",
     "output_type": "stream",
     "text": [
      "2023-12-05 15:40:06.714962: I tensorflow/core/platform/cpu_feature_guard.cc:193] This TensorFlow binary is optimized with oneAPI Deep Neural Network Library (oneDNN) to use the following CPU instructions in performance-critical operations:  AVX2 AVX512F AVX512_VNNI AVX512_BF16 FMA\n",
      "To enable them in other operations, rebuild TensorFlow with the appropriate compiler flags.\n",
      "2023-12-05 15:40:06.792015: I tensorflow/core/util/util.cc:169] oneDNN custom operations are on. You may see slightly different numerical results due to floating-point round-off errors from different computation orders. To turn them off, set the environment variable `TF_ENABLE_ONEDNN_OPTS=0`.\n",
      "2023-12-05 15:40:06.809375: E tensorflow/stream_executor/cuda/cuda_blas.cc:2981] Unable to register cuBLAS factory: Attempting to register factory for plugin cuBLAS when one has already been registered\n",
      "2023-12-05 15:40:07.195268: W tensorflow/stream_executor/platform/default/dso_loader.cc:64] Could not load dynamic library 'libnvinfer.so.7'; dlerror: libnvinfer.so.7: cannot open shared object file: No such file or directory; LD_LIBRARY_PATH: /home/beckerf/mambaforge/envs/learnMSAdev/lib/:/home/beckerf/mambaforge/envs/learnMSAdev/lib/python3.10/site-packages/nvidia/cudnn/lib:\n",
      "2023-12-05 15:40:07.197061: W tensorflow/stream_executor/platform/default/dso_loader.cc:64] Could not load dynamic library 'libnvinfer_plugin.so.7'; dlerror: libnvinfer_plugin.so.7: cannot open shared object file: No such file or directory; LD_LIBRARY_PATH: /home/beckerf/mambaforge/envs/learnMSAdev/lib/:/home/beckerf/mambaforge/envs/learnMSAdev/lib/python3.10/site-packages/nvidia/cudnn/lib:\n",
      "2023-12-05 15:40:07.197066: W tensorflow/compiler/tf2tensorrt/utils/py_utils.cc:38] TF-TRT Warning: Cannot dlopen some TensorRT libraries. If you would like to use Nvidia GPU with TensorRT, please make sure the missing libraries mentioned above are installed properly.\n"
     ]
    },
    {
     "name": "stdout",
     "output_type": "stream",
     "text": [
      "WARNING:tensorflow:From /home/beckerf/mambaforge/envs/learnMSAdev/lib/python3.10/site-packages/tensorflow_probability/python/distributions/distribution.py:342: MultivariateNormalFullCovariance.__init__ (from tensorflow_probability.python.distributions.mvn_full_covariance) is deprecated and will be removed after 2019-12-01.\n",
      "Instructions for updating:\n",
      "`MultivariateNormalFullCovariance` is deprecated, use `MultivariateNormalTriL(loc=loc, scale_tril=tf.linalg.cholesky(covariance_matrix))` instead.\n"
     ]
    },
    {
     "name": "stderr",
     "output_type": "stream",
     "text": [
      "2023-12-05 15:40:07.903741: I tensorflow/stream_executor/cuda/cuda_gpu_executor.cc:980] successful NUMA node read from SysFS had negative value (-1), but there must be at least one NUMA node, so returning NUMA node zero\n",
      "2023-12-05 15:40:07.921180: I tensorflow/stream_executor/cuda/cuda_gpu_executor.cc:980] successful NUMA node read from SysFS had negative value (-1), but there must be at least one NUMA node, so returning NUMA node zero\n",
      "2023-12-05 15:40:07.921320: I tensorflow/stream_executor/cuda/cuda_gpu_executor.cc:980] successful NUMA node read from SysFS had negative value (-1), but there must be at least one NUMA node, so returning NUMA node zero\n",
      "2023-12-05 15:40:07.921816: I tensorflow/core/platform/cpu_feature_guard.cc:193] This TensorFlow binary is optimized with oneAPI Deep Neural Network Library (oneDNN) to use the following CPU instructions in performance-critical operations:  AVX2 AVX512F AVX512_VNNI AVX512_BF16 FMA\n",
      "To enable them in other operations, rebuild TensorFlow with the appropriate compiler flags.\n",
      "2023-12-05 15:40:07.922911: I tensorflow/stream_executor/cuda/cuda_gpu_executor.cc:980] successful NUMA node read from SysFS had negative value (-1), but there must be at least one NUMA node, so returning NUMA node zero\n",
      "2023-12-05 15:40:07.923022: I tensorflow/stream_executor/cuda/cuda_gpu_executor.cc:980] successful NUMA node read from SysFS had negative value (-1), but there must be at least one NUMA node, so returning NUMA node zero\n",
      "2023-12-05 15:40:07.923112: I tensorflow/stream_executor/cuda/cuda_gpu_executor.cc:980] successful NUMA node read from SysFS had negative value (-1), but there must be at least one NUMA node, so returning NUMA node zero\n",
      "2023-12-05 15:40:08.215203: I tensorflow/stream_executor/cuda/cuda_gpu_executor.cc:980] successful NUMA node read from SysFS had negative value (-1), but there must be at least one NUMA node, so returning NUMA node zero\n",
      "2023-12-05 15:40:08.215355: I tensorflow/stream_executor/cuda/cuda_gpu_executor.cc:980] successful NUMA node read from SysFS had negative value (-1), but there must be at least one NUMA node, so returning NUMA node zero\n",
      "2023-12-05 15:40:08.215450: I tensorflow/stream_executor/cuda/cuda_gpu_executor.cc:980] successful NUMA node read from SysFS had negative value (-1), but there must be at least one NUMA node, so returning NUMA node zero\n",
      "2023-12-05 15:40:08.215539: I tensorflow/core/common_runtime/gpu/gpu_device.cc:1616] Created device /job:localhost/replica:0/task:0/device:GPU:0 with 22116 MB memory:  -> device: 0, name: NVIDIA GeForce RTX 4090, pci bus id: 0000:03:00.0, compute capability: 8.9\n",
      "2023-12-05 15:40:08.396932: I tensorflow/core/util/cuda_solvers.cc:179] Creating GpuSolver handles for stream 0x55b7d3ae5de0\n"
     ]
    }
   ],
   "source": [
    "B1 = tfd.MultivariateNormalFullCovariance(loc=mu1, covariance_matrix=sigma1) \n",
    "B2 = tfd.MultivariateNormalFullCovariance(loc=mu1, covariance_matrix=sigma2) "
   ]
  },
  {
   "cell_type": "code",
   "execution_count": 4,
   "metadata": {},
   "outputs": [
    {
     "data": {
      "text/plain": [
       "array([[1.82374126e-01, 1.61111822e-01],\n",
       "       [9.29017419e-04, 3.50957946e-03],\n",
       "       [3.79295400e-09, 1.74009587e-06],\n",
       "       [1.45723850e-01, 1.26890843e-01],\n",
       "       [3.36390312e-05, 7.47622325e-04]])"
      ]
     },
     "execution_count": 4,
     "metadata": {},
     "output_type": "execute_result"
    }
   ],
   "source": [
    "emissions = np.stack([B1.prob(obs), B2.prob(obs)], axis=-1)\n",
    "emissions"
   ]
  },
  {
   "cell_type": "code",
   "execution_count": 5,
   "metadata": {},
   "outputs": [
    {
     "data": {
      "text/plain": [
       "(5, 2)"
      ]
     },
     "execution_count": 5,
     "metadata": {},
     "output_type": "execute_result"
    }
   ],
   "source": [
    "emissions.shape"
   ]
  },
  {
   "cell_type": "code",
   "execution_count": 6,
   "metadata": {},
   "outputs": [],
   "source": [
    "A = np.array([[0.6, 0.4], [0.1, 0.9]])\n",
    "P0 = np.array([0.5, 0.5])"
   ]
  },
  {
   "cell_type": "code",
   "execution_count": 7,
   "metadata": {},
   "outputs": [
    {
     "name": "stdout",
     "output_type": "stream",
     "text": [
      "alpha=\n",
      " [[9.11870632e-02 8.05559109e-02]\n",
      " [5.83124065e-05 3.82456930e-04]\n",
      " [2.77769919e-13 6.39548223e-10]\n",
      " [9.34402956e-12 7.30516303e-11]\n",
      " [4.34333069e-16 5.19478488e-14]]\n",
      "beta=\n",
      " [[2.11889453e-13 4.10405698e-13]\n",
      " [5.71318219e-11 1.28251533e-10]\n",
      " [6.22345133e-05 8.18779461e-05]\n",
      " [3.19232349e-04 6.76223996e-04]\n",
      " [1.00000000e+00 1.00000000e+00]]\n",
      "likelihood=\n",
      " 5.238218183123123e-14\n",
      "posterior=\n",
      " [[3.68857812e-01 6.31142188e-01]\n",
      " [6.35997567e-02 9.36400243e-01]\n",
      " [3.30014427e-04 9.99669986e-01]\n",
      " [5.69452512e-02 9.43054749e-01]\n",
      " [8.29161851e-03 9.91708381e-01]]\n"
     ]
    }
   ],
   "source": [
    "# forward variables\n",
    "alpha = np.zeros((states.size, 2))\n",
    "alpha[0] = P0 * emissions[0]\n",
    "for i in range(1, states.size):\n",
    "    alpha[i] = np.matmul(alpha[i-1], A) * emissions[i]\n",
    "\n",
    "# backward variables\n",
    "beta = np.zeros((states.size, 2))\n",
    "beta[-1] = 1\n",
    "for i in range(states.size-2, -1, -1):\n",
    "    beta[i] = np.matmul(A, beta[i+1] * emissions[i+1])\n",
    "\n",
    "# likelihood\n",
    "likelihood = np.sum(alpha[-1])\n",
    "\n",
    "# state posterior probabilities\n",
    "posterior = alpha * beta / likelihood\n",
    "\n",
    "print(\"alpha=\\n\", alpha)\n",
    "print(\"beta=\\n\", beta)\n",
    "print(\"likelihood=\\n\", likelihood)\n",
    "print(\"posterior=\\n\", posterior)"
   ]
  },
  {
   "cell_type": "markdown",
   "metadata": {},
   "source": [
    "### Test real embeddings"
   ]
  },
  {
   "cell_type": "code",
   "execution_count": 8,
   "metadata": {},
   "outputs": [],
   "source": [
    "import sys\n",
    "sys.path.insert(0, \"..\")\n",
    "from learnMSA.protein_language_models import Common\n",
    "from learnMSA.protein_language_models.BilinearSymmetric import make_scoring_model\n",
    "from learnMSA.msa_hmm.SequenceDataset import SequenceDataset"
   ]
  },
  {
   "cell_type": "code",
   "execution_count": 9,
   "metadata": {},
   "outputs": [],
   "source": [
    "config = Common.ScoringModelConfig(dim=32, lm_name=\"esm2\", activation=\"sigmoid\", scaled=False)\n",
    "scoring_model = make_scoring_model(config, dropout=0.0, trainable=False)\n",
    "scoring_model_path = Common.get_scoring_model_path(config)\n",
    "scoring_model.load_weights(f\"../learnMSA/protein_language_models/\"+scoring_model_path)\n",
    "bilinear_symmetric_layer = scoring_model.layers[-1]"
   ]
  },
  {
   "cell_type": "code",
   "execution_count": 10,
   "metadata": {},
   "outputs": [
    {
     "name": "stderr",
     "output_type": "stream",
     "text": [
      "/home/beckerf/mambaforge/envs/learnMSAdev/lib/python3.10/site-packages/tqdm/auto.py:21: TqdmWarning: IProgress not found. Please update jupyter and ipywidgets. See https://ipywidgets.readthedocs.io/en/stable/user_install.html\n",
      "  from .autonotebook import tqdm as notebook_tqdm\n",
      "2023-12-05 15:40:11.494304: I tensorflow/stream_executor/cuda/cuda_blas.cc:1614] TensorFloat-32 will be used for the matrix multiplication. This will only be logged once.\n"
     ]
    }
   ],
   "source": [
    "language_model, encoder = Common.get_language_model(config.lm_name, max_len = 100, trainable=False)"
   ]
  },
  {
   "cell_type": "code",
   "execution_count": 11,
   "metadata": {},
   "outputs": [
    {
     "data": {
      "text/plain": [
       "TensorShape([10, 34, 32])"
      ]
     },
     "execution_count": 11,
     "metadata": {},
     "output_type": "execute_result"
    }
   ],
   "source": [
    "data = SequenceDataset(\"data/egf.fasta\")\n",
    "seq_batch = [data.get_standardized_seq(j) for j in range(10)]     \n",
    "lm_inputs = encoder(seq_batch, np.repeat([[False, False]], len(seq_batch), axis=0))\n",
    "emb = language_model(lm_inputs)\n",
    "reduced_emb = bilinear_symmetric_layer._reduce(emb, training=False)\n",
    "reduced_emb.shape"
   ]
  },
  {
   "cell_type": "code",
   "execution_count": 12,
   "metadata": {},
   "outputs": [
    {
     "data": {
      "text/plain": [
       "['CDPNPCYNHGTCSLRATGYTCSCLPRYTGEH',\n",
       " 'CDSQPCRNGTCSLNTNTDYTCACFPGYTGRY',\n",
       " 'CDSDPCLNGGTCTLRSLDSYSCACAPGYTGQH',\n",
       " 'CDHVTCLNGGTCQLKTLEDYTCACANGYTGER',\n",
       " 'CDHVTCLNGGTCQLKTLEEYTCACANGYTGDR',\n",
       " 'CDHVTCLNGGTCQLKTLEEYTCACANGYTGER',\n",
       " 'CDHVTCLNGGTCQLKTLEEYTCACANGYAGER',\n",
       " 'CDRHRCYNGGTCQLKTLQEATCACANGYTGEH',\n",
       " 'CDRHRCYNGGTCQLKTLQEATCACANGYTGEH',\n",
       " 'NACDRVRCQNGGTCQLKTLEDYTCSCANGYTGDH']"
      ]
     },
     "execution_count": 12,
     "metadata": {},
     "output_type": "execute_result"
    }
   ],
   "source": [
    "seq_batch"
   ]
  },
  {
   "cell_type": "code",
   "execution_count": 13,
   "metadata": {},
   "outputs": [
    {
     "data": {
      "text/plain": [
       "<tf.Tensor: shape=(10, 32), dtype=float32, numpy=\n",
       "array([[ 0.66692275,  0.04805628, -0.6304554 , -0.24984282,  0.05249589,\n",
       "         0.15149611,  0.0278357 , -0.53607917,  0.5306717 ,  0.10943736,\n",
       "         0.7228825 ,  0.58243716,  0.39630687, -0.47868562,  0.179137  ,\n",
       "        -0.21374679,  0.02084704,  0.07543623, -0.37353945,  0.13151303,\n",
       "         0.25534153, -0.0152976 , -0.25542912, -0.09959938,  0.304327  ,\n",
       "         0.24813297, -1.4251356 ,  0.5276846 , -0.48343372, -0.41279402,\n",
       "        -0.08422686,  0.5392273 ],\n",
       "       [ 0.6235782 , -0.01863993, -0.6402881 , -0.16266158,  0.05353891,\n",
       "         0.12203662,  0.07343104, -0.5461372 ,  0.5880978 ,  0.17223322,\n",
       "         0.7533261 ,  0.5048562 ,  0.39819658, -0.5423788 ,  0.1654509 ,\n",
       "        -0.22470437, -0.0192961 ,  0.01930928, -0.31966528,  0.1393848 ,\n",
       "         0.1991722 , -0.04538697, -0.21309344, -0.09424427,  0.37025216,\n",
       "         0.23474763, -1.4890687 ,  0.64384377, -0.41818753, -0.41294202,\n",
       "        -0.1172558 ,  0.5249025 ],\n",
       "       [ 0.6781459 , -0.00773353, -0.6723285 , -0.18899761,  0.07089376,\n",
       "         0.14530976,  0.04604312, -0.551078  ,  0.63269013,  0.16775489,\n",
       "         0.71968585,  0.52860206,  0.39336577, -0.53325415,  0.19015577,\n",
       "        -0.21259618, -0.01801822,  0.07253893, -0.34127775,  0.11111373,\n",
       "         0.21988726, -0.01020486, -0.23689732, -0.10519549,  0.33163464,\n",
       "         0.23630574, -1.468244  ,  0.61179376, -0.44418234, -0.4092049 ,\n",
       "        -0.11098108,  0.57674783],\n",
       "       [ 0.6373886 ,  0.01538923, -0.65380484, -0.15195258,  0.05026609,\n",
       "         0.14055055,  0.06741234, -0.54997206,  0.5564531 ,  0.1291813 ,\n",
       "         0.67548424,  0.5065601 ,  0.3574161 , -0.5089868 ,  0.16187192,\n",
       "        -0.22310011, -0.04383799,  0.11051414, -0.28890312,  0.12588558,\n",
       "         0.26011452, -0.03756952, -0.22795147, -0.08784191,  0.32619035,\n",
       "         0.23968804, -1.3814965 ,  0.58393013, -0.43264094, -0.37869087,\n",
       "        -0.13044058,  0.5423289 ],\n",
       "       [ 0.63826007,  0.0166483 , -0.647585  , -0.15720792,  0.05164788,\n",
       "         0.14750746,  0.07103115, -0.5485193 ,  0.56184065,  0.13272826,\n",
       "         0.67306167,  0.50790787,  0.35131118, -0.52647245,  0.15455355,\n",
       "        -0.22063802, -0.04505997,  0.10912637, -0.30033222,  0.12890825,\n",
       "         0.26094255, -0.03907395, -0.23980689, -0.09196598,  0.31959853,\n",
       "         0.25347486, -1.385319  ,  0.58822286, -0.44277385, -0.39001375,\n",
       "        -0.12363258,  0.5550576 ],\n",
       "       [ 0.6361632 ,  0.01042956, -0.65502113, -0.15332623,  0.05628143,\n",
       "         0.14778782,  0.06822512, -0.54763776,  0.56214994,  0.12724137,\n",
       "         0.6706778 ,  0.5110307 ,  0.3550638 , -0.5194385 ,  0.15721515,\n",
       "        -0.21947825, -0.04588759,  0.11004703, -0.28972554,  0.12981966,\n",
       "         0.26128024, -0.0433161 , -0.23533423, -0.0862872 ,  0.32506564,\n",
       "         0.24676025, -1.3892125 ,  0.59040153, -0.43747023, -0.38674054,\n",
       "        -0.12978223,  0.5540266 ],\n",
       "       [ 0.6245255 ,  0.01463864, -0.657721  , -0.14787723,  0.04169673,\n",
       "         0.14634345,  0.06573463, -0.54821116,  0.5607001 ,  0.12061368,\n",
       "         0.66545594,  0.50842637,  0.3479376 , -0.51588947,  0.16114697,\n",
       "        -0.2138556 , -0.05264693,  0.10973639, -0.27955398,  0.12964417,\n",
       "         0.2690753 , -0.04049489, -0.22972456, -0.08143606,  0.318962  ,\n",
       "         0.24466361, -1.3719484 ,  0.5842895 , -0.4408455 , -0.3794417 ,\n",
       "        -0.13044688,  0.5473547 ],\n",
       "       [ 0.64353657, -0.01560132, -0.61055064, -0.19348896,  0.01655369,\n",
       "         0.17345749,  0.09332838, -0.52459854,  0.54387736,  0.12400664,\n",
       "         0.67625177,  0.5251347 ,  0.33203304, -0.5101051 ,  0.11322428,\n",
       "        -0.24559826, -0.04325382,  0.06786761, -0.30959618,  0.14843625,\n",
       "         0.24169078, -0.06513409, -0.25197122, -0.08278504,  0.33359444,\n",
       "         0.2455424 , -1.3942295 ,  0.6166658 , -0.47061497, -0.36285743,\n",
       "        -0.13612098,  0.52535903],\n",
       "       [ 0.64353657, -0.01560132, -0.61055064, -0.19348896,  0.01655369,\n",
       "         0.17345749,  0.09332838, -0.52459854,  0.54387736,  0.12400664,\n",
       "         0.67625177,  0.5251347 ,  0.33203304, -0.5101051 ,  0.11322428,\n",
       "        -0.24559826, -0.04325382,  0.06786761, -0.30959618,  0.14843625,\n",
       "         0.24169078, -0.06513409, -0.25197122, -0.08278504,  0.33359444,\n",
       "         0.2455424 , -1.3942295 ,  0.6166658 , -0.47061497, -0.36285743,\n",
       "        -0.13612098,  0.52535903],\n",
       "       [ 0.6471217 ,  0.1378363 , -0.74305195, -0.1402038 , -0.04414836,\n",
       "         0.01563971,  0.00455112, -0.5491244 ,  0.4261861 ,  0.09251875,\n",
       "         0.7740272 ,  0.56516945,  0.40831694, -0.38583627,  0.21130536,\n",
       "        -0.16202533, -0.03077553,  0.0823443 , -0.3044987 ,  0.10965364,\n",
       "         0.16920933, -0.01321892, -0.21781553, -0.02350107,  0.32514217,\n",
       "         0.26988795, -1.3831367 ,  0.6200084 , -0.32055628, -0.4732412 ,\n",
       "        -0.03990685,  0.39235026]], dtype=float32)>"
      ]
     },
     "execution_count": 13,
     "metadata": {},
     "output_type": "execute_result"
    }
   ],
   "source": [
    "reduced_emb[:, 0]"
   ]
  },
  {
   "cell_type": "code",
   "execution_count": 14,
   "metadata": {},
   "outputs": [
    {
     "data": {
      "text/plain": [
       "array([0., 0., 0., 0., 0., 0., 0., 0., 0., 0., 0., 0., 0., 0., 0., 0., 0.,\n",
       "       0., 0., 0., 0., 0., 0., 0., 0., 0., 0., 0., 0., 0., 0., 0.])"
      ]
     },
     "execution_count": 14,
     "metadata": {},
     "output_type": "execute_result"
    }
   ],
   "source": [
    "from learnMSA.msa_hmm import Configuration, Align, Visualize, Emitter, Transitioner, Initializers, Training\n",
    "\n",
    "Initializers.AminoAcidPlusMvnEmissionInitializer(config).global_emb"
   ]
  },
  {
   "cell_type": "code",
   "execution_count": 15,
   "metadata": {},
   "outputs": [],
   "source": [
    "mu_large = Initializers.AminoAcidPlusMvnEmissionInitializer(config).global_emb\n",
    "#mu_large = np.zeros(config.dim)\n",
    "# sigma_large = np.random.normal(0, 0.001, (config.dim, config.dim))\n",
    "# sigma_large = (sigma_large + sigma_large.T) / 2\n",
    "# sigma_large = sigma_large * (1-np.eye(config.dim)) + np.eye(config.dim) * 1 # positive diagonal\n",
    "sigma_large = np.eye(config.dim) * 1\n",
    "mu_large = mu_large.astype(np.float32)\n",
    "sigma_large = sigma_large.astype(np.float32)"
   ]
  },
  {
   "cell_type": "code",
   "execution_count": 16,
   "metadata": {},
   "outputs": [],
   "source": [
    "B_large = tfd.MultivariateNormalFullCovariance(loc=mu_large, covariance_matrix=sigma_large) "
   ]
  },
  {
   "cell_type": "code",
   "execution_count": 17,
   "metadata": {},
   "outputs": [
    {
     "data": {
      "text/plain": [
       "(<tf.Tensor: shape=(34,), dtype=float32, numpy=\n",
       " array([7.22866303e-15, 6.26343172e-15, 2.71328980e-14, 1.91586622e-14,\n",
       "        1.34099232e-14, 1.27543663e-14, 2.84037015e-14, 1.88807134e-14,\n",
       "        1.21130311e-14, 1.36527015e-14, 1.29331470e-14, 9.96147422e-15,\n",
       "        2.20431583e-14, 4.08022174e-14, 1.76430559e-14, 3.55385379e-14,\n",
       "        5.95116540e-14, 5.76013982e-14, 4.68330039e-14, 3.20261497e-14,\n",
       "        3.21066992e-14, 3.60991517e-14, 4.97518354e-14, 4.83823525e-14,\n",
       "        2.09175074e-14, 3.58900328e-14, 9.08748107e-15, 1.93054648e-14,\n",
       "        1.69414856e-14, 1.48328479e-14, 1.08039247e-14, 1.69481508e-13,\n",
       "        1.69481508e-13, 1.69481508e-13], dtype=float32)>,\n",
       " <tf.Tensor: shape=(34,), dtype=float32, numpy=\n",
       " array([-32.560722, -32.70405 , -31.23803 , -31.586021, -31.942781,\n",
       "        -31.992903, -31.192257, -31.600636, -32.044495, -31.924839,\n",
       "        -31.978983, -32.24005 , -31.445774, -30.83004 , -31.668434,\n",
       "        -30.968159, -30.452604, -30.48523 , -30.692188, -31.072224,\n",
       "        -31.069712, -30.952507, -30.63173 , -30.659641, -31.49819 ,\n",
       "        -30.958317, -32.33188 , -31.578388, -31.709011, -31.841932,\n",
       "        -32.158867, -29.406033, -29.406033, -29.406033], dtype=float32)>)"
      ]
     },
     "execution_count": 17,
     "metadata": {},
     "output_type": "execute_result"
    }
   ],
   "source": [
    "B_large.prob(reduced_emb[0]), B_large.log_prob(reduced_emb[0])"
   ]
  },
  {
   "cell_type": "code",
   "execution_count": 18,
   "metadata": {},
   "outputs": [
    {
     "name": "stdout",
     "output_type": "stream",
     "text": [
      "Loading scoring model  new_scoring_models_frozen/esm2_32_sigmoid/checkpoints\n",
      "Loading prior  /home/beckerf/brain/tmp_work/learnMSA/test/../learnMSA/msa_hmm/../protein_language_models/new_priors/esm2_32_reduced_mix100_sigmoid/checkpoints\n",
      "Loading prior  /home/beckerf/brain/tmp_work/learnMSA/test/../learnMSA/msa_hmm/../protein_language_models/new_priors/esm2_32_reduced_mix100_sigmoid/checkpoints\n"
     ]
    }
   ],
   "source": [
    "from learnMSA.msa_hmm import Emitter, MsaHmmCell\n",
    "import tensorflow as tf\n",
    "\n",
    "em = Emitter.MVNEmitter(config)\n",
    "cell = MsaHmmCell.MsaHmmCell([20], emitter=[em])\n",
    "em.cell_init(cell)\n",
    "cell.build([1, reduced_emb.shape[-1]])\n",
    "cell.recurrent_init()"
   ]
  },
  {
   "cell_type": "code",
   "execution_count": 30,
   "metadata": {},
   "outputs": [
    {
     "data": {
      "text/plain": [
       "<tf.Tensor: shape=(34,), dtype=float32, numpy=\n",
       "array([-32.56023 , -32.703613, -31.238361, -31.58633 , -31.942822,\n",
       "       -31.992249, -31.192743, -31.600811, -32.04517 , -31.924673,\n",
       "       -31.978964, -32.23983 , -31.445961, -30.829882, -31.669186,\n",
       "       -30.96814 , -30.45275 , -30.485249, -30.692434, -31.072147,\n",
       "       -31.069647, -30.952482, -30.631992, -30.659657, -31.497744,\n",
       "       -30.958572, -32.331703, -31.578377, -31.709175, -31.841656,\n",
       "       -32.158894, -29.406033, -29.406033, -29.406033], dtype=float32)>"
      ]
     },
     "execution_count": 30,
     "metadata": {},
     "output_type": "execute_result"
    }
   ],
   "source": [
    "em.mvn_log_pdf(tf.reshape(reduced_emb, (1, -1, 32)))[0, :34, 0]"
   ]
  },
  {
   "cell_type": "code",
   "execution_count": 20,
   "metadata": {},
   "outputs": [
    {
     "data": {
      "text/plain": [
       "<tf.Tensor: shape=(5, 64), dtype=float32, numpy=\n",
       "array([[0., 0., 0., 0., 0., 0., 0., 0., 0., 0., 0., 0., 0., 0., 0., 0.,\n",
       "        0., 0., 0., 0., 0., 0., 0., 0., 0., 0., 0., 0., 0., 0., 0., 0.,\n",
       "        0., 0., 0., 0., 0., 0., 0., 0., 0., 0., 0., 0., 0., 0., 0., 0.,\n",
       "        0., 0., 0., 0., 0., 0., 0., 0., 0., 0., 0., 0., 0., 0., 0., 0.],\n",
       "       [0., 0., 0., 0., 0., 0., 0., 0., 0., 0., 0., 0., 0., 0., 0., 0.,\n",
       "        0., 0., 0., 0., 0., 0., 0., 0., 0., 0., 0., 0., 0., 0., 0., 0.,\n",
       "        0., 0., 0., 0., 0., 0., 0., 0., 0., 0., 0., 0., 0., 0., 0., 0.,\n",
       "        0., 0., 0., 0., 0., 0., 0., 0., 0., 0., 0., 0., 0., 0., 0., 0.],\n",
       "       [0., 0., 0., 0., 0., 0., 0., 0., 0., 0., 0., 0., 0., 0., 0., 0.,\n",
       "        0., 0., 0., 0., 0., 0., 0., 0., 0., 0., 0., 0., 0., 0., 0., 0.,\n",
       "        0., 0., 0., 0., 0., 0., 0., 0., 0., 0., 0., 0., 0., 0., 0., 0.,\n",
       "        0., 0., 0., 0., 0., 0., 0., 0., 0., 0., 0., 0., 0., 0., 0., 0.],\n",
       "       [0., 0., 0., 0., 0., 0., 0., 0., 0., 0., 0., 0., 0., 0., 0., 0.,\n",
       "        0., 0., 0., 0., 0., 0., 0., 0., 0., 0., 0., 0., 0., 0., 0., 0.,\n",
       "        0., 0., 0., 0., 0., 0., 0., 0., 0., 0., 0., 0., 0., 0., 0., 0.,\n",
       "        0., 0., 0., 0., 0., 0., 0., 0., 0., 0., 0., 0., 0., 0., 0., 0.],\n",
       "       [0., 0., 0., 0., 0., 0., 0., 0., 0., 0., 0., 0., 0., 0., 0., 0.,\n",
       "        0., 0., 0., 0., 0., 0., 0., 0., 0., 0., 0., 0., 0., 0., 0., 0.,\n",
       "        0., 0., 0., 0., 0., 0., 0., 0., 0., 0., 0., 0., 0., 0., 0., 0.,\n",
       "        0., 0., 0., 0., 0., 0., 0., 0., 0., 0., 0., 0., 0., 0., 0., 0.]],\n",
       "      dtype=float32)>"
      ]
     },
     "execution_count": 20,
     "metadata": {},
     "output_type": "execute_result"
    }
   ],
   "source": [
    "em.make_B()[0,:5,24:]"
   ]
  },
  {
   "cell_type": "code",
   "execution_count": 21,
   "metadata": {},
   "outputs": [
    {
     "data": {
      "text/plain": [
       "False"
      ]
     },
     "execution_count": 21,
     "metadata": {},
     "output_type": "execute_result"
    }
   ],
   "source": [
    "em.full_covariance"
   ]
  },
  {
   "cell_type": "code",
   "execution_count": 22,
   "metadata": {},
   "outputs": [],
   "source": [
    "scale_kernel = em.B[:, :max(em.length)+1, len(SequenceDataset.alphabet)+em.scoring_model_config.dim:]\n",
    "scale = tf.eye(em.scoring_model_config.dim, batch_shape=tf.shape(scale_kernel)[:-1]) * tf.math.softplus(scale_kernel + em.scale_diag_init)[..., tf.newaxis]\n",
    "pinv = 1 / (scale+1e-6)"
   ]
  },
  {
   "cell_type": "code",
   "execution_count": 26,
   "metadata": {},
   "outputs": [
    {
     "data": {
      "text/plain": [
       "<tf.Tensor: shape=(1, 21, 32, 32), dtype=float32, numpy=\n",
       "array([[[[9.9999905e-01, 1.0000000e+06, 1.0000000e+06, ...,\n",
       "          1.0000000e+06, 1.0000000e+06, 1.0000000e+06],\n",
       "         [1.0000000e+06, 9.9999905e-01, 1.0000000e+06, ...,\n",
       "          1.0000000e+06, 1.0000000e+06, 1.0000000e+06],\n",
       "         [1.0000000e+06, 1.0000000e+06, 9.9999905e-01, ...,\n",
       "          1.0000000e+06, 1.0000000e+06, 1.0000000e+06],\n",
       "         ...,\n",
       "         [1.0000000e+06, 1.0000000e+06, 1.0000000e+06, ...,\n",
       "          9.9999905e-01, 1.0000000e+06, 1.0000000e+06],\n",
       "         [1.0000000e+06, 1.0000000e+06, 1.0000000e+06, ...,\n",
       "          1.0000000e+06, 9.9999905e-01, 1.0000000e+06],\n",
       "         [1.0000000e+06, 1.0000000e+06, 1.0000000e+06, ...,\n",
       "          1.0000000e+06, 1.0000000e+06, 9.9999905e-01]],\n",
       "\n",
       "        [[9.9999905e-01, 1.0000000e+06, 1.0000000e+06, ...,\n",
       "          1.0000000e+06, 1.0000000e+06, 1.0000000e+06],\n",
       "         [1.0000000e+06, 9.9999905e-01, 1.0000000e+06, ...,\n",
       "          1.0000000e+06, 1.0000000e+06, 1.0000000e+06],\n",
       "         [1.0000000e+06, 1.0000000e+06, 9.9999905e-01, ...,\n",
       "          1.0000000e+06, 1.0000000e+06, 1.0000000e+06],\n",
       "         ...,\n",
       "         [1.0000000e+06, 1.0000000e+06, 1.0000000e+06, ...,\n",
       "          9.9999905e-01, 1.0000000e+06, 1.0000000e+06],\n",
       "         [1.0000000e+06, 1.0000000e+06, 1.0000000e+06, ...,\n",
       "          1.0000000e+06, 9.9999905e-01, 1.0000000e+06],\n",
       "         [1.0000000e+06, 1.0000000e+06, 1.0000000e+06, ...,\n",
       "          1.0000000e+06, 1.0000000e+06, 9.9999905e-01]],\n",
       "\n",
       "        [[9.9999905e-01, 1.0000000e+06, 1.0000000e+06, ...,\n",
       "          1.0000000e+06, 1.0000000e+06, 1.0000000e+06],\n",
       "         [1.0000000e+06, 9.9999905e-01, 1.0000000e+06, ...,\n",
       "          1.0000000e+06, 1.0000000e+06, 1.0000000e+06],\n",
       "         [1.0000000e+06, 1.0000000e+06, 9.9999905e-01, ...,\n",
       "          1.0000000e+06, 1.0000000e+06, 1.0000000e+06],\n",
       "         ...,\n",
       "         [1.0000000e+06, 1.0000000e+06, 1.0000000e+06, ...,\n",
       "          9.9999905e-01, 1.0000000e+06, 1.0000000e+06],\n",
       "         [1.0000000e+06, 1.0000000e+06, 1.0000000e+06, ...,\n",
       "          1.0000000e+06, 9.9999905e-01, 1.0000000e+06],\n",
       "         [1.0000000e+06, 1.0000000e+06, 1.0000000e+06, ...,\n",
       "          1.0000000e+06, 1.0000000e+06, 9.9999905e-01]],\n",
       "\n",
       "        ...,\n",
       "\n",
       "        [[9.9999905e-01, 1.0000000e+06, 1.0000000e+06, ...,\n",
       "          1.0000000e+06, 1.0000000e+06, 1.0000000e+06],\n",
       "         [1.0000000e+06, 9.9999905e-01, 1.0000000e+06, ...,\n",
       "          1.0000000e+06, 1.0000000e+06, 1.0000000e+06],\n",
       "         [1.0000000e+06, 1.0000000e+06, 9.9999905e-01, ...,\n",
       "          1.0000000e+06, 1.0000000e+06, 1.0000000e+06],\n",
       "         ...,\n",
       "         [1.0000000e+06, 1.0000000e+06, 1.0000000e+06, ...,\n",
       "          9.9999905e-01, 1.0000000e+06, 1.0000000e+06],\n",
       "         [1.0000000e+06, 1.0000000e+06, 1.0000000e+06, ...,\n",
       "          1.0000000e+06, 9.9999905e-01, 1.0000000e+06],\n",
       "         [1.0000000e+06, 1.0000000e+06, 1.0000000e+06, ...,\n",
       "          1.0000000e+06, 1.0000000e+06, 9.9999905e-01]],\n",
       "\n",
       "        [[9.9999905e-01, 1.0000000e+06, 1.0000000e+06, ...,\n",
       "          1.0000000e+06, 1.0000000e+06, 1.0000000e+06],\n",
       "         [1.0000000e+06, 9.9999905e-01, 1.0000000e+06, ...,\n",
       "          1.0000000e+06, 1.0000000e+06, 1.0000000e+06],\n",
       "         [1.0000000e+06, 1.0000000e+06, 9.9999905e-01, ...,\n",
       "          1.0000000e+06, 1.0000000e+06, 1.0000000e+06],\n",
       "         ...,\n",
       "         [1.0000000e+06, 1.0000000e+06, 1.0000000e+06, ...,\n",
       "          9.9999905e-01, 1.0000000e+06, 1.0000000e+06],\n",
       "         [1.0000000e+06, 1.0000000e+06, 1.0000000e+06, ...,\n",
       "          1.0000000e+06, 9.9999905e-01, 1.0000000e+06],\n",
       "         [1.0000000e+06, 1.0000000e+06, 1.0000000e+06, ...,\n",
       "          1.0000000e+06, 1.0000000e+06, 9.9999905e-01]],\n",
       "\n",
       "        [[9.9999905e-01, 1.0000000e+06, 1.0000000e+06, ...,\n",
       "          1.0000000e+06, 1.0000000e+06, 1.0000000e+06],\n",
       "         [1.0000000e+06, 9.9999905e-01, 1.0000000e+06, ...,\n",
       "          1.0000000e+06, 1.0000000e+06, 1.0000000e+06],\n",
       "         [1.0000000e+06, 1.0000000e+06, 9.9999905e-01, ...,\n",
       "          1.0000000e+06, 1.0000000e+06, 1.0000000e+06],\n",
       "         ...,\n",
       "         [1.0000000e+06, 1.0000000e+06, 1.0000000e+06, ...,\n",
       "          9.9999905e-01, 1.0000000e+06, 1.0000000e+06],\n",
       "         [1.0000000e+06, 1.0000000e+06, 1.0000000e+06, ...,\n",
       "          1.0000000e+06, 9.9999905e-01, 1.0000000e+06],\n",
       "         [1.0000000e+06, 1.0000000e+06, 1.0000000e+06, ...,\n",
       "          1.0000000e+06, 1.0000000e+06, 9.9999905e-01]]]], dtype=float32)>"
      ]
     },
     "execution_count": 26,
     "metadata": {},
     "output_type": "execute_result"
    }
   ],
   "source": [
    "pinv"
   ]
  },
  {
   "cell_type": "code",
   "execution_count": 24,
   "metadata": {},
   "outputs": [],
   "source": [
    "terminal = tf.cast(tf.reduce_all(reduced_emb == 0, axis=-1, keepdims=True), tf.float32)\n",
    "fake_aa = tf.zeros_like(reduced_emb[...,:23])\n",
    "full_input = tf.concat([fake_aa, terminal, reduced_emb, terminal], axis=-1)\n",
    "full_input = full_input[tf.newaxis, ...]"
   ]
  },
  {
   "cell_type": "code",
   "execution_count": 25,
   "metadata": {},
   "outputs": [
    {
     "data": {
      "text/plain": [
       "<tf.Tensor: shape=(10, 34, 43), dtype=float32, numpy=\n",
       "array([[[0., 0., 0., ..., 0., 0., 0.],\n",
       "        [0., 0., 0., ..., 0., 0., 0.],\n",
       "        [0., 0., 0., ..., 0., 0., 0.],\n",
       "        ...,\n",
       "        [0., 0., 0., ..., 0., 0., 1.],\n",
       "        [0., 0., 0., ..., 0., 0., 1.],\n",
       "        [0., 0., 0., ..., 0., 0., 1.]],\n",
       "\n",
       "       [[0., 0., 0., ..., 0., 0., 0.],\n",
       "        [0., 0., 0., ..., 0., 0., 0.],\n",
       "        [0., 0., 0., ..., 0., 0., 0.],\n",
       "        ...,\n",
       "        [0., 0., 0., ..., 0., 0., 1.],\n",
       "        [0., 0., 0., ..., 0., 0., 1.],\n",
       "        [0., 0., 0., ..., 0., 0., 1.]],\n",
       "\n",
       "       [[0., 0., 0., ..., 0., 0., 0.],\n",
       "        [0., 0., 0., ..., 0., 0., 0.],\n",
       "        [0., 0., 0., ..., 0., 0., 0.],\n",
       "        ...,\n",
       "        [0., 0., 0., ..., 0., 0., 0.],\n",
       "        [0., 0., 0., ..., 0., 0., 1.],\n",
       "        [0., 0., 0., ..., 0., 0., 1.]],\n",
       "\n",
       "       ...,\n",
       "\n",
       "       [[0., 0., 0., ..., 0., 0., 0.],\n",
       "        [0., 0., 0., ..., 0., 0., 0.],\n",
       "        [0., 0., 0., ..., 0., 0., 0.],\n",
       "        ...,\n",
       "        [0., 0., 0., ..., 0., 0., 0.],\n",
       "        [0., 0., 0., ..., 0., 0., 1.],\n",
       "        [0., 0., 0., ..., 0., 0., 1.]],\n",
       "\n",
       "       [[0., 0., 0., ..., 0., 0., 0.],\n",
       "        [0., 0., 0., ..., 0., 0., 0.],\n",
       "        [0., 0., 0., ..., 0., 0., 0.],\n",
       "        ...,\n",
       "        [0., 0., 0., ..., 0., 0., 0.],\n",
       "        [0., 0., 0., ..., 0., 0., 1.],\n",
       "        [0., 0., 0., ..., 0., 0., 1.]],\n",
       "\n",
       "       [[0., 0., 0., ..., 0., 0., 0.],\n",
       "        [0., 0., 0., ..., 0., 0., 0.],\n",
       "        [0., 0., 0., ..., 0., 0., 0.],\n",
       "        ...,\n",
       "        [0., 0., 0., ..., 0., 0., 0.],\n",
       "        [0., 0., 0., ..., 0., 0., 0.],\n",
       "        [0., 0., 0., ..., 0., 0., 0.]]], dtype=float32)>"
      ]
     },
     "execution_count": 25,
     "metadata": {},
     "output_type": "execute_result"
    }
   ],
   "source": [
    "em(full_input)[0]"
   ]
  },
  {
   "cell_type": "code",
   "execution_count": null,
   "metadata": {},
   "outputs": [],
   "source": []
  }
 ],
 "metadata": {
  "kernelspec": {
   "display_name": "Python 3",
   "language": "python",
   "name": "python3"
  },
  "language_info": {
   "codemirror_mode": {
    "name": "ipython",
    "version": 3
   },
   "file_extension": ".py",
   "mimetype": "text/x-python",
   "name": "python",
   "nbconvert_exporter": "python",
   "pygments_lexer": "ipython3",
   "version": "3.10.12"
  },
  "orig_nbformat": 4
 },
 "nbformat": 4,
 "nbformat_minor": 2
}
