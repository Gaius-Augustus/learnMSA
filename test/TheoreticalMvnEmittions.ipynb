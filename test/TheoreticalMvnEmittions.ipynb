{
 "cells": [
  {
   "cell_type": "code",
   "execution_count": 1,
   "metadata": {},
   "outputs": [],
   "source": [
    "import os\n",
    "os.environ[\"CUDA_VISIBLE_DEVICES\"] = \"1\"\n",
    "import numpy as np\n",
    "import tensorflow_probability as tfp\n",
    "tfd = tfp.distributions"
   ]
  },
  {
   "cell_type": "code",
   "execution_count": 13,
   "metadata": {},
   "outputs": [
    {
     "data": {
      "text/plain": [
       "array([[-0.76245762,  0.85492254],\n",
       "       [ 1.00578533,  0.61584925],\n",
       "       [ 0.52215263, -0.12287415],\n",
       "       [-0.09523309,  1.56628671],\n",
       "       [-0.30545132, -1.14517517]])"
      ]
     },
     "execution_count": 13,
     "metadata": {},
     "output_type": "execute_result"
    }
   ],
   "source": [
    "mu1 = np.array([-0.5, 1.2])\n",
    "sigma1 = np.array([[1.0, 0.5], [0.5, 1.0]])\n",
    "mu2 = np.array([1.0, -0.1])\n",
    "sigma2 = np.array([[1.0, 0.2], [0.2, 1.0]])\n",
    "\n",
    "states = np.array([0, 1, 1, 0, 1])[:, np.newaxis]\n",
    "obs1 = np.random.multivariate_normal(mu1, sigma1, size=(states.size))\n",
    "obs2 = np.random.multivariate_normal(mu2, sigma2, size=(states.size))\n",
    "\n",
    "obs = obs1 * (1-states) + obs2 * states\n",
    "obs"
   ]
  },
  {
   "cell_type": "code",
   "execution_count": 14,
   "metadata": {},
   "outputs": [],
   "source": [
    "B1 = tfd.MultivariateNormalFullCovariance(loc=mu1, covariance_matrix=sigma1) \n",
    "B2 = tfd.MultivariateNormalFullCovariance(loc=mu1, covariance_matrix=sigma2) "
   ]
  },
  {
   "cell_type": "code",
   "execution_count": 15,
   "metadata": {},
   "outputs": [
    {
     "data": {
      "text/plain": [
       "array([[0.17222293, 0.15009381],\n",
       "       [0.01796157, 0.034757  ],\n",
       "       [0.01157759, 0.02858735],\n",
       "       [0.16631633, 0.14344725],\n",
       "       [0.00337959, 0.00825666]])"
      ]
     },
     "execution_count": 15,
     "metadata": {},
     "output_type": "execute_result"
    }
   ],
   "source": [
    "emissions = np.stack([B1.prob(obs), B2.prob(obs)], axis=-1)\n",
    "emissions"
   ]
  },
  {
   "cell_type": "code",
   "execution_count": 16,
   "metadata": {},
   "outputs": [
    {
     "data": {
      "text/plain": [
       "(5, 2)"
      ]
     },
     "execution_count": 16,
     "metadata": {},
     "output_type": "execute_result"
    }
   ],
   "source": [
    "emissions.shape"
   ]
  },
  {
   "cell_type": "code",
   "execution_count": 17,
   "metadata": {},
   "outputs": [],
   "source": [
    "A = np.array([[0.6, 0.4], [0.1, 0.9]])\n",
    "P0 = np.array([0.5, 0.5])"
   ]
  },
  {
   "cell_type": "code",
   "execution_count": 21,
   "metadata": {},
   "outputs": [
    {
     "name": "stdout",
     "output_type": "stream",
     "text": [
      "alpha=\n",
      " [[8.61114657e-02 7.50469031e-02]\n",
      " [1.06281427e-03 3.54475512e-03]\n",
      " [1.14868731e-05 1.03354861e-04]\n",
      " [2.86523294e-06 1.40024778e-05]\n",
      " [1.05422566e-08 1.13515263e-07]]\n",
      "beta=\n",
      " [[6.13938764e-07 9.48611473e-07]\n",
      " [1.92745179e-05 2.92184604e-05]\n",
      " [9.77695674e-04 1.09164536e-03]\n",
      " [5.33042007e-03 7.76895538e-03]\n",
      " [1.00000000e+00 1.00000000e+00]]\n",
      "likelihood=\n",
      " 1.2405752005285194e-07\n",
      "posterior=\n",
      " [[0.42615044 0.57384956]\n",
      " [0.16512689 0.83487311]\n",
      " [0.0905279  0.9094721 ]\n",
      " [0.1231114  0.8768886 ]\n",
      " [0.08497878 0.91502122]]\n"
     ]
    }
   ],
   "source": [
    "# forward variables\n",
    "alpha = np.zeros((states.size, 2))\n",
    "alpha[0] = P0 * emissions[0]\n",
    "for i in range(1, states.size):\n",
    "    alpha[i] = np.matmul(alpha[i-1], A) * emissions[i]\n",
    "\n",
    "# backward variables\n",
    "beta = np.zeros((states.size, 2))\n",
    "beta[-1] = 1\n",
    "for i in range(states.size-2, -1, -1):\n",
    "    beta[i] = np.matmul(A, beta[i+1] * emissions[i+1])\n",
    "\n",
    "# likelihood\n",
    "likelihood = np.sum(alpha[-1])\n",
    "\n",
    "# state posterior probabilities\n",
    "posterior = alpha * beta / likelihood\n",
    "\n",
    "print(\"alpha=\\n\", alpha)\n",
    "print(\"beta=\\n\", beta)\n",
    "print(\"likelihood=\\n\", likelihood)\n",
    "print(\"posterior=\\n\", posterior)"
   ]
  },
  {
   "cell_type": "code",
   "execution_count": null,
   "metadata": {},
   "outputs": [],
   "source": []
  }
 ],
 "metadata": {
  "kernelspec": {
   "display_name": "Python 3",
   "language": "python",
   "name": "python3"
  },
  "language_info": {
   "codemirror_mode": {
    "name": "ipython",
    "version": 3
   },
   "file_extension": ".py",
   "mimetype": "text/x-python",
   "name": "python",
   "nbconvert_exporter": "python",
   "pygments_lexer": "ipython3",
   "version": "3.10.12"
  },
  "orig_nbformat": 4
 },
 "nbformat": 4,
 "nbformat_minor": 2
}
