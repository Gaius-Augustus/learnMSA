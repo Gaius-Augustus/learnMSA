{
 "cells": [
  {
   "cell_type": "code",
   "execution_count": 2,
   "id": "21bca030-c292-4498-8f5b-7760dda13313",
   "metadata": {},
   "outputs": [],
   "source": [
    "import numpy as np"
   ]
  },
  {
   "cell_type": "code",
   "execution_count": 10,
   "id": "073f6a33-acfb-4535-a53a-591d9cc0ef3a",
   "metadata": {},
   "outputs": [],
   "source": [
    "states = [\"N\", \"M1\", \"M2\", \"M3\", \"M4\", \"I1\", \"I2\", \"I3\", \"J\", \"C\", \"T\"]"
   ]
  },
  {
   "cell_type": "markdown",
   "id": "6d9b5019-a386-435d-b23b-cc9abfe1aebf",
   "metadata": {},
   "source": [
    "# Model A"
   ]
  },
  {
   "cell_type": "code",
   "execution_count": 12,
   "id": "d30208ac-c520-455b-972b-cc581bf3921e",
   "metadata": {},
   "outputs": [
    {
     "data": {
      "text/plain": [
       "[(0.6, 'N'),\n",
       " (0.24, 'M1'),\n",
       " (0.07200000000000001, 'M2'),\n",
       " (0.04400000000000001, 'M3'),\n",
       " (0.04320000000000001, 'M4'),\n",
       " (0, 'I1'),\n",
       " (0, 'I2'),\n",
       " (0, 'I3'),\n",
       " (0.00016000000000000007, 'J'),\n",
       " (0.0005600000000000002, 'C'),\n",
       " (8.000000000000003e-05, 'T')]"
      ]
     },
     "execution_count": 12,
     "metadata": {},
     "output_type": "execute_result"
    }
   ],
   "source": [
    "a_n = [0.6,\n",
    "       0.4*0.6, \n",
    "       0.4*(0.1+0.1*0.8), \n",
    "       0.4*(0.1+0.1*0.2*0.5), \n",
    "       0.4*(0.1+0.1*0.2*0.5*0.8), \n",
    "       0, \n",
    "       0, \n",
    "       0,\n",
    "       0.4*0.1*0.2*0.5*0.2*0.2, \n",
    "       0.4*0.1*0.2*0.5*0.2*0.7, \n",
    "       0.4*0.1*0.2*0.5*0.2*0.1]\n",
    "list(zip(a_n, states))"
   ]
  },
  {
   "cell_type": "code",
   "execution_count": 13,
   "id": "ff0b7ab5-1e77-4e48-afee-2521145a4b91",
   "metadata": {},
   "outputs": [
    {
     "data": {
      "text/plain": [
       "[(0, 'N'),\n",
       " (0, 'M1'),\n",
       " (0.97, 'M2'),\n",
       " (0.005, 'M3'),\n",
       " (0.004, 'M4'),\n",
       " (0.01, 'I1'),\n",
       " (0, 'I2'),\n",
       " (0, 'I3'),\n",
       " (0.0022, 'J'),\n",
       " (0.007699999999999999, 'C'),\n",
       " (0.0011, 'T')]"
      ]
     },
     "execution_count": 13,
     "metadata": {},
     "output_type": "execute_result"
    }
   ],
   "source": [
    "a_m1 = [0,\n",
    "        0,\n",
    "        0.97,\n",
    "        0.01*0.5,\n",
    "        0.01*0.5*0.8,\n",
    "        0.01,\n",
    "        0,\n",
    "        0,\n",
    "        (0.01*0.5*0.2+0.01)*0.2,\n",
    "        (0.01*0.5*0.2+0.01)*0.7,\n",
    "        (0.01*0.5*0.2+0.01)*0.1]\n",
    "list(zip(a_m1, states))"
   ]
  },
  {
   "cell_type": "code",
   "execution_count": 15,
   "id": "2cc5626e-1415-4196-bfba-1e6cfe3d8b7e",
   "metadata": {},
   "outputs": [
    {
     "data": {
      "text/plain": [
       "[(0, 'N'),\n",
       " (0, 'M1'),\n",
       " (0, 'M2'),\n",
       " (0.5, 'M3'),\n",
       " (0.32000000000000006, 'M4'),\n",
       " (0, 'I1'),\n",
       " (0.05, 'I2'),\n",
       " (0, 'I3'),\n",
       " (0.026000000000000002, 'J'),\n",
       " (0.091, 'C'),\n",
       " (0.013000000000000001, 'T')]"
      ]
     },
     "execution_count": 15,
     "metadata": {},
     "output_type": "execute_result"
    }
   ],
   "source": [
    "a_m2 = [0,\n",
    "        0, \n",
    "        0, \n",
    "        0.5,\n",
    "        0.4 * 0.8,\n",
    "        0, \n",
    "        0.05,\n",
    "        0, \n",
    "        (0.4*0.2+0.05)*0.2, \n",
    "        (0.4*0.2+0.05)*0.7, \n",
    "        (0.4*0.2+0.05)*0.1]\n",
    "list(zip(a_m2, states))"
   ]
  },
  {
   "cell_type": "code",
   "execution_count": 17,
   "id": "7886987b-9d35-438e-a75d-91c4d4b94c6d",
   "metadata": {},
   "outputs": [
    {
     "data": {
      "text/plain": [
       "[(0, 'N'),\n",
       " (0, 'M1'),\n",
       " (0, 'M2'),\n",
       " (0, 'M3'),\n",
       " (0.6, 'M4'),\n",
       " (0, 'I1'),\n",
       " (0, 'I2'),\n",
       " (0.3, 'I3'),\n",
       " (0.020000000000000004, 'J'),\n",
       " (0.06999999999999999, 'C'),\n",
       " (0.010000000000000002, 'T')]"
      ]
     },
     "execution_count": 17,
     "metadata": {},
     "output_type": "execute_result"
    }
   ],
   "source": [
    "a_m3 = [0,\n",
    "        0, \n",
    "        0, \n",
    "        0,\n",
    "        0.6,\n",
    "        0, \n",
    "        0,\n",
    "        0.3, \n",
    "        0.1*0.2, \n",
    "        0.1*0.7, \n",
    "        0.1*0.1]\n",
    "list(zip(a_m3, states))"
   ]
  },
  {
   "cell_type": "code",
   "execution_count": 21,
   "id": "6f1590f8-8be6-489a-9f6b-8633f09ecc2d",
   "metadata": {},
   "outputs": [
    {
     "data": {
      "text/plain": [
       "[(0, 'N'),\n",
       " (0.06, 'M1'),\n",
       " (0.018000000000000002, 'M2'),\n",
       " (0.011000000000000003, 'M3'),\n",
       " (0.010800000000000002, 'M4'),\n",
       " (0, 'I1'),\n",
       " (0, 'I2'),\n",
       " (0, 'I3'),\n",
       " (0.9000400000000001, 'J'),\n",
       " (0.00014000000000000004, 'C'),\n",
       " (2.000000000000001e-05, 'T')]"
      ]
     },
     "execution_count": 21,
     "metadata": {},
     "output_type": "execute_result"
    }
   ],
   "source": [
    "a_J = [0, \n",
    "       0.1*0.6,\n",
    "       0.1*(0.1+0.1*0.8),\n",
    "       0.1*(0.1+0.1*0.2*0.5),\n",
    "       0.1*(0.1+0.1*0.2*0.5*0.8), \n",
    "       0,\n",
    "       0,\n",
    "       0,\n",
    "       0.9+0.1*0.1*0.2*0.5*0.2*0.2,\n",
    "       0.1*0.1*0.2*0.5*0.2*0.7,\n",
    "       0.1*0.1*0.2*0.5*0.2*0.1]\n",
    "list(zip(a_J, states))"
   ]
  },
  {
   "cell_type": "code",
   "execution_count": 50,
   "id": "d50b57c3-6e23-4ce5-b285-8028e320bd79",
   "metadata": {},
   "outputs": [
    {
     "data": {
      "text/plain": [
       "0.009"
      ]
     },
     "execution_count": 50,
     "metadata": {},
     "output_type": "execute_result"
    }
   ],
   "source": [
    "#alpha(m2, 1)\n",
    "0.1 * 0.09"
   ]
  },
  {
   "cell_type": "code",
   "execution_count": 51,
   "id": "aa6d0498-3eb2-4ee0-8436-a2f62cdeccd0",
   "metadata": {},
   "outputs": [
    {
     "data": {
      "text/plain": [
       "0.0385"
      ]
     },
     "execution_count": 51,
     "metadata": {},
     "output_type": "execute_result"
    }
   ],
   "source": [
    "#alpha(m3, 1)\n",
    "0.7 * 0.055"
   ]
  },
  {
   "cell_type": "code",
   "execution_count": 52,
   "id": "3eb4c07b-19bf-47e6-9096-34bee6f08ee7",
   "metadata": {},
   "outputs": [
    {
     "data": {
      "text/plain": [
       "0.0486"
      ]
     },
     "execution_count": 52,
     "metadata": {},
     "output_type": "execute_result"
    }
   ],
   "source": [
    "#alpha(m4, 1)\n",
    "0.9 * 0.054"
   ]
  },
  {
   "cell_type": "code",
   "execution_count": 75,
   "id": "673165fd-0ad0-4305-9ff4-00fdce8865ba",
   "metadata": {},
   "outputs": [
    {
     "data": {
      "text/plain": [
       "0.1510422"
      ]
     },
     "execution_count": 75,
     "metadata": {},
     "output_type": "execute_result"
    }
   ],
   "source": [
    "#alpha(N, 2)\n",
    "0.5 * 0.503474 * 0.6"
   ]
  },
  {
   "cell_type": "code",
   "execution_count": 77,
   "id": "b3266fbe-09cf-47f4-a9ed-a9be95d729e8",
   "metadata": {},
   "outputs": [
    {
     "data": {
      "text/plain": [
       "0.06042290999999999"
      ]
     },
     "execution_count": 77,
     "metadata": {},
     "output_type": "execute_result"
    }
   ],
   "source": [
    "#alpha(m1, 2)\n",
    "0.5 * (a_n[1] * 0.503474 + a_J[1] * 0.000201)"
   ]
  },
  {
   "cell_type": "code",
   "execution_count": 78,
   "id": "fcb7c693-9897-4829-b3cd-9b379e8c3acc",
   "metadata": {},
   "outputs": [
    {
     "data": {
      "text/plain": [
       "0.2963477034"
      ]
     },
     "execution_count": 78,
     "metadata": {},
     "output_type": "execute_result"
    }
   ],
   "source": [
    "#alpha(m2, 2)\n",
    "0.9 * (a_n[2] * 0.503474 + a_J[2] * 0.000201 + 0.97 * 0.302084)"
   ]
  },
  {
   "cell_type": "code",
   "execution_count": 79,
   "id": "cf1a1b3b-1d8f-417d-8b81-7d51397bd1f4",
   "metadata": {},
   "outputs": [
    {
     "data": {
      "text/plain": [
       "0.0098183961"
      ]
     },
     "execution_count": 79,
     "metadata": {},
     "output_type": "execute_result"
    }
   ],
   "source": [
    "#alpha(m3, 2)\n",
    "0.3 * (a_n[3] * 0.503474 + a_J[3] * 0.000201 + 0.5 * 0.018125 + a_m1[3] * 0.302084)"
   ]
  },
  {
   "cell_type": "code",
   "execution_count": 80,
   "id": "c24a3396-ea27-49fd-9b52-1e11c2e4309f",
   "metadata": {},
   "outputs": [
    {
     "data": {
      "text/plain": [
       "0.007528158360000001"
      ]
     },
     "execution_count": 80,
     "metadata": {},
     "output_type": "execute_result"
    }
   ],
   "source": [
    "#alpha(m4, 2)\n",
    "0.1 * (a_n[4] * 0.503474 + a_J[4] * 0.000201 + 0.6 * 0.077535 + a_m1[4] * 0.302084 + a_m2[4] * 0.018125)"
   ]
  },
  {
   "cell_type": "code",
   "execution_count": 81,
   "id": "32a96c14-fe86-4c72-9031-34c640125c54",
   "metadata": {},
   "outputs": [
    {
     "data": {
      "text/plain": [
       "0.0015104200000000002"
      ]
     },
     "execution_count": 81,
     "metadata": {},
     "output_type": "execute_result"
    }
   ],
   "source": [
    "#alpha(i1, 2)\n",
    "0.5 * (0.01*0.302084)"
   ]
  },
  {
   "cell_type": "code",
   "execution_count": 82,
   "id": "043a0322-06ec-4311-9f8d-63d04861d03a",
   "metadata": {},
   "outputs": [
    {
     "data": {
      "text/plain": [
       "0.00045312499999999997"
      ]
     },
     "execution_count": 82,
     "metadata": {},
     "output_type": "execute_result"
    }
   ],
   "source": [
    "#alpha(i2, 2)\n",
    "0.5 * (0.05*0.018125)"
   ]
  },
  {
   "cell_type": "code",
   "execution_count": 83,
   "id": "10750b05-873f-4122-9604-c2d84002da99",
   "metadata": {},
   "outputs": [
    {
     "data": {
      "text/plain": [
       "0.01163025"
      ]
     },
     "execution_count": 83,
     "metadata": {},
     "output_type": "execute_result"
    }
   ],
   "source": [
    "#alpha(i2, 2)\n",
    "0.5 * (0.3*0.077535)"
   ]
  },
  {
   "cell_type": "code",
   "execution_count": 84,
   "id": "37231b2c-dd83-4f5b-848c-c640a402d6d6",
   "metadata": {},
   "outputs": [
    {
     "data": {
      "text/plain": [
       "0.011261499340000002"
      ]
     },
     "execution_count": 84,
     "metadata": {},
     "output_type": "execute_result"
    }
   ],
   "source": [
    "#alpha(J, 2)\n",
    "0.5 * (a_m1[8]*0.302084 \n",
    "       + a_m2[8]*0.018125 \n",
    "       + a_m3[8]*0.077535 \n",
    "       + 0.2*0.097875 \n",
    "       + a_n[8]*0.503474 \n",
    "       + a_J[8]*0.000201)"
   ]
  },
  {
   "cell_type": "code",
   "execution_count": 85,
   "id": "f372588b-a4b9-468b-82fc-34e195e65664",
   "metadata": {},
   "outputs": [
    {
     "data": {
      "text/plain": [
       "0.03927490862000001"
      ]
     },
     "execution_count": 85,
     "metadata": {},
     "output_type": "execute_result"
    }
   ],
   "source": [
    "#alpha(C, 2)\n",
    "0.5 * (a_m1[9]*0.302084 \n",
    "       + a_m2[9]*0.018125 \n",
    "       + a_m3[9]*0.077535 \n",
    "       + 0.7*0.097875 \n",
    "       + a_n[9]*0.503474 \n",
    "       + 0.5*0.000705)"
   ]
  },
  {
   "cell_type": "code",
   "execution_count": 87,
   "id": "61fa9400-828b-4843-9069-40c57fb2716e",
   "metadata": {},
   "outputs": [
    {
     "data": {
      "text/plain": [
       "0.07689372"
      ]
     },
     "execution_count": 87,
     "metadata": {},
     "output_type": "execute_result"
    }
   ],
   "source": [
    "#alpha(N, 3)\n",
    "0.5 * 0.2563124 * 0.6"
   ]
  },
  {
   "cell_type": "code",
   "execution_count": 88,
   "id": "6fae3294-06f6-46a6-83ec-711da6d03307",
   "metadata": {},
   "outputs": [
    {
     "data": {
      "text/plain": [
       "0.031330797"
      ]
     },
     "execution_count": 88,
     "metadata": {},
     "output_type": "execute_result"
    }
   ],
   "source": [
    "#alpha(m1, 3)\n",
    "0.5 * (a_n[1] * 0.2563124 + a_J[1] * 0.0191103)"
   ]
  },
  {
   "cell_type": "code",
   "execution_count": 106,
   "id": "37a7765e-bae7-4de1-999d-1e0f11b81228",
   "metadata": {},
   "outputs": [
    {
     "data": {
      "text/plain": [
       "0.01195391722"
      ]
     },
     "execution_count": 106,
     "metadata": {},
     "output_type": "execute_result"
    }
   ],
   "source": [
    "#alpha(m2, 3)\n",
    "0.1 * (a_n[2] * 0.2563124 + a_J[2] * 0.0191103 + 0.97 * 0.1025352 + 0.5*0.0025631)"
   ]
  },
  {
   "cell_type": "code",
   "execution_count": 97,
   "id": "c85745c1-c8e8-421b-b40f-92c95ec1212d",
   "metadata": {},
   "outputs": [
    {
     "data": {
      "text/plain": [
       "0.18468098942999997"
      ]
     },
     "execution_count": 97,
     "metadata": {},
     "output_type": "execute_result"
    }
   ],
   "source": [
    "#alpha(m3, 3)\n",
    "0.7 * (a_n[3] * 0.2563124 + a_J[3] * 0.0191103 + 0.5 * 0.5028898 + a_m1[3] * 0.1025352 + 0.5*0.0007689)"
   ]
  },
  {
   "cell_type": "code",
   "execution_count": 100,
   "id": "963cd43d-1235-47d1-86ff-1eeba27e156e",
   "metadata": {},
   "outputs": [
    {
     "data": {
      "text/plain": [
       "0.17323096834800003"
      ]
     },
     "execution_count": 100,
     "metadata": {},
     "output_type": "execute_result"
    }
   ],
   "source": [
    "#alpha(m4, 3)\n",
    "0.9 * (a_n[4] * 0.2563124 + a_J[4] * 0.0191103 + 0.6 * 0.0166614 + a_m1[4] * 0.1025352 + a_m2[4] * 0.5028898 + 0.5*0.0197361)"
   ]
  },
  {
   "cell_type": "code",
   "execution_count": 107,
   "id": "60624a7b-551c-47f6-88b6-84cf4dbc6c25",
   "metadata": {},
   "outputs": [
    {
     "data": {
      "text/plain": [
       "0.001153451"
      ]
     },
     "execution_count": 107,
     "metadata": {},
     "output_type": "execute_result"
    }
   ],
   "source": [
    "#alpha(i1, 3)\n",
    "0.5 * (0.01*0.1025352 + 0.5*0.0025631)"
   ]
  },
  {
   "cell_type": "code",
   "execution_count": 104,
   "id": "6ce119bf-93b9-4858-8886-1600ac4125dd",
   "metadata": {},
   "outputs": [
    {
     "data": {
      "text/plain": [
       "0.012764470000000003"
      ]
     },
     "execution_count": 104,
     "metadata": {},
     "output_type": "execute_result"
    }
   ],
   "source": [
    "#alpha(i2, 3)\n",
    "0.5 * (0.05*0.5028898 + 0.5*0.0007689)"
   ]
  },
  {
   "cell_type": "code",
   "execution_count": 105,
   "id": "2264b99a-37ce-4c70-a5d5-27331b5bf172",
   "metadata": {},
   "outputs": [
    {
     "data": {
      "text/plain": [
       "0.007433235"
      ]
     },
     "execution_count": 105,
     "metadata": {},
     "output_type": "execute_result"
    }
   ],
   "source": [
    "#alpha(i3, 3)\n",
    "0.5 * (0.3*0.0166614 + 0.5*0.0197361)"
   ]
  },
  {
   "cell_type": "code",
   "execution_count": 108,
   "id": "26e423fc-6d07-44d4-9f69-d5a58cf71313",
   "metadata": {},
   "outputs": [
    {
     "data": {
      "text/plain": [
       "0.016714992318000003"
      ]
     },
     "execution_count": 108,
     "metadata": {},
     "output_type": "execute_result"
    }
   ],
   "source": [
    "#alpha(J, 3)\n",
    "0.5 * (a_m1[8]*0.1025352 \n",
    "       + a_m2[8]*0.5028898 \n",
    "       + a_m3[8]*0.0166614 \n",
    "       + 0.2*0.012775 \n",
    "       + a_n[8]*0.2563124 \n",
    "       + a_J[8]*0.0191103)"
   ]
  },
  {
   "cell_type": "code",
   "execution_count": 114,
   "id": "a0935594-3c9d-4fb5-ae2c-cfbaf88b2256",
   "metadata": {},
   "outputs": [
    {
     "data": {
      "text/plain": [
       "0.048398114613000004"
      ]
     },
     "execution_count": 114,
     "metadata": {},
     "output_type": "execute_result"
    }
   ],
   "source": [
    "#alpha(C, 3)\n",
    "0.5 * (a_m1[9]*0.1025352 \n",
    "       + a_m2[9]*0.5028898 \n",
    "       + a_m3[9]*0.0166614 \n",
    "       + 0.7*0.012775 \n",
    "       + a_n[9]*0.2563124 \n",
    "       + 0.6*0.06664788\n",
    "       + a_J[9]*0.0191103)"
   ]
  },
  {
   "cell_type": "code",
   "execution_count": 74,
   "id": "dadeac67-7bca-4f1c-8601-08e8263ff96f",
   "metadata": {},
   "outputs": [
    {
     "data": {
      "text/plain": [
       "array([5.03473970e-01, 3.02084382e-01, 1.81250629e-02, 7.75349914e-02,\n",
       "       9.78753398e-02, 0.00000000e+00, 0.00000000e+00, 0.00000000e+00,\n",
       "       2.01389588e-04, 7.04863559e-04, 0.00000000e+00])"
      ]
     },
     "execution_count": 74,
     "metadata": {},
     "output_type": "execute_result"
    }
   ],
   "source": [
    "alpha_1 = np.array([0.25, 0.15, 0.009, 0.0385, 0.0486, 0, 0, 0, 0.0001, 0.00035, 0])\n",
    "alpha_1 / np.sum(alpha_1)"
   ]
  },
  {
   "cell_type": "code",
   "execution_count": 86,
   "id": "8466a84e-1efd-45c0-b0f7-8048a7016048",
   "metadata": {},
   "outputs": [
    {
     "data": {
      "text/plain": [
       "array([0.25631237, 0.10253516, 0.50288979, 0.01666142, 0.01277504,\n",
       "       0.00256309, 0.00076889, 0.01973605, 0.0191103 , 0.06664788,\n",
       "       0.        ])"
      ]
     },
     "execution_count": 86,
     "metadata": {},
     "output_type": "execute_result"
    }
   ],
   "source": [
    "alpha_2 = np.array([0.1510422, 0.0604229, 0.2963477, \n",
    "                                        0.0098184, 0.0075282, 0.0015104, \n",
    "                                        0.0004531, 0.01163025, 0.0112615, \n",
    "                                        0.0392749, 0])\n",
    "alpha_2 / np.sum(alpha_2)"
   ]
  },
  {
   "cell_type": "markdown",
   "id": "e7b965dd-3eb1-46a4-a7e0-ffa8d7051c77",
   "metadata": {},
   "source": [
    "# Model B"
   ]
  },
  {
   "cell_type": "code",
   "execution_count": 117,
   "id": "15813a75-7b3c-4192-8d64-8f1e69622c27",
   "metadata": {},
   "outputs": [],
   "source": [
    "A_ref = np.zeros((9, 9))\n",
    "A_ref[0,0] = .6\n",
    "A_ref[0,1] = .4*.7\n",
    "A_ref[0,2] = .4*(.1 + .1*.8)\n",
    "A_ref[0,3] = .4*(.1 + .1*.2*.5)\n",
    "A_ref[0,6] = .4*.1*.2*.5*.2\n",
    "A_ref[0,7] = .4*.1*.2*.5*.7\n",
    "A_ref[0,8] = .4*.1*.2*.5*.1\n",
    "A_ref[np.arange(1,3),np.arange(2,4)] = [0.97, 0.5]\n",
    "A_ref[np.arange(1,3),np.arange(4,6)] = [0.01, 0.05]\n",
    "A_ref[1,3] = .01*.5\n",
    "A_ref[1,6] = .2*(.01*.5+.01)\n",
    "A_ref[1,7] = .7*(.01*.5+.01)\n",
    "A_ref[1,8] = .1*(.01*.5+.01)\n",
    "A_ref[2,6] = .2*(.4+.05)\n",
    "A_ref[2,7] = .7*(.4+.05)\n",
    "A_ref[2,8] = .1*(.4+.05)\n",
    "A_ref[3,6] = .2\n",
    "A_ref[3,7] = .7\n",
    "A_ref[3,8] = .1\n",
    "A_ref[np.arange(4,6),np.arange(2,4)] = [0.5, 0.9]\n",
    "A_ref[np.arange(4,6),np.arange(4,6)] = [0.5, 0.1]\n",
    "A_ref[6,6] = .9 + .1*.1*.2*.5*.2\n",
    "A_ref[6,1] = .1*.7\n",
    "A_ref[6,2] = .1*(.1+.1*.8)\n",
    "A_ref[6,3] = .1*(.1+.1*.2*.5)\n",
    "A_ref[6,7] = .1*.1*.2*.5*.7\n",
    "A_ref[6,8] = .1*.1*.2*.5*.1\n",
    "A_ref[7,7] = 0.6\n",
    "A_ref[7,8] = 0.4\n",
    "A_ref[8,8] = 1"
   ]
  },
  {
   "cell_type": "code",
   "execution_count": 138,
   "id": "165827e2-f56b-42c5-bfe8-fbd47f69596d",
   "metadata": {},
   "outputs": [],
   "source": [
    "P_0 = [0.5, \n",
    "       0.5*0.7,\n",
    "       0.5*(0.1 + 0.1*0.8),\n",
    "       0.5*(0.1 + 0.1*0.2*0.5),\n",
    "       0, \n",
    "       0,\n",
    "       0.5*0.1*0.2*0.5*0.2,\n",
    "       0.5*0.1*0.2*0.5*0.7,\n",
    "       0.5*0.1*0.2*0.5*0.1]"
   ]
  },
  {
   "cell_type": "code",
   "execution_count": 139,
   "id": "500a8b82-91e7-4587-8d96-6e0c61226320",
   "metadata": {},
   "outputs": [
    {
     "data": {
      "text/plain": [
       "[0.5,\n",
       " 0.35,\n",
       " 0.09000000000000001,\n",
       " 0.05500000000000001,\n",
       " 0,\n",
       " 0,\n",
       " 0.0010000000000000002,\n",
       " 0.0035000000000000005,\n",
       " 0.0005000000000000001]"
      ]
     },
     "execution_count": 139,
     "metadata": {},
     "output_type": "execute_result"
    }
   ],
   "source": [
    "P_0"
   ]
  },
  {
   "cell_type": "code",
   "execution_count": 140,
   "id": "971b0352-a8d6-47af-8b31-5fc709212223",
   "metadata": {},
   "outputs": [
    {
     "data": {
      "text/plain": [
       "(array([0.25   , 0.175  , 0.009  , 0.0385 , 0.     , 0.     , 0.0005 ,\n",
       "        0.00175, 0.     ]),\n",
       " array([0.52659294, 0.36861506, 0.01895735, 0.08109531, 0.        ,\n",
       "        0.        , 0.00105319, 0.00368615, 0.        ]))"
      ]
     },
     "execution_count": 140,
     "metadata": {},
     "output_type": "execute_result"
    }
   ],
   "source": [
    "#alpha(.,1)\n",
    "alpha1 = np.multiply(0.5, P_0)\n",
    "alpha1[2] *= 2 * 0.1\n",
    "alpha1[3] *= 2 * 0.7\n",
    "alpha1[-1] = 0\n",
    "alpha1, alpha1/np.sum(alpha1)"
   ]
  },
  {
   "cell_type": "code",
   "execution_count": 143,
   "id": "add39cdc-a426-435e-b1c1-ed3b4d224ebc",
   "metadata": {},
   "outputs": [
    {
     "data": {
      "text/plain": [
       "array([0.075     , 0.0350175 , 0.1689831 , 0.00491415, 0.000875  ,\n",
       "       0.000225  , 0.00484255, 0.01668642, 0.        ])"
      ]
     },
     "execution_count": 143,
     "metadata": {},
     "output_type": "execute_result"
    }
   ],
   "source": [
    "#alpha(., 2)\n",
    "alpha2 = np.matmul(alpha1, A_ref)\n",
    "alpha2 *= np.array([0.5, 0.5, 0.9, 0.3, 0.5, 0.5, 0.5, 0.5, 0])\n",
    "alpha2"
   ]
  },
  {
   "cell_type": "code",
   "execution_count": 144,
   "id": "5586d8fa-5da8-412c-9ca6-913382ec37b6",
   "metadata": {},
   "outputs": [
    {
     "data": {
      "text/plain": [
       "array([0.0225    , 0.01066949, 0.00398916, 0.06175568, 0.00039384,\n",
       "       0.00423583, 0.01035781, 0.03363126, 0.        ])"
      ]
     },
     "execution_count": 144,
     "metadata": {},
     "output_type": "execute_result"
    }
   ],
   "source": [
    "#alpha(., 3)\n",
    "alpha3 = np.matmul(alpha2, A_ref)\n",
    "alpha3 *= np.array([0.5, 0.5, 0.1, 0.7, 0.5, 0.5, 0.5, 0.5, 0])\n",
    "alpha3"
   ]
  },
  {
   "cell_type": "markdown",
   "id": "0e37510b-859d-42d7-b55d-90fc0ecef4c7",
   "metadata": {},
   "source": [
    "# Backward"
   ]
  },
  {
   "cell_type": "code",
   "execution_count": 3,
   "id": "ee77da9f-ae32-4c99-9f42-f045db63163b",
   "metadata": {},
   "outputs": [
    {
     "data": {
      "text/plain": [
       "(array([0.09615385, 0.09615385, 0.01923077, 0.13461538, 0.17307692,\n",
       "        0.09615385, 0.09615385, 0.09615385, 0.09615385, 0.09615385,\n",
       "        0.        ]),\n",
       " array([0.5, 0.5, 0.1, 0.7, 0.9, 0.5, 0.5, 0.5, 0.5, 0.5, 0. ]))"
      ]
     },
     "execution_count": 3,
     "metadata": {},
     "output_type": "execute_result"
    }
   ],
   "source": [
    "beta3 = np.array([0.5, 0.5, 0.1, 0.7, 0.9, 0.5, 0.5, 0.5, 0.5, 0.5, 0])\n",
    "beta3_scaled = beta3 / np.sum(beta3)\n",
    "beta3_scaled, beta3"
   ]
  },
  {
   "cell_type": "code",
   "execution_count": 4,
   "id": "0463ccb2-972c-4dda-a761-9329ddae095e",
   "metadata": {},
   "outputs": [
    {
     "data": {
      "text/plain": [
       "array([0.24862003, 0.05702499, 0.64934999, 0.22049999, 0.045     ,\n",
       "       0.15      , 0.3       , 0.35      , 0.249655  , 0.15000001,\n",
       "       0.        ])"
      ]
     },
     "execution_count": 4,
     "metadata": {},
     "output_type": "execute_result"
    }
   ],
   "source": [
    "A_t = np.array([[-5.1082557e-01, -7.3682724e+01, -7.3682724e+01, -7.3682724e+01,\n",
    "   -7.3682724e+01, -7.3682724e+01, -7.3682724e+01, -7.3682724e+01,\n",
    "   -7.3682724e+01, -7.3682724e+01, -7.3682724e+01],\n",
    "  [-1.4271162e+00, -7.3682724e+01, -7.3682724e+01, -7.3682724e+01,\n",
    "   -7.3682724e+01, -7.3682724e+01, -7.3682724e+01, -7.3682724e+01,\n",
    "   -2.8134105e+00, -7.3682724e+01, -7.3682724e+01],\n",
    "  [-2.6310890e+00, -3.0459363e-02, -7.3682724e+01, -7.3682724e+01,\n",
    "   -7.3682724e+01, -6.9314718e-01, -7.3682724e+01, -7.3682724e+01,\n",
    "   -4.0173836e+00, -7.3682724e+01, -7.3682724e+01],\n",
    "  [-3.1235654e+00, -5.2983174e+00, -6.9314718e-01, -7.3682724e+01,\n",
    "   -7.3682724e+01, -7.3682724e+01, -6.9314718e-01, -7.3682724e+01,\n",
    "   -4.5098600e+00, -7.3682724e+01, -7.3682724e+01],\n",
    "  [-3.1419146e+00, -5.5214610e+00, -1.1394343e+00, -5.1082569e-01,\n",
    "   -7.3682724e+01, -7.3682724e+01, -7.3682724e+01, -6.9314718e-01,\n",
    "   -4.5282087e+00, -7.3682724e+01, -7.3682724e+01],\n",
    "  [-7.3682724e+01, -4.6051702e+00, -7.3682724e+01, -7.3682724e+01,\n",
    "   -7.3682724e+01, -6.9314718e-01, -7.3682724e+01, -7.3682724e+01,\n",
    "   -7.3682724e+01, -7.3682724e+01, -7.3682724e+01],\n",
    "  [-7.3682724e+01, -7.3682724e+01, -2.9957323e+00, -7.3682724e+01,\n",
    "   -7.3682724e+01, -7.3682724e+01, -6.9314718e-01, -7.3682724e+01,\n",
    "   -7.3682724e+01, -7.3682724e+01, -7.3682724e+01],\n",
    "  [-7.3682724e+01, -7.3682724e+01, -7.3682724e+01, -1.2039728e+00,\n",
    "   -7.3682724e+01, -7.3682724e+01, -7.3682724e+01, -6.9314718e-01,\n",
    "   -7.3682724e+01, -7.3682724e+01, -7.3682724e+01],\n",
    "  [-8.7403374e+00, -6.1192980e+00, -3.6496589e+00, -3.9120231e+00,\n",
    "   -1.6094379e+00, -7.3682724e+01, -7.3682724e+01, -7.3682724e+01,\n",
    "   -1.0531610e-01, -7.3682724e+01, -7.3682724e+01],\n",
    "  [-7.4875741e+00, -4.8665352e+00, -2.3968959e+00, -2.6592600e+00,\n",
    "   -3.5667497e-01, -7.3682724e+01, -7.3682724e+01, -7.3682724e+01,\n",
    "   -8.8738680e+00, -5.1082557e-01, -7.3682724e+01],\n",
    "  [-9.4334841e+00, -6.8124452e+00, -4.3428059e+00, -4.6051702e+00,\n",
    "   -2.3025851e+00, -7.3682724e+01, -7.3682724e+01, -7.3682724e+01,\n",
    "   -1.0819778e+01, -9.1629070e-01,  0.0000000e+00]])\n",
    "A_t = np.exp(A_t)\n",
    "em2 = np.array([0.5, 0.5, 0.9, 0.3, 0.1, 0.5, 0.5, 0.5, 0.5, 0.5, 0])\n",
    "beta2 = em2 * np.matmul(beta3, A_t)\n",
    "beta2"
   ]
  },
  {
   "cell_type": "code",
   "execution_count": 6,
   "id": "d166d78d-cba7-42f1-91d9-049834d6b2b3",
   "metadata": {},
   "outputs": [
    {
     "data": {
      "text/plain": [
       "array([0.49724005, 0.11404998, 0.72149999, 0.73499997, 0.44999999,\n",
       "       0.3       , 0.6       , 0.7       , 0.49931   , 0.30000002,\n",
       "       0.        ])"
      ]
     },
     "execution_count": 6,
     "metadata": {},
     "output_type": "execute_result"
    }
   ],
   "source": [
    "beta2 / (1-beta3)"
   ]
  },
  {
   "cell_type": "code",
   "execution_count": null,
   "id": "5be05d18-9bca-41f7-af86-c6afe2eb7781",
   "metadata": {},
   "outputs": [],
   "source": []
  }
 ],
 "metadata": {
  "kernelspec": {
   "display_name": "Python 3",
   "language": "python",
   "name": "python3"
  },
  "language_info": {
   "codemirror_mode": {
    "name": "ipython",
    "version": 3
   },
   "file_extension": ".py",
   "mimetype": "text/x-python",
   "name": "python",
   "nbconvert_exporter": "python",
   "pygments_lexer": "ipython3",
   "version": "3.9.2"
  }
 },
 "nbformat": 4,
 "nbformat_minor": 5
}
