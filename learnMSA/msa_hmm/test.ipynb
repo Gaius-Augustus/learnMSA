{
 "cells": [
  {
   "cell_type": "code",
   "execution_count": null,
   "id": "1fb59a2d",
   "metadata": {},
   "outputs": [
    {
     "name": "stderr",
     "output_type": "stream",
     "text": [
      "2025-04-24 14:54:01.328885: E external/local_xla/xla/stream_executor/cuda/cuda_fft.cc:485] Unable to register cuFFT factory: Attempting to register factory for plugin cuFFT when one has already been registered\n",
      "2025-04-24 14:54:01.344765: E external/local_xla/xla/stream_executor/cuda/cuda_dnn.cc:8454] Unable to register cuDNN factory: Attempting to register factory for plugin cuDNN when one has already been registered\n",
      "2025-04-24 14:54:01.349626: E external/local_xla/xla/stream_executor/cuda/cuda_blas.cc:1452] Unable to register cuBLAS factory: Attempting to register factory for plugin cuBLAS when one has already been registered\n",
      "2025-04-24 14:54:01.361914: I tensorflow/core/platform/cpu_feature_guard.cc:210] This TensorFlow binary is optimized to use available CPU instructions in performance-critical operations.\n",
      "To enable the following instructions: AVX2 FMA, in other operations, rebuild TensorFlow with the appropriate compiler flags.\n",
      "2025-04-24 14:54:02.022477: W tensorflow/compiler/tf2tensorrt/utils/py_utils.cc:38] TF-TRT Warning: Could not find TensorRT\n"
     ]
    }
   ],
   "source": [
    "import tensorflow as tf\n",
    "\n",
    "class Base:\n",
    "    transitioner: tf.Tensor\n",
    "\n",
    "    def print(self):\n",
    "        print(self.transitioner)\n",
    "\n",
    "class Derived(Base):\n",
    "    def __init__(self):\n",
    "        self.transitioner = tf.constant(0.0, dtype=tf.float32)"
   ]
  },
  {
   "cell_type": "code",
   "execution_count": null,
   "id": "4c5b5b53",
   "metadata": {},
   "outputs": [],
   "source": [
    "A = tf.Tensor\n",
    "B = tf.Tensor\n",
    "\n",
    "def f() -> A:\n",
    "    return tf.constant(0.0, dtype=tf.float32)\n",
    "\n",
    "tf.reduce_sum(f())"
   ]
  },
  {
   "cell_type": "code",
   "execution_count": null,
   "id": "280c3760",
   "metadata": {},
   "outputs": [],
   "source": [
    "import tensorflow as tf\n",
    "\n",
    "def my_function(x: tf.Tensor) -> tf.Tensor:\n",
    "    return tf.math.square(x)\n",
    "\n",
    "X = tf.constant([1.0, 2.0, 3.0])\n",
    "\n",
    "result = my_function(X)"
   ]
  }
 ],
 "metadata": {
  "kernelspec": {
   "display_name": "learnMSAdev",
   "language": "python",
   "name": "python3"
  },
  "language_info": {
   "codemirror_mode": {
    "name": "ipython",
    "version": 3
   },
   "file_extension": ".py",
   "mimetype": "text/x-python",
   "name": "python",
   "nbconvert_exporter": "python",
   "pygments_lexer": "ipython3",
   "version": "3.12.7"
  }
 },
 "nbformat": 4,
 "nbformat_minor": 5
}
